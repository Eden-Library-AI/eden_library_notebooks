{
  "nbformat": 4,
  "nbformat_minor": 0,
  "metadata": {
    "accelerator": "GPU",
    "colab": {
      "name": "weeds_identification-transfer_learning-7.ipynb",
      "provenance": [],
      "collapsed_sections": []
    },
    "kernelspec": {
      "display_name": "Python 3",
      "language": "python",
      "name": "python3"
    },
    "language_info": {
      "codemirror_mode": {
        "name": "ipython",
        "version": 3
      },
      "file_extension": ".py",
      "mimetype": "text/x-python",
      "name": "python",
      "nbconvert_exporter": "python",
      "pygments_lexer": "ipython3",
      "version": "3.6.8"
    },
    "widgets": {
      "application/vnd.jupyter.widget-state+json": {
        "8058e4f2252f43b3bfc80a843d617905": {
          "model_module": "@jupyter-widgets/controls",
          "model_name": "HBoxModel",
          "state": {
            "_view_name": "HBoxView",
            "_dom_classes": [],
            "_model_name": "HBoxModel",
            "_view_module": "@jupyter-widgets/controls",
            "_model_module_version": "1.5.0",
            "_view_count": null,
            "_view_module_version": "1.5.0",
            "box_style": "",
            "layout": "IPY_MODEL_597e590352c143f7bd3d45a30d72ea88",
            "_model_module": "@jupyter-widgets/controls",
            "children": [
              "IPY_MODEL_a6390e52137a49ee9d981268a9cb3d68",
              "IPY_MODEL_516ed6a3704249d580b9ff66f442d834"
            ]
          }
        },
        "597e590352c143f7bd3d45a30d72ea88": {
          "model_module": "@jupyter-widgets/base",
          "model_name": "LayoutModel",
          "state": {
            "_view_name": "LayoutView",
            "grid_template_rows": null,
            "right": null,
            "justify_content": null,
            "_view_module": "@jupyter-widgets/base",
            "overflow": null,
            "_model_module_version": "1.2.0",
            "_view_count": null,
            "flex_flow": null,
            "width": null,
            "min_width": null,
            "border": null,
            "align_items": null,
            "bottom": null,
            "_model_module": "@jupyter-widgets/base",
            "top": null,
            "grid_column": null,
            "overflow_y": null,
            "overflow_x": null,
            "grid_auto_flow": null,
            "grid_area": null,
            "grid_template_columns": null,
            "flex": null,
            "_model_name": "LayoutModel",
            "justify_items": null,
            "grid_row": null,
            "max_height": null,
            "align_content": null,
            "visibility": null,
            "align_self": null,
            "height": null,
            "min_height": null,
            "padding": null,
            "grid_auto_rows": null,
            "grid_gap": null,
            "max_width": null,
            "order": null,
            "_view_module_version": "1.2.0",
            "grid_template_areas": null,
            "object_position": null,
            "object_fit": null,
            "grid_auto_columns": null,
            "margin": null,
            "display": null,
            "left": null
          }
        },
        "a6390e52137a49ee9d981268a9cb3d68": {
          "model_module": "@jupyter-widgets/controls",
          "model_name": "FloatProgressModel",
          "state": {
            "_view_name": "ProgressView",
            "style": "IPY_MODEL_2ea2870da6584c60bc33c66bd5077719",
            "_dom_classes": [],
            "description": "100%",
            "_model_name": "FloatProgressModel",
            "bar_style": "success",
            "max": 46830571,
            "_view_module": "@jupyter-widgets/controls",
            "_model_module_version": "1.5.0",
            "value": 46830571,
            "_view_count": null,
            "_view_module_version": "1.5.0",
            "orientation": "horizontal",
            "min": 0,
            "description_tooltip": null,
            "_model_module": "@jupyter-widgets/controls",
            "layout": "IPY_MODEL_b190165fbff149b69b490ca8ffa437b9"
          }
        },
        "516ed6a3704249d580b9ff66f442d834": {
          "model_module": "@jupyter-widgets/controls",
          "model_name": "HTMLModel",
          "state": {
            "_view_name": "HTMLView",
            "style": "IPY_MODEL_5fa532133b1e4b4e9656c83ab4b00d2d",
            "_dom_classes": [],
            "description": "",
            "_model_name": "HTMLModel",
            "placeholder": "​",
            "_view_module": "@jupyter-widgets/controls",
            "_model_module_version": "1.5.0",
            "value": " 44.7M/44.7M [44:34&lt;00:00, 17.5kB/s]",
            "_view_count": null,
            "_view_module_version": "1.5.0",
            "description_tooltip": null,
            "_model_module": "@jupyter-widgets/controls",
            "layout": "IPY_MODEL_ef6fe6f2b0534b9a8099562868e71f87"
          }
        },
        "2ea2870da6584c60bc33c66bd5077719": {
          "model_module": "@jupyter-widgets/controls",
          "model_name": "ProgressStyleModel",
          "state": {
            "_view_name": "StyleView",
            "_model_name": "ProgressStyleModel",
            "description_width": "initial",
            "_view_module": "@jupyter-widgets/base",
            "_model_module_version": "1.5.0",
            "_view_count": null,
            "_view_module_version": "1.2.0",
            "bar_color": null,
            "_model_module": "@jupyter-widgets/controls"
          }
        },
        "b190165fbff149b69b490ca8ffa437b9": {
          "model_module": "@jupyter-widgets/base",
          "model_name": "LayoutModel",
          "state": {
            "_view_name": "LayoutView",
            "grid_template_rows": null,
            "right": null,
            "justify_content": null,
            "_view_module": "@jupyter-widgets/base",
            "overflow": null,
            "_model_module_version": "1.2.0",
            "_view_count": null,
            "flex_flow": null,
            "width": null,
            "min_width": null,
            "border": null,
            "align_items": null,
            "bottom": null,
            "_model_module": "@jupyter-widgets/base",
            "top": null,
            "grid_column": null,
            "overflow_y": null,
            "overflow_x": null,
            "grid_auto_flow": null,
            "grid_area": null,
            "grid_template_columns": null,
            "flex": null,
            "_model_name": "LayoutModel",
            "justify_items": null,
            "grid_row": null,
            "max_height": null,
            "align_content": null,
            "visibility": null,
            "align_self": null,
            "height": null,
            "min_height": null,
            "padding": null,
            "grid_auto_rows": null,
            "grid_gap": null,
            "max_width": null,
            "order": null,
            "_view_module_version": "1.2.0",
            "grid_template_areas": null,
            "object_position": null,
            "object_fit": null,
            "grid_auto_columns": null,
            "margin": null,
            "display": null,
            "left": null
          }
        },
        "5fa532133b1e4b4e9656c83ab4b00d2d": {
          "model_module": "@jupyter-widgets/controls",
          "model_name": "DescriptionStyleModel",
          "state": {
            "_view_name": "StyleView",
            "_model_name": "DescriptionStyleModel",
            "description_width": "",
            "_view_module": "@jupyter-widgets/base",
            "_model_module_version": "1.5.0",
            "_view_count": null,
            "_view_module_version": "1.2.0",
            "_model_module": "@jupyter-widgets/controls"
          }
        },
        "ef6fe6f2b0534b9a8099562868e71f87": {
          "model_module": "@jupyter-widgets/base",
          "model_name": "LayoutModel",
          "state": {
            "_view_name": "LayoutView",
            "grid_template_rows": null,
            "right": null,
            "justify_content": null,
            "_view_module": "@jupyter-widgets/base",
            "overflow": null,
            "_model_module_version": "1.2.0",
            "_view_count": null,
            "flex_flow": null,
            "width": null,
            "min_width": null,
            "border": null,
            "align_items": null,
            "bottom": null,
            "_model_module": "@jupyter-widgets/base",
            "top": null,
            "grid_column": null,
            "overflow_y": null,
            "overflow_x": null,
            "grid_auto_flow": null,
            "grid_area": null,
            "grid_template_columns": null,
            "flex": null,
            "_model_name": "LayoutModel",
            "justify_items": null,
            "grid_row": null,
            "max_height": null,
            "align_content": null,
            "visibility": null,
            "align_self": null,
            "height": null,
            "min_height": null,
            "padding": null,
            "grid_auto_rows": null,
            "grid_gap": null,
            "max_width": null,
            "order": null,
            "_view_module_version": "1.2.0",
            "grid_template_areas": null,
            "object_position": null,
            "object_fit": null,
            "grid_auto_columns": null,
            "margin": null,
            "display": null,
            "left": null
          }
        }
      }
    }
  },
  "cells": [
    {
      "cell_type": "markdown",
      "metadata": {
        "id": "QquaYpB00hfs"
      },
      "source": [
        "[<img src=\"https://user-images.githubusercontent.com/79705081/109483674-d3eea600-7a7f-11eb-9a25-58c50da4cde9.png\">](http://edenlibrary.ai/)"
      ]
    },
    {
      "cell_type": "markdown",
      "metadata": {
        "id": "yp-OgP370hft"
      },
      "source": [
        "## Instructions\n",
        "To run any of Eden's notebooks, please check the guides on our [Wiki page](https://github.com/Eden-Library-AI/eden_library_notebooks/wiki).<br>\n",
        "There you will find instructions on how to deploy the notebooks on [your local system](https://github.com/Eden-Library-AI/eden_library_notebooks/wiki/Deploy-Notebooks-Locally), on [Google Colab](https://github.com/Eden-Library-AI/eden_library_notebooks/wiki/Deploy-Notebooks-on-GColab), or on [MyBinder](https://github.com/Eden-Library-AI/eden_library_notebooks/wiki/Deploy-Notebooks-on-MyBinder), as well as other useful links, troubleshooting tips, and more.<br>\n",
        "For this notebook you will need to download the **Cotton-100619-Healthy-zz-V1-20210225102300**, **Black nightsade-220519-Weed-zz-V1-20210225102034**, **Tomato-240519-Healthy-zz-V1-20210225103740** and **Velvet leaf-220519-Weed-zz-V1-20210225104123** datasets from [Eden Library](https://edenlibrary.ai/datasets), and you may want to use the **eden_pytorch_transfer_learning.yml** file to recreate a suitable conda environment.\n",
        "\n",
        "**Note:** If you find any issues while executing the notebook, don't hesitate to open an issue on Github. We will try to reply as soon as possible."
      ]
    },
    {
      "cell_type": "markdown",
      "metadata": {
        "id": "dwqUKc-L0hft"
      },
      "source": [
        "## Background\n",
        "\n",
        "Open Neural Network Exchange ONNX provides an open source format for AI models, both deep learning and traditional ML. It defines an extensible computation graph model, as well as definitions of built-in operators and standard data types. \n",
        "\n",
        "ONNX is widely supported and can be found in many frameworks, tools, and hardware. Enabling interoperability between different frameworks and streamlining the path from research to production helps increase the speed of innovation in the AI community\n",
        "\n",
        "ONNX Runtime is a performance-focused engine for ONNX models, which inferences efficiently across multiple platforms and hardware (Windows, Linux, and Mac and on both CPUs and GPUs). ONNX Runtime has proved to considerably increase performance over multiple models.\n",
        "\n",
        "For this tutorial, you will need to install ONNX and ONNX Runtime. You can get binary builds of ONNX and ONNX Runtime with pip install onnx onnxruntime. Note that ONNX Runtime is compatible with Python versions 3.5 to 3.7.\n",
        "\n",
        "In this notebook we are going to make use of ONNX format and export our model from PyTorch to ONNX. Furthermore, we are going to use onnnxruntime to run inference.\n",
        "\n",
        "In this notebook, we are going to cover a technique called **Transfer Learning**, which generally refers to a process where a machine learning model is trained on one problem, and afterwards, it is reused in some way on a second (possibly) related problem (Bengio, 2012). Specifically, in **deep learning**, this technique is used by training only some layers of the pre-trained network. Its promise is that the training will be more efficient and in the best of the cases the performance will be better compared to a model trained from scratch. In this example we are using ResNet architecture and the PyTorch framework.\n",
        "\n",
        "It is important to note that in this notebook, inspite of making use of ONNX, we are also using the PyTorch framework to design and train our neural networks. This represents an extension over the previous Eden notebooks:\n",
        "1. https://github.com/Eden-Library-AI/eden_library_notebooks/blob/master/image_classification/weeds_identification-transfer_learning-1.ipynb\n",
        "2. https://github.com/Eden-Library-AI/eden_library_notebooks/blob/master/image_classification/weeds_identification-transfer_learning-2.ipynb\n",
        "3. https://github.com/Eden-Library-AI/eden_library_notebooks/blob/master/image_classification/weeds_identification-transfer_learning-3.ipynb\n",
        "4. https://github.com/Eden-Library-AI/eden_library_notebooks/blob/master/image_classification/weeds_identification-transfer_learning-4.ipynb\n",
        "5. https://github.com/Eden-Library-AI/eden_library_notebooks/blob/master/image_classification/weeds_identification-transfer_learning-5.ipynb"
      ]
    },
    {
      "cell_type": "markdown",
      "metadata": {
        "id": "HEZ1kYtlIJIf"
      },
      "source": [
        "### Importing Libraries"
      ]
    },
    {
      "cell_type": "code",
      "metadata": {
        "collapsed": true,
        "id": "hhJqeMkfivXv",
        "jupyter": {
          "outputs_hidden": true
        },
        "tags": [],
        "colab": {
          "base_uri": "https://localhost:8080/"
        },
        "outputId": "903c1b7e-6bac-4fdb-a3ba-7817a907f8b0"
      },
      "source": [
        "# In case it is not installed in your system run pip installs ( Google Colab doesn't have onnx by default)\n",
        "!pip install onnx\n",
        "!pip install onnxruntime"
      ],
      "execution_count": 1,
      "outputs": [
        {
          "output_type": "stream",
          "text": [
            "Collecting onnx\n",
            "\u001b[?25l  Downloading https://files.pythonhosted.org/packages/3f/9b/54c950d3256e27f970a83cd0504efb183a24312702deed0179453316dbd0/onnx-1.9.0-cp37-cp37m-manylinux2010_x86_64.whl (12.2MB)\n",
            "\u001b[K     |████████████████████████████████| 12.2MB 255kB/s \n",
            "\u001b[?25hRequirement already satisfied: six in /usr/local/lib/python3.7/dist-packages (from onnx) (1.15.0)\n",
            "Requirement already satisfied: numpy>=1.16.6 in /usr/local/lib/python3.7/dist-packages (from onnx) (1.19.5)\n",
            "Requirement already satisfied: protobuf in /usr/local/lib/python3.7/dist-packages (from onnx) (3.12.4)\n",
            "Requirement already satisfied: typing-extensions>=3.6.2.1 in /usr/local/lib/python3.7/dist-packages (from onnx) (3.7.4.3)\n",
            "Requirement already satisfied: setuptools in /usr/local/lib/python3.7/dist-packages (from protobuf->onnx) (57.0.0)\n",
            "Installing collected packages: onnx\n",
            "Successfully installed onnx-1.9.0\n",
            "Collecting onnxruntime\n",
            "\u001b[?25l  Downloading https://files.pythonhosted.org/packages/f9/76/3d0f8bb2776961c7335693df06eccf8d099e48fa6fb552c7546867192603/onnxruntime-1.8.0-cp37-cp37m-manylinux_2_17_x86_64.manylinux2014_x86_64.whl (4.5MB)\n",
            "\u001b[K     |████████████████████████████████| 4.5MB 9.0MB/s \n",
            "\u001b[?25hRequirement already satisfied: numpy>=1.16.6 in /usr/local/lib/python3.7/dist-packages (from onnxruntime) (1.19.5)\n",
            "Requirement already satisfied: protobuf in /usr/local/lib/python3.7/dist-packages (from onnxruntime) (3.12.4)\n",
            "Requirement already satisfied: flatbuffers in /usr/local/lib/python3.7/dist-packages (from onnxruntime) (1.12)\n",
            "Requirement already satisfied: six>=1.9 in /usr/local/lib/python3.7/dist-packages (from protobuf->onnxruntime) (1.15.0)\n",
            "Requirement already satisfied: setuptools in /usr/local/lib/python3.7/dist-packages (from protobuf->onnxruntime) (57.0.0)\n",
            "Installing collected packages: onnxruntime\n",
            "Successfully installed onnxruntime-1.8.0\n"
          ],
          "name": "stdout"
        }
      ]
    },
    {
      "cell_type": "code",
      "metadata": {
        "id": "Xvqku2sVIO0s"
      },
      "source": [
        "import torch\n",
        "import torch.nn as nn\n",
        "import torch.optim as optim\n",
        "from torch.optim import lr_scheduler\n",
        "import torchvision\n",
        "from torchvision import datasets, models, transforms\n",
        "\n",
        "import numpy as np\n",
        "import matplotlib.pyplot as plt\n",
        "import time\n",
        "import os\n",
        "import copy\n",
        "import random\n",
        "import shutil\n",
        "\n",
        "# onnx necessary packages\n",
        "import torch.onnx\n",
        "import onnx\n",
        "import onnxruntime\n",
        "\n",
        "plt.ion()  # interactive mode"
      ],
      "execution_count": 2,
      "outputs": []
    },
    {
      "cell_type": "markdown",
      "metadata": {
        "id": "-zO6c2eoAvt_"
      },
      "source": [
        "### Folder structuring \n",
        "We are going to create a main data folder 'eden_data' that will contain the 4 different datasets. We will also split the datasets into train and validation sub-sets. "
      ]
    },
    {
      "cell_type": "code",
      "metadata": {
        "id": "hMp60uWfULoe",
        "colab": {
          "base_uri": "https://localhost:8080/"
        },
        "outputId": "991765e0-12af-47a0-ed0c-0c26f2ec34f0"
      },
      "source": [
        "# Change paths to suit your system (this was created for google colab)\n",
        "!mkdir /content/eden_data\n",
        "main_folder = \"/content/eden_data/\"\n",
        "\n",
        "# Create train and val folders that will host the data.\n",
        "train_path = \"/content/eden_data/train\"\n",
        "if not os.path.exists(train_path):\n",
        "    os.makedirs(train_path)\n",
        "val_path = \"/content/eden_data/val\"\n",
        "if not os.path.exists(val_path):\n",
        "    os.makedirs(val_path)\n",
        "\n",
        "classes = [\"BlackNightsade\", \"Tomato\", \"Cotton\", \"Velvet leaf\"]\n",
        "num_classes = len(classes)  # we will need this later\n",
        "for class_name in classes:\n",
        "    # Path to source folders\n",
        "    class_path = main_folder + class_name\n",
        "\n",
        "    # Create subfolder for each class in validation folder\n",
        "    class_val_path = val_path + os.path.sep + class_name\n",
        "    os.mkdir(class_val_path)\n",
        "    # Move original folder to train folder, created above\n",
        "    class_train_path = train_path + os.path.sep + class_name\n",
        "    shutil.move(class_path, train_path)\n",
        "\n",
        "    # List of all files\n",
        "    images = os.listdir(class_train_path)\n",
        "\n",
        "    # Splitting randomly, choosing some files for validation.\n",
        "    valid_images = random.sample(\n",
        "        images, (int(round(len(images) * 0.2)))\n",
        "    )  # Change ' *0.1 ' to whatever train-test split value you want\n",
        "    # Move validation images to validation folder\n",
        "    for val_image in valid_images:\n",
        "        shutil.move(\n",
        "            class_train_path + os.path.sep + val_image,\n",
        "            class_val_path + os.path.sep + val_image,\n",
        "        )\n",
        "        print(\"Moved \", val_image, \" to validation images\")"
      ],
      "execution_count": 3,
      "outputs": [
        {
          "output_type": "stream",
          "text": [
            "--2021-07-05 07:30:51--  https://api.edenlibrary.ai/datasets/Black%20nightsade-220519-Weed-zz-V1-20210225102034.zip\n",
            "Resolving api.edenlibrary.ai (api.edenlibrary.ai)... 142.93.162.8\n",
            "Connecting to api.edenlibrary.ai (api.edenlibrary.ai)|142.93.162.8|:443... connected.\n",
            "HTTP request sent, awaiting response... 200 OK\n",
            "Length: 548534283 (523M) [application/zip]\n",
            "Saving to: ‘Black nightsade-220519-Weed-zz-V1-20210225102034.zip’\n",
            "\n",
            "Black nightsade-220 100%[===================>] 523.12M  19.1MB/s    in 27s     \n",
            "\n",
            "2021-07-05 07:31:19 (19.1 MB/s) - ‘Black nightsade-220519-Weed-zz-V1-20210225102034.zip’ saved [548534283/548534283]\n",
            "\n",
            "--2021-07-05 07:31:23--  https://api.edenlibrary.ai/datasets/Tomato-240519-Healthy-zz-V1-20210225103740.zip\n",
            "Resolving api.edenlibrary.ai (api.edenlibrary.ai)... 142.93.162.8\n",
            "Connecting to api.edenlibrary.ai (api.edenlibrary.ai)|142.93.162.8|:443... connected.\n",
            "HTTP request sent, awaiting response... 200 OK\n",
            "Length: 1176599770 (1.1G) [application/zip]\n",
            "Saving to: ‘Tomato-240519-Healthy-zz-V1-20210225103740.zip’\n",
            "\n",
            "Tomato-240519-Healt 100%[===================>]   1.10G  18.2MB/s    in 58s     \n",
            "\n",
            "2021-07-05 07:32:22 (19.4 MB/s) - ‘Tomato-240519-Healthy-zz-V1-20210225103740.zip’ saved [1176599770/1176599770]\n",
            "\n",
            "/content/eden_data/Tomato/DSC_0193.JPG  bad CRC 34e842eb  (should be ca6d9543)\n",
            "--2021-07-05 07:32:29--  https://api.edenlibrary.ai/datasets/Cotton-100619-Healthy-zz-V1-20210225102300.zip\n",
            "Resolving api.edenlibrary.ai (api.edenlibrary.ai)... 142.93.162.8\n",
            "Connecting to api.edenlibrary.ai (api.edenlibrary.ai)|142.93.162.8|:443... connected.\n",
            "HTTP request sent, awaiting response... 200 OK\n",
            "Length: 231378799 (221M) [application/zip]\n",
            "Saving to: ‘Cotton-100619-Healthy-zz-V1-20210225102300.zip’\n",
            "\n",
            "Cotton-100619-Healt 100%[===================>] 220.66M  19.3MB/s    in 13s     \n",
            "\n",
            "2021-07-05 07:32:43 (17.3 MB/s) - ‘Cotton-100619-Healthy-zz-V1-20210225102300.zip’ saved [231378799/231378799]\n",
            "\n",
            "--2021-07-05 07:32:45--  https://api.edenlibrary.ai/datasets/Velvet%20leaf-220519-Weed-zz-V1-20210225104123.zip\n",
            "Resolving api.edenlibrary.ai (api.edenlibrary.ai)... 142.93.162.8\n",
            "Connecting to api.edenlibrary.ai (api.edenlibrary.ai)|142.93.162.8|:443... connected.\n",
            "HTTP request sent, awaiting response... 200 OK\n",
            "Length: 555850765 (530M) [application/zip]\n",
            "Saving to: ‘Velvet leaf-220519-Weed-zz-V1-20210225104123.zip’\n",
            "\n",
            "Velvet leaf-220519- 100%[===================>] 530.10M  19.0MB/s    in 28s     \n",
            "\n",
            "2021-07-05 07:33:15 (18.8 MB/s) - ‘Velvet leaf-220519-Weed-zz-V1-20210225104123.zip’ saved [555850765/555850765]\n",
            "\n",
            "Moved  DSC_0626.JPG  to validation images\n",
            "Moved  DSC_0569.JPG  to validation images\n",
            "Moved  DSC_0556.JPG  to validation images\n",
            "Moved  DSC_0516.JPG  to validation images\n",
            "Moved  DSC_0570.JPG  to validation images\n",
            "Moved  DSC_0509.JPG  to validation images\n",
            "Moved  DSC_0553.JPG  to validation images\n",
            "Moved  DSC_0543.JPG  to validation images\n",
            "Moved  DSC_0645.JPG  to validation images\n",
            "Moved  DSC_0622.JPG  to validation images\n",
            "Moved  DSC_0552.JPG  to validation images\n",
            "Moved  DSC_0557.JPG  to validation images\n",
            "Moved  DSC_0598.JPG  to validation images\n",
            "Moved  DSC_0551.JPG  to validation images\n",
            "Moved  DSC_0726.JPG  to validation images\n",
            "Moved  DSC_0531.JPG  to validation images\n",
            "Moved  DSC_0568.JPG  to validation images\n",
            "Moved  DSC_0538.JPG  to validation images\n",
            "Moved  DSC_0545.JPG  to validation images\n",
            "Moved  DSC_0547.JPG  to validation images\n",
            "Moved  DSC_0741.JPG  to validation images\n",
            "Moved  DSC_0533.JPG  to validation images\n",
            "Moved  DSC_0535.JPG  to validation images\n",
            "Moved  DSC_0648.JPG  to validation images\n",
            "Moved  DSC_0691.JPG  to validation images\n",
            "Moved  DSC_0212.JPG  to validation images\n",
            "Moved  DSC_0264.JPG  to validation images\n",
            "Moved  DSC_0798.JPG  to validation images\n",
            "Moved  DSC_0238.JPG  to validation images\n",
            "Moved  DSC_0819.JPG  to validation images\n",
            "Moved  DSC_0301.JPG  to validation images\n",
            "Moved  DSC_0249.JPG  to validation images\n",
            "Moved  DSC_0251.JPG  to validation images\n",
            "Moved  DSC_0792.JPG  to validation images\n",
            "Moved  DSC_0308.JPG  to validation images\n",
            "Moved  DSC_0193.JPG  to validation images\n",
            "Moved  DSC_0327.JPG  to validation images\n",
            "Moved  DSC_0789.JPG  to validation images\n",
            "Moved  DSC_0215.JPG  to validation images\n",
            "Moved  DSC_0787.JPG  to validation images\n",
            "Moved  DSC_0231.JPG  to validation images\n",
            "Moved  DSC_0241.JPG  to validation images\n",
            "Moved  DSC_0799.JPG  to validation images\n",
            "Moved  DSC_0281.JPG  to validation images\n",
            "Moved  DSC_0222.JPG  to validation images\n",
            "Moved  DSC_0790.JPG  to validation images\n",
            "Moved  DSC_0293.JPG  to validation images\n",
            "Moved  DSC_0287.JPG  to validation images\n",
            "Moved  DSC_0825.JPG  to validation images\n",
            "Moved  DSC_0795.JPG  to validation images\n",
            "Moved  DSC_0191.JPG  to validation images\n",
            "Moved  DSC_0317.JPG  to validation images\n",
            "Moved  DSC_0203.JPG  to validation images\n",
            "Moved  DSC_0775.JPG  to validation images\n",
            "Moved  DSC_0279.JPG  to validation images\n",
            "Moved  DSC_0290.JPG  to validation images\n",
            "Moved  DSC_0271.JPG  to validation images\n",
            "Moved  DSC_0783.JPG  to validation images\n",
            "Moved  DSC_0253.JPG  to validation images\n",
            "Moved  DSC_0791.JPG  to validation images\n",
            "Moved  DSC_0186.JPG  to validation images\n",
            "Moved  DSC_0811.JPG  to validation images\n",
            "Moved  DSC_0285.JPG  to validation images\n",
            "Moved  DSC_0803.JPG  to validation images\n",
            "Moved  DSC_0261.JPG  to validation images\n",
            "Moved  DSC_0673.JPG  to validation images\n",
            "Moved  DSC_0664.JPG  to validation images\n",
            "Moved  DSC_0678.JPG  to validation images\n",
            "Moved  DSC_0700.JPG  to validation images\n",
            "Moved  DSC_0681.JPG  to validation images\n",
            "Moved  DSC_0659.JPG  to validation images\n",
            "Moved  DSC_0653.JPG  to validation images\n",
            "Moved  DSC_0687.JPG  to validation images\n",
            "Moved  DSC_0702.JPG  to validation images\n",
            "Moved  DSC_0732.JPG  to validation images\n",
            "Moved  DSC_0583.JPG  to validation images\n",
            "Moved  DSC_0636.JPG  to validation images\n",
            "Moved  DSC_0743.JPG  to validation images\n",
            "Moved  DSC_0592.JPG  to validation images\n",
            "Moved  DSC_0640.JPG  to validation images\n",
            "Moved  DSC_0606.JPG  to validation images\n",
            "Moved  DSC_0676.JPG  to validation images\n",
            "Moved  DSC_0611.JPG  to validation images\n",
            "Moved  DSC_0560.JPG  to validation images\n",
            "Moved  DSC_0605.JPG  to validation images\n",
            "Moved  DSC_0589.JPG  to validation images\n",
            "Moved  DSC_0742.JPG  to validation images\n",
            "Moved  DSC_0562.JPG  to validation images\n",
            "Moved  DSC_0486.JPG  to validation images\n",
            "Moved  DSC_0603.JPG  to validation images\n",
            "Moved  DSC_0482.JPG  to validation images\n",
            "Moved  DSC_0758.JPG  to validation images\n",
            "Moved  DSC_0750.JPG  to validation images\n",
            "Moved  DSC_0708.JPG  to validation images\n",
            "Moved  DSC_0745.JPG  to validation images\n",
            "Moved  DSC_0584.JPG  to validation images\n",
            "Moved  DSC_0706.JPG  to validation images\n",
            "Moved  DSC_0600.JPG  to validation images\n",
            "Moved  DSC_0494.JPG  to validation images\n",
            "Moved  DSC_0521.JPG  to validation images\n"
          ],
          "name": "stdout"
        }
      ]
    },
    {
      "cell_type": "markdown",
      "metadata": {
        "id": "TSz6HE1Fvj_2"
      },
      "source": [
        "### Auxiliar functions "
      ]
    },
    {
      "cell_type": "code",
      "metadata": {
        "id": "PAE-Uq355fpL"
      },
      "source": [
        "\"\"\"Training function. Train input model based on the parameters given.\n",
        "   Input:\n",
        "    model: model to train\n",
        "    criterion: loss function to be used for training \n",
        "    optimizer: optimizer \n",
        "    scheduler: learning rate scheduler\n",
        "    num_epochs: number of training epochs\n",
        "\n",
        "   Returns: Trained model\n",
        "  \n",
        "\"\"\"\n",
        "\n",
        "\n",
        "def train_model(model, criterion, optimizer, scheduler, num_epochs=50):\n",
        "    since = time.time()\n",
        "    best_model = copy.deepcopy(model.state_dict())\n",
        "    best_acc = 0.0\n",
        "\n",
        "    for epoch in range(num_epochs):\n",
        "        print(\"Epoch {}/{}\".format(epoch, num_epochs - 1))\n",
        "        print(\"-\" * 10)\n",
        "\n",
        "        # Each epoch has a training and a validation phase\n",
        "        for phase in [\"train\", \"val\"]:\n",
        "            if phase == \"train\":\n",
        "                model.train()  # Set model to training mode\n",
        "            else:\n",
        "                model.eval()  # Set model to evaluation mode\n",
        "\n",
        "            # Reset loss\n",
        "            running_loss = 0.0\n",
        "            running_corrects = 0\n",
        "\n",
        "            # Iterate over data\n",
        "            for inputs, labels in dataloaders[phase]:\n",
        "                inputs = inputs.to(device)\n",
        "                labels = labels.to(device)\n",
        "\n",
        "                # zero the parameters gradients\n",
        "                optimizer.zero_grad()\n",
        "\n",
        "                # forward\n",
        "                # track history if only in train\n",
        "                with torch.set_grad_enabled(phase == \"train\"):\n",
        "                    outputs = model(inputs)\n",
        "                    _, preds = torch.max(outputs, 1)\n",
        "                    loss = criterion(outputs, labels)\n",
        "\n",
        "                    # backward pass + optimize only if in training phase\n",
        "                    if phase == \"train\":\n",
        "                        loss.backward()\n",
        "                        optimizer.step()\n",
        "\n",
        "                # statistics\n",
        "                running_loss += loss.item() * inputs.size(0)\n",
        "                running_corrects += torch.sum(preds == labels.data)\n",
        "            if phase == \"train\":\n",
        "                scheduler.step()\n",
        "\n",
        "            epoch_loss = running_loss / dataset_sizes[phase]\n",
        "            epoch_acc = running_corrects.double() / dataset_sizes[phase]\n",
        "\n",
        "            print(\"{} Loss: {:.4f} Acc: {:.4f}\".format(phase, epoch_loss, epoch_acc))\n",
        "\n",
        "            # deep copy the model\n",
        "            if phase == \"val\" and epoch_acc > best_acc:\n",
        "                best_acc = epoch_acc\n",
        "                best_model_wts = copy.deepcopy(model.state_dict())\n",
        "\n",
        "        print()\n",
        "\n",
        "    time_elapsed = time.time() - since\n",
        "    print(\n",
        "        \"Training complete in {:.0f}m {:.0f}s\".format(\n",
        "            time_elapsed // 60, time_elapsed % 60\n",
        "        )\n",
        "    )\n",
        "    print(\"Best val Acc: {:4f}\".format(best_acc))\n",
        "\n",
        "    # load best model weights\n",
        "    model.load_state_dict(best_model_wts)\n",
        "    return model"
      ],
      "execution_count": 4,
      "outputs": []
    },
    {
      "cell_type": "code",
      "metadata": {
        "id": "fiSNg6MJarNj"
      },
      "source": [
        "\"\"\"\n",
        "Runs inference on a defined number of images with the specified model. Plots the images with the model's predictions. \n",
        " Input:\n",
        "  model : model to run inference with\n",
        "  num_images : number of validation set images to make predictions on \n",
        "\n",
        " Returns : Plotted images and predictions\n",
        "\"\"\"\n",
        "\n",
        "\n",
        "def visualize_predictions(model, num_images=6):\n",
        "    was_training = model.training\n",
        "    model.eval()\n",
        "    images_so_far = 0\n",
        "    fig = plt.figure()\n",
        "\n",
        "    with torch.no_grad():\n",
        "        for i, (inputs, labels) in enumerate(dataloaders[\"val\"]):\n",
        "            inputs = inputs.to(device)\n",
        "            labels = labels.to(device)\n",
        "\n",
        "            outputs = model(inputs)\n",
        "            _, preds = torch.max(outputs, 1)\n",
        "\n",
        "            for j in range(inputs.size()[0]):\n",
        "                images_so_far += 1\n",
        "                ax = plt.subplot(num_images // 2, 2, images_so_far)\n",
        "                ax.axis(\"off\")\n",
        "                ax.set_title(\n",
        "                    \"predicted: {} with\".format(class_names[preds[j]])\n",
        "                    + \"  Actual class: {}\".format(class_names[labels[j]])\n",
        "                )\n",
        "                imshow(inputs.cpu().data[j])\n",
        "\n",
        "                if images_so_far == num_images:\n",
        "                    model.train(mode=was_training)\n",
        "                    return\n",
        "        model.train(mode=was_training)"
      ],
      "execution_count": 5,
      "outputs": []
    },
    {
      "cell_type": "code",
      "metadata": {
        "id": "RmhCuICPg9os"
      },
      "source": [
        "\"\"\"\n",
        "Plot images\n",
        "\"\"\"\n",
        "\n",
        "\n",
        "def imshow(inp, title=None):\n",
        "    \"\"\"Imshow for Tensor.\"\"\"\n",
        "    inp = inp.numpy().transpose((1, 2, 0))\n",
        "    mean = np.array([0.485, 0.456, 0.406])\n",
        "    std = np.array([0.229, 0.224, 0.225])\n",
        "    inp = std * inp + mean\n",
        "    inp = np.clip(inp, 0, 1)\n",
        "    plt.imshow(inp)\n",
        "    if title is not None:\n",
        "        plt.title(title)\n",
        "    plt.pause(0.001)  # pause a bit so that plots are updated"
      ],
      "execution_count": 6,
      "outputs": []
    },
    {
      "cell_type": "markdown",
      "metadata": {
        "id": "qb7d5siZIpuw"
      },
      "source": [
        "### Data loading and augmentation\n",
        "\n",
        "First we need to load our data into our pipeline. Since our dataset is not very big we are going to apply some data augmentation in order to increase the generalization power of the network. Lastly, we are going to normalize our training and validation data for better performance and accuracy.\n"
      ]
    },
    {
      "cell_type": "code",
      "metadata": {
        "id": "E_iZOQTFJOp6"
      },
      "source": [
        "# Defining some Augmentation techniques\n",
        "data_transforms = {\n",
        "    # We are going to use Compose,in order to chain together multiple transformations\n",
        "    \"train\": transforms.Compose(\n",
        "        [\n",
        "            transforms.RandomResizedCrop((224, 224)),\n",
        "            transforms.RandomHorizontalFlip(),\n",
        "            # Converting images to tensors. PyTorch needs input in tensor form.\n",
        "            transforms.ToTensor(),\n",
        "            # Normalizing inputs, these values are porposed by pytorch for ResNet\n",
        "            transforms.Normalize(mean=[0.485, 0.456, 0.406], std=[0.229, 0.224, 0.225]),\n",
        "        ]\n",
        "    ),\n",
        "    \"val\": transforms.Compose(\n",
        "        [\n",
        "            transforms.Resize((224, 224)),\n",
        "            transforms.CenterCrop(224),\n",
        "            # Converting images to tensors. PyTorch needs input in tensor form.\n",
        "            transforms.ToTensor(),\n",
        "            # Normalizing inputs, these values are porposed by pytorch for ResNet\n",
        "            transforms.Normalize(mean=[0.485, 0.456, 0.406], std=[0.229, 0.224, 0.225]),\n",
        "        ]\n",
        "    ),\n",
        "}"
      ],
      "execution_count": 7,
      "outputs": []
    },
    {
      "cell_type": "code",
      "metadata": {
        "colab": {
          "base_uri": "https://localhost:8080/"
        },
        "id": "p9d715AFOdRQ",
        "outputId": "3856a9ab-bcfa-48b0-c75a-3129955e88c2"
      },
      "source": [
        "# Loading the datasets\n",
        "data_dir = \"/content/eden_data\"\n",
        "image_datasets = {\n",
        "    x: datasets.ImageFolder(os.path.join(data_dir, x), data_transforms[x])\n",
        "    for x in [\"train\", \"val\"]\n",
        "}\n",
        "\n",
        "dataloaders = {\n",
        "    x: torch.utils.data.DataLoader(\n",
        "        image_datasets[x], batch_size=4, shuffle=True, num_workers=1\n",
        "    )\n",
        "    for x in [\"train\", \"val\"]\n",
        "}\n",
        "\n",
        "dataset_sizes = {x: len(image_datasets[x]) for x in [\"train\", \"val\"]}\n",
        "class_names = image_datasets[\"train\"].classes\n",
        "print(\"Class names :\", class_names)\n",
        "print(\"Dataset_sizes : \", dataset_sizes)\n",
        "# Setting up device either cuda GPU or CPU\n",
        "device = torch.device(\"cuda:0\" if torch.cuda.is_available() else \"cpu\")"
      ],
      "execution_count": 8,
      "outputs": [
        {
          "output_type": "stream",
          "text": [
            "Class names : ['BlackNightsade', 'Cotton', 'Tomato', 'Velvet leaf']\n",
            "Dataset_sizes :  {'train': 398, 'val': 100}\n"
          ],
          "name": "stdout"
        }
      ]
    },
    {
      "cell_type": "markdown",
      "metadata": {
        "id": "5S0_-SbgCPx7"
      },
      "source": [
        "#### Visualizing some of the augmented training data"
      ]
    },
    {
      "cell_type": "code",
      "metadata": {
        "colab": {
          "base_uri": "https://localhost:8080/",
          "height": 166
        },
        "id": "yeFgaKIkyVrG",
        "outputId": "b27464de-9c5b-4710-cfd8-c96d0e569f47"
      },
      "source": [
        "# Get a batch of training data\n",
        "inputs, classes = next(iter(dataloaders[\"train\"]))\n",
        "print(\"Images' size: \", inputs.size())\n",
        "# Make a grid from batch\n",
        "out = torchvision.utils.make_grid(inputs)\n",
        "\n",
        "imshow(out, title=[class_names[x] for x in classes])"
      ],
      "execution_count": 9,
      "outputs": [
        {
          "output_type": "stream",
          "text": [
            "Images' size:  torch.Size([4, 3, 224, 224])\n"
          ],
          "name": "stdout"
        },
        {
          "output_type": "display_data",
          "data": {
            "image/png": "[encoded data removed]",
            "text/plain": [
              "<Figure size 432x288 with 1 Axes>"
            ]
          },
          "metadata": {
            "tags": [],
            "needs_background": "light"
          }
        }
      ]
    },
    {
      "cell_type": "markdown",
      "metadata": {
        "id": "bk01UM6jl9pi"
      },
      "source": [
        "### Preparing Resnet as a feature exctractor "
      ]
    },
    {
      "cell_type": "code",
      "metadata": {
        "colab": {
          "base_uri": "https://localhost:8080/",
          "height": 143,
          "referenced_widgets": [
            "8058e4f2252f43b3bfc80a843d617905",
            "597e590352c143f7bd3d45a30d72ea88",
            "a6390e52137a49ee9d981268a9cb3d68",
            "516ed6a3704249d580b9ff66f442d834",
            "2ea2870da6584c60bc33c66bd5077719",
            "b190165fbff149b69b490ca8ffa437b9",
            "5fa532133b1e4b4e9656c83ab4b00d2d",
            "ef6fe6f2b0534b9a8099562868e71f87"
          ]
        },
        "id": "Vtt3gA0mmGY0",
        "outputId": "531a8bc9-ee10-4500-d9b6-979d442b3990"
      },
      "source": [
        "# Loading Resnet through torchvision API with pretrained weights.\n",
        "conv_net = torchvision.models.resnet18(pretrained=True)\n",
        "# Freeze parameters so that their gradients are not computed in backward propagation.\n",
        "for param in conv_net.parameters():\n",
        "    param.requires_grad = False\n",
        "\n",
        "# Reshaping the last layers of the Network\n",
        "num_ftrs = conv_net.fc.in_features\n",
        "print(\"Num of features :\", num_ftrs)\n",
        "\n",
        "# This is a manual process, check\n",
        "# https://pytorch.org/tutorials/beginner/finetuning_torchvision_models_tutorial.html for more details.\n",
        "num_classes = 4\n",
        "# Adding a Fully Connected layer on top of the pretrained network\n",
        "conv_net.fc = nn.Linear(num_ftrs, num_classes)\n",
        "\n",
        "# Moving computations to GPU\n",
        "conv_net = conv_net.to(device)\n",
        "\n",
        "# Defining loss function to be used on training\n",
        "criterion = nn.CrossEntropyLoss()\n",
        "# Optimize only the final layers\n",
        "optimizer = optim.SGD(conv_net.fc.parameters(), lr=0.001, momentum=0.9)\n",
        "# Decay Lr  by a factor of 0.1 every 10 epochs\n",
        "exp_lr_scheduler = lr_scheduler.StepLR(optimizer, step_size=10, gamma=0.1, verbose=True)"
      ],
      "execution_count": 10,
      "outputs": [
        {
          "output_type": "stream",
          "text": [
            "Downloading: \"https://download.pytorch.org/models/resnet18-f37072fd.pth\" to /root/.cache/torch/hub/checkpoints/resnet18-f37072fd.pth\n"
          ],
          "name": "stderr"
        },
        {
          "output_type": "display_data",
          "data": {
            "application/vnd.jupyter.widget-view+json": {
              "model_id": "8058e4f2252f43b3bfc80a843d617905",
              "version_minor": 0,
              "version_major": 2
            },
            "text/plain": [
              "HBox(children=(FloatProgress(value=0.0, max=46830571.0), HTML(value='')))"
            ]
          },
          "metadata": {
            "tags": []
          }
        },
        {
          "output_type": "stream",
          "text": [
            "\n",
            "Num of features : 512\n",
            "Adjusting learning rate of group 0 to 1.0000e-03.\n"
          ],
          "name": "stdout"
        }
      ]
    },
    {
      "cell_type": "markdown",
      "metadata": {
        "id": "smXlWVwnAm-H"
      },
      "source": [
        "### Call training"
      ]
    },
    {
      "cell_type": "code",
      "metadata": {
        "colab": {
          "base_uri": "https://localhost:8080/"
        },
        "id": "ghiFp3tyAmkA",
        "outputId": "fd866179-a855-448c-f97f-9147578df8ff"
      },
      "source": [
        "# This is a way to avoid errors for corrupted images\n",
        "from PIL import Image, ImageFile\n",
        "\n",
        "ImageFile.LOAD_TRUNCATED_IMAGES = True\n",
        "\n",
        "conv_net = train_model(conv_net, criterion, optimizer, exp_lr_scheduler, num_epochs=20)"
      ],
      "execution_count": 11,
      "outputs": [
        {
          "output_type": "stream",
          "text": [
            "Epoch 0/19\n",
            "----------\n"
          ],
          "name": "stdout"
        },
        {
          "output_type": "stream",
          "text": [
            "/usr/local/lib/python3.7/dist-packages/torch/nn/functional.py:718: UserWarning: Named tensors and all their associated APIs are an experimental feature and subject to change. Please do not use them for anything important until they are released as stable. (Triggered internally at  /pytorch/c10/core/TensorImpl.h:1156.)\n",
            "  return torch.max_pool2d(input, kernel_size, stride, padding, dilation, ceil_mode)\n"
          ],
          "name": "stderr"
        },
        {
          "output_type": "stream",
          "text": [
            "Adjusting learning rate of group 0 to 1.0000e-03.\n",
            "train Loss: 1.1143 Acc: 0.5101\n",
            "val Loss: 0.6719 Acc: 0.7900\n",
            "\n",
            "Epoch 1/19\n",
            "----------\n",
            "Adjusting learning rate of group 0 to 1.0000e-03.\n",
            "train Loss: 0.8790 Acc: 0.6583\n",
            "val Loss: 0.8810 Acc: 0.7000\n",
            "\n",
            "Epoch 2/19\n",
            "----------\n",
            "Adjusting learning rate of group 0 to 1.0000e-03.\n",
            "train Loss: 0.8632 Acc: 0.6508\n",
            "val Loss: 0.4868 Acc: 0.8300\n",
            "\n",
            "Epoch 3/19\n",
            "----------\n",
            "Adjusting learning rate of group 0 to 1.0000e-03.\n",
            "train Loss: 0.6756 Acc: 0.7563\n",
            "val Loss: 0.3639 Acc: 0.8800\n",
            "\n",
            "Epoch 4/19\n",
            "----------\n",
            "Adjusting learning rate of group 0 to 1.0000e-03.\n",
            "train Loss: 0.6523 Acc: 0.7563\n",
            "val Loss: 0.8021 Acc: 0.7400\n",
            "\n",
            "Epoch 5/19\n",
            "----------\n",
            "Adjusting learning rate of group 0 to 1.0000e-03.\n",
            "train Loss: 0.6058 Acc: 0.7613\n",
            "val Loss: 0.3337 Acc: 0.8500\n",
            "\n",
            "Epoch 6/19\n",
            "----------\n",
            "Adjusting learning rate of group 0 to 1.0000e-03.\n",
            "train Loss: 0.6800 Acc: 0.7337\n",
            "val Loss: 0.3249 Acc: 0.9200\n",
            "\n",
            "Epoch 7/19\n",
            "----------\n",
            "Adjusting learning rate of group 0 to 1.0000e-03.\n",
            "train Loss: 0.5368 Acc: 0.7839\n",
            "val Loss: 0.4066 Acc: 0.8600\n",
            "\n",
            "Epoch 8/19\n",
            "----------\n",
            "Adjusting learning rate of group 0 to 1.0000e-03.\n",
            "train Loss: 0.5254 Acc: 0.7864\n",
            "val Loss: 0.2755 Acc: 0.8900\n",
            "\n",
            "Epoch 9/19\n",
            "----------\n",
            "Adjusting learning rate of group 0 to 1.0000e-04.\n",
            "train Loss: 0.4798 Acc: 0.8241\n",
            "val Loss: 0.2388 Acc: 0.9300\n",
            "\n",
            "Epoch 10/19\n",
            "----------\n",
            "Adjusting learning rate of group 0 to 1.0000e-04.\n",
            "train Loss: 0.4103 Acc: 0.8593\n",
            "val Loss: 0.2658 Acc: 0.9200\n",
            "\n",
            "Epoch 11/19\n",
            "----------\n",
            "Adjusting learning rate of group 0 to 1.0000e-04.\n",
            "train Loss: 0.5119 Acc: 0.8065\n",
            "val Loss: 0.3559 Acc: 0.8900\n",
            "\n",
            "Epoch 12/19\n",
            "----------\n",
            "Adjusting learning rate of group 0 to 1.0000e-04.\n",
            "train Loss: 0.4206 Acc: 0.8518\n",
            "val Loss: 0.3715 Acc: 0.8700\n",
            "\n",
            "Epoch 13/19\n",
            "----------\n",
            "Adjusting learning rate of group 0 to 1.0000e-04.\n",
            "train Loss: 0.4681 Acc: 0.8216\n",
            "val Loss: 0.2494 Acc: 0.9000\n",
            "\n",
            "Epoch 14/19\n",
            "----------\n",
            "Adjusting learning rate of group 0 to 1.0000e-04.\n",
            "train Loss: 0.4311 Acc: 0.8492\n",
            "val Loss: 0.3651 Acc: 0.8700\n",
            "\n",
            "Epoch 15/19\n",
            "----------\n",
            "Adjusting learning rate of group 0 to 1.0000e-04.\n",
            "train Loss: 0.3808 Acc: 0.8693\n",
            "val Loss: 0.2540 Acc: 0.9000\n",
            "\n",
            "Epoch 16/19\n",
            "----------\n",
            "Adjusting learning rate of group 0 to 1.0000e-04.\n",
            "train Loss: 0.4223 Acc: 0.8442\n",
            "val Loss: 0.3135 Acc: 0.8900\n",
            "\n",
            "Epoch 17/19\n",
            "----------\n",
            "Adjusting learning rate of group 0 to 1.0000e-04.\n",
            "train Loss: 0.4011 Acc: 0.8417\n",
            "val Loss: 0.3072 Acc: 0.8900\n",
            "\n",
            "Epoch 18/19\n",
            "----------\n",
            "Adjusting learning rate of group 0 to 1.0000e-04.\n",
            "train Loss: 0.4875 Acc: 0.8090\n",
            "val Loss: 0.2917 Acc: 0.9000\n",
            "\n",
            "Epoch 19/19\n",
            "----------\n",
            "Adjusting learning rate of group 0 to 1.0000e-05.\n",
            "train Loss: 0.4099 Acc: 0.8392\n",
            "val Loss: 0.2647 Acc: 0.9300\n",
            "\n",
            "Training complete in 44m 21s\n",
            "Best val Acc: 0.930000\n"
          ],
          "name": "stdout"
        }
      ]
    },
    {
      "cell_type": "code",
      "metadata": {
        "colab": {
          "base_uri": "https://localhost:8080/",
          "height": 687
        },
        "id": "u_24WdOKnoHt",
        "outputId": "dc49ea40-73b4-4a54-ea2c-ca7480efffbd"
      },
      "source": [
        "visualize_predictions(conv_net, 10)\n",
        "plt.ioff()\n",
        "plt.show()"
      ],
      "execution_count": 12,
      "outputs": [
        {
          "output_type": "display_data",
          "data": {
            "image/png": "[encoded data removed]",
            "text/plain": [
              "<Figure size 432x288 with 1 Axes>"
            ]
          },
          "metadata": {
            "tags": [],
            "needs_background": "light"
          }
        },
        {
          "output_type": "display_data",
          "data": {
            "image/png": "[encoded data removed]",
            "text/plain": [
              "<Figure size 432x288 with 1 Axes>"
            ]
          },
          "metadata": {
            "tags": [],
            "needs_background": "light"
          }
        },
        {
          "output_type": "display_data",
          "data": {
            "image/png": "[encoded data removed]",
            "text/plain": [
              "<Figure size 432x288 with 1 Axes>"
            ]
          },
          "metadata": {
            "tags": [],
            "needs_background": "light"
          }
        },
        {
          "output_type": "display_data",
          "data": {
            "image/png": "[encoded data removed]",
            "text/plain": [
              "<Figure size 432x288 with 1 Axes>"
            ]
          },
          "metadata": {
            "tags": [],
            "needs_background": "light"
          }
        },
        {
          "output_type": "display_data",
          "data": {
            "image/png": "[encoded data removed]",
            "text/plain": [
              "<Figure size 432x288 with 1 Axes>"
            ]
          },
          "metadata": {
            "tags": [],
            "needs_background": "light"
          }
        },
        {
          "output_type": "display_data",
          "data": {
            "image/png": "[encoded data removed]",
            "text/plain": [
              "<Figure size 432x288 with 1 Axes>"
            ]
          },
          "metadata": {
            "tags": [],
            "needs_background": "light"
          }
        },
        {
          "output_type": "display_data",
          "data": {
            "image/png": "[encoded data removed]",
            "text/plain": [
              "<Figure size 432x288 with 1 Axes>"
            ]
          },
          "metadata": {
            "tags": [],
            "needs_background": "light"
          }
        },
        {
          "output_type": "display_data",
          "data": {
            "image/png": "[encoded data removed]",
            "text/plain": [
              "<Figure size 432x288 with 1 Axes>"
            ]
          },
          "metadata": {
            "tags": [],
            "needs_background": "light"
          }
        },
        {
          "output_type": "display_data",
          "data": {
            "image/png": "[encoded data removed]",
            "text/plain": [
              "<Figure size 432x288 with 1 Axes>"
            ]
          },
          "metadata": {
            "tags": [],
            "needs_background": "light"
          }
        },
        {
          "output_type": "display_data",
          "data": {
            "image/png": "[encoded data removed]",
            "text/plain": [
              "<Figure size 432x288 with 1 Axes>"
            ]
          },
          "metadata": {
            "tags": [],
            "needs_background": "light"
          }
        }
      ]
    },
    {
      "cell_type": "markdown",
      "metadata": {
        "id": "MHGHnb8JLyQF"
      },
      "source": [
        "# Exporting to ONNX format and Running the model with ONNX runtime\n",
        "We are now going to use pytorch exporter to export our model in ONNX format. Then we are going to load our model on the onnx runtime and do inference on some images."
      ]
    },
    {
      "cell_type": "code",
      "metadata": {
        "id": "8g7iKsIoMkWX"
      },
      "source": [
        "# Running inference with a dummy tensor to fix input sizes of the network\n",
        "x = torch.randn(1, 3, 224, 224, requires_grad=True)\n",
        "x = x.to(device)\n",
        "torch_out = conv_net(x)\n",
        "\n",
        "# Export the model\n",
        "torch.onnx.export(\n",
        "    conv_net,  # model being run\n",
        "    x,  # model input (or a tuple for multiple inputs)\n",
        "    \"Plant_classifier.onnx\",  # where to save the model (can be a file or file-like object)\n",
        "    export_params=True,  # store the trained parameter weights inside the model file\n",
        "    opset_version=13,\n",
        ")  # the ONNX version to export the model to"
      ],
      "execution_count": 13,
      "outputs": []
    },
    {
      "cell_type": "code",
      "metadata": {
        "collapsed": true,
        "id": "G1DKahk_Oj6y",
        "jupyter": {
          "outputs_hidden": true
        },
        "tags": []
      },
      "source": [
        "# load the model with the onnx API \n",
        "onnx_model = onnx.load(\"Plant_classifier.onnx\")\n",
        "onnx.checker.check_model(onnx_model)\n",
        "# Print a human readable representation of the onnx graph\n",
        "print(onnx.helper.printable_graph(onnx_model.graph))"
      ],
      "execution_count": null,
      "outputs": []
    },
    {
      "cell_type": "code",
      "metadata": {
        "id": "Fy42HOrFjrOu",
        "colab": {
          "base_uri": "https://localhost:8080/"
        },
        "outputId": "ed0889e7-8397-4f0c-ce23-2d03a568301f"
      },
      "source": [
        "# Pre-processing an image to feed it as input in the model.\n",
        "img = Image.open(\n",
        "    \"/content/eden_data/val/Cotton/DSC_0653.JPG\"\n",
        ")  # Define an image path for inference.\n",
        "resize = transforms.Resize([224, 224])\n",
        "img = resize(img)\n",
        "to_tensor = transforms.ToTensor()\n",
        "img = to_tensor(img)\n",
        "img.unsqueeze_(0)"
      ],
      "execution_count": 16,
      "outputs": [
        {
          "output_type": "execute_result",
          "data": {
            "text/plain": [
              "tensor([[[[0.5255, 0.5216, 0.5216,  ..., 0.8314, 0.8275, 0.7961],\n",
              "          [0.5020, 0.5216, 0.5529,  ..., 0.8353, 0.8431, 0.8392],\n",
              "          [0.4980, 0.5490, 0.5922,  ..., 0.7882, 0.8157, 0.8353],\n",
              "          ...,\n",
              "          [0.6588, 0.6627, 0.6471,  ..., 0.7529, 0.7490, 0.7961],\n",
              "          [0.6745, 0.6784, 0.6627,  ..., 0.7843, 0.7843, 0.8196],\n",
              "          [0.6784, 0.6824, 0.6745,  ..., 0.7961, 0.7882, 0.8118]],\n",
              "\n",
              "         [[0.4824, 0.4902, 0.4902,  ..., 0.7765, 0.7686, 0.7412],\n",
              "          [0.4706, 0.4902, 0.5137,  ..., 0.7804, 0.7882, 0.7765],\n",
              "          [0.4706, 0.5098, 0.5569,  ..., 0.7373, 0.7569, 0.7686],\n",
              "          ...,\n",
              "          [0.6235, 0.6275, 0.6157,  ..., 0.7098, 0.6980, 0.7333],\n",
              "          [0.6314, 0.6314, 0.6235,  ..., 0.7333, 0.7255, 0.7569],\n",
              "          [0.6353, 0.6314, 0.6275,  ..., 0.7451, 0.7373, 0.7569]],\n",
              "\n",
              "         [[0.4157, 0.4275, 0.4196,  ..., 0.6824, 0.6745, 0.6549],\n",
              "          [0.3922, 0.4078, 0.4275,  ..., 0.6824, 0.6941, 0.6863],\n",
              "          [0.3804, 0.4196, 0.4627,  ..., 0.6549, 0.6784, 0.6902],\n",
              "          ...,\n",
              "          [0.5686, 0.5725, 0.5569,  ..., 0.6353, 0.6275, 0.6667],\n",
              "          [0.5725, 0.5725, 0.5569,  ..., 0.6627, 0.6588, 0.6941],\n",
              "          [0.5765, 0.5725, 0.5686,  ..., 0.6745, 0.6627, 0.6941]]]])"
            ]
          },
          "metadata": {
            "tags": []
          },
          "execution_count": 16
        }
      ]
    },
    {
      "cell_type": "code",
      "metadata": {
        "colab": {
          "base_uri": "https://localhost:8080/"
        },
        "id": "wTj6tn-7OsWD",
        "outputId": "4460b7f0-8bac-42ad-c7ce-fcb03b080d17"
      },
      "source": [
        "# Executing inference on the model\n",
        "sess = onnxruntime.InferenceSession(\"Plant_classifier.onnx\")\n",
        "\n",
        "\n",
        "def to_numpy(tensor):\n",
        "    return (\n",
        "        tensor.detach().cpu().numpy() if tensor.requires_grad else tensor.cpu().numpy()\n",
        "    )\n",
        "\n",
        "\n",
        "# compute ONNX Runtime output prediction\n",
        "sess_inputs = {sess.get_inputs()[0].name: to_numpy(img)}\n",
        "sess_outs = sess.run(None, sess_inputs)\n",
        "\n",
        "\n",
        "final_pred = np.argmax(np.array(sess_outs))\n",
        "print(class_names)\n",
        "print(sess_outs, \"\\n\")\n",
        "print(\"Model's prediction : {}\".format(class_names[final_pred]))"
      ],
      "execution_count": 17,
      "outputs": [
        {
          "output_type": "stream",
          "text": [
            "['BlackNightsade', 'Cotton', 'Tomato', 'Velvet leaf']\n",
            "[array([[ 2.3863206 ,  2.4930649 , -3.1341443 , -0.07389929]],\n",
            "      dtype=float32)] \n",
            "\n",
            "Model's prediction : Cotton\n"
          ],
          "name": "stdout"
        }
      ]
    },
    {
      "cell_type": "markdown",
      "metadata": {
        "id": "dqhVkpKHbfCy"
      },
      "source": [
        "## Possible Extensions\n",
        "1. Use a different pre-trained network (for instance, InceptionNet).\n",
        "2. Try a different training approach where pre-trained weights are not loaded.\n",
        "3. Deploy the ONNX model somewhere else eg. cloud, edge device.\n",
        "3. Try different epochs and batch sizes.\n",
        "4. Try different augmentation techniques."
      ]
    },
    {
      "cell_type": "markdown",
      "metadata": {
        "id": "Nz7IYxN9Tlmo"
      },
      "source": [
        "## Bibliography\n",
        "\n",
        "Too, E.C., Yujian, L., Njuki, S., & Ying-chun, L. (2019). A comparative study of fine-tuning deep learning models for plant disease identification. Comput. Electron. Agric., 161, 272-279.\n",
        "\n",
        "Suh, H.K., IJsselmuiden, J., Hofstee, J.W., van Henten, E.J., (2018). Transfer learning for the classification of sugar beet and volunteer potato under field conditions. Biosystems Engineering; 174:50–65.\n",
        "\n",
        "Espejo-Garcia, B., Mylonas, N., Athanasakos, L., & Fountas, S., (2020). Improving\n",
        "Weeds Identification with a Repository of Agricultural Pre-trained Deep Neural\n",
        "Networks. Computers and Electronics in Agriculture; 175 (August).\n",
        "\n",
        "https://pytorch.org/tutorials/beginner/finetuning_torchvision_models_tutorial.html\n",
        "\n",
        "https://pytorch.org/tutorials/advanced/super_resolution_with_onnxruntime.html\n",
        "\n",
        "https://cloudblogs.microsoft.com/opensource/2019/05/22/onnx-runtime-machine-learning-inferencing-0-4-release/\n",
        "\n",
        "https://github.com/onnx/onnx\n",
        "\n",
        "https://www.oreilly.com/library/view/programming-pytorch-for/9781492045342/ch04.html"
      ]
    }
  ]
}