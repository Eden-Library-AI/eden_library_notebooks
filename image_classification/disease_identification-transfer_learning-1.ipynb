{
 "cells": [
  {
   "cell_type": "markdown",
   "id": "d54a6e15-84df-427c-ae92-e33cdbb2cee8",
   "metadata": {
    "id": "QquaYpB00hfs"
   },
   "source": [
    "[<img src=\"https://user-images.githubusercontent.com/79705081/109483674-d3eea600-7a7f-11eb-9a25-58c50da4cde9.png\">](http://edenlibrary.ai/)"
   ]
  },
  {
   "cell_type": "markdown",
   "id": "255e0199-a475-4619-92ad-b71ad8491589",
   "metadata": {
    "id": "ySx_NOel9ilm"
   },
   "source": [
    "# Disease Identification-Transfer Learning-1"
   ]
  },
  {
   "cell_type": "markdown",
   "id": "d5a72b22-5375-43f8-a9ab-16ef35a3c54b",
   "metadata": {},
   "source": [
    "## Instructions\n",
    "To run any of Eden's notebooks, please check the guides on our [Wiki page](https://github.com/Eden-Library-AI/eden_library_notebooks/wiki).<br>\n",
    "There you will find instructions on how to deploy the notebooks on [your local system](https://github.com/Eden-Library-AI/eden_library_notebooks/wiki/Deploy-Notebooks-Locally), on [Google Colab](https://github.com/Eden-Library-AI/eden_library_notebooks/wiki/Deploy-Notebooks-on-GColab), or on [MyBinder](https://github.com/Eden-Library-AI/eden_library_notebooks/wiki/Deploy-Notebooks-on-MyBinder), as well as other useful links, troubleshooting tips, and more.<br>\n",
    "For this notebook you will need to download the **Tomato-301020-Healthy-zz-V1-20210225103918** and **Tomato-231120-Liriomyza+Tuta absoluta-zz-V1-20210225103715** datasets from [Eden Library](https://edenlibrary.ai/datasets), and you may want to use the **eden_pytorch_transfer_learning.yml** file to recreate a suitable conda environment.\n",
    "\n",
    "**Note:** If you find any issues while executing the notebook, don't hesitate to open an issue on Github. We will try to reply as soon as possible."
   ]
  },
  {
   "cell_type": "markdown",
   "id": "366a6f80-2c65-4c44-b4eb-6c828816e109",
   "metadata": {
    "id": "dwqUKc-L0hft"
   },
   "source": [
    "## Background\n",
    "\n",
    "Control of **plant diseases** is crucial to the reliable production of food, and it provides significant problems in agricultural use of land, water, fuel and other inputs [(Wikipedia)](https://en.wikipedia.org/wiki/Plant_pathology). To mitigate such problems, novel methods are developed that help with diagnosing plant health and identification of diseases. In this tutorial we present a simple implementation of a plant disease identification problem, which can discern amongst healthy and unhealthy samples of Tomato plants. Given the limited availability of data, we will seek to improve our model's performance by retraining a pretrained model on our small dataset.\n",
    "\n",
    "In this notebook we will manually build an **AlexNet** model and train it from scratch, and then compare its performance against an AlexNet model loaded directly from PT's Hub (or library), pretrained on ImageNet and retrained on our dataset. AlexNet is considered one of the most influential papers published in computer vision, having spurred many more papers published employing CNNs and GPUs to accelerate deep learning. It contains eight layers; the first five were convolutional layers, some of them followed by max-pooling layers, and the last three were fully connected layers. It used the non-saturating ReLU activation function, which showed improved training performance over tanh and sigmoid [(Wikipedia)](https://en.wikipedia.org/wiki/AlexNet).\n",
    "\n",
    "Feature Extraction is one of the two methods of **Transfer Learning** (the other being Fine-tuning) that we present in this guide, where the weights of the pre-trained architecture are not updated (the layers are frozen). This way, the architecture is used as a feature extractor while the last layer or classifier is trained to make sense of these features in the new problem. Transfer Learning for classification problems is a technique covered by many of our previous notebooks:\n",
    "1. https://github.com/Eden-Library-AI/eden_library_notebooks/blob/master/image_classification/weeds_identification-transfer_learning-1.ipynb\n",
    "2. https://github.com/Eden-Library-AI/eden_library_notebooks/blob/master/image_classification/weeds_identification-transfer_learning-2.ipynb\n",
    "3. https://github.com/Eden-Library-AI/eden_library_notebooks/blob/master/image_classification/weeds_identification-transfer_learning-3.ipynb\n",
    "4. https://github.com/Eden-Library-AI/eden_library_notebooks/blob/master/image_classification/weeds_identification-transfer_learning-4.ipynb\n",
    "5. https://github.com/Eden-Library-AI/eden_library_notebooks/blob/master/image_classification/weeds_identification-transfer_learning-5.ipynb\n",
    "6. https://github.com/Eden-Library-AI/eden_library_notebooks/blob/master/image_classification/weeds_identification-transfer_learning-6.ipynb\n",
    "6. https://github.com/Eden-Library-AI/eden_library_notebooks/blob/master/image_classification/weeds_identification-transfer_learning-7.ipynb\n",
    "\n",
    "detectdetectdetectdetectdetectdetect**Wang et al., (2017)** used transfer learning in order to obtain the best neural-based method for disease detection in plants. They extended the apple black rot images in the PlantVillage dataset, which were further annotated by botanists with four severity stages as ground truth. Then, they evaluated the performances of shallow networks trained from scratch and deep models fine-tuned by transfer learning. Their best model was the **VGG16** architecture trained with transfer learning, which yielded an overall accuracy of 90.4% on the hold-out test set. In **Mehdipour-Ghazi et al., (2017)**, the authors used the plant datasets of LifeCLEF 2015. Three popular deep learning architectures were evaluated: **GoogLeNet, AlexNet, and VGGNet**.  Their best combined system (a combination of GoogleNet and VGGNet) achieved an overall accuracy of 80% on the validation set and an overall inverse rank score of 0.752 on the official test set. In **Suh et al., (2018)**, the authors compared different transfer learning approaches in order to find a suitable approach for weed detection (volunteer potato). Their highest classification accuracy for **AlexNet** was 98.0%. Comparing different networks, their highest classification accuracy  was 98.7%, which was obtained with **VGG-19**. Additionally, all scenarios and pre-trained networks were feasible for real-time applications (classification time < 0.1 s). Another relevant study has been performed by **Kounalakis et al., (2019)** where they evaluated transfer learning by a combination of CNN-based feature extraction and linear classifiers to recognize rumex under real-world conditions. Their best system (**Inception_v1**+L2regLogReg) achieved an accuracy of 96.13 with a false positive rate of 3.62. In **Too et al., (2019)**, the authors used transfer learning achieving a performance of 99.75% with the **DenseNet** architecture. Finally, in **Espejo-Garcia et al., (2020)**, authors used transfer learning using agricultural datasets for pre-training neural networks, and afterwards, they fine-tuned the networks for classifying 4 species extracted from the **Eden Platform**. Their maximum performance was 99.54% by using the **Xception** architecture."
   ]
  },
  {
   "cell_type": "markdown",
   "id": "225816bc-5b15-44d8-926f-0933e62e65c1",
   "metadata": {
    "id": "ySx_NOel9ilm"
   },
   "source": [
    "## Main Script\n",
    "### Library Imports"
   ]
  },
  {
   "cell_type": "code",
   "execution_count": 1,
   "id": "4d891b50-5e66-421e-8b07-eab876629aa0",
   "metadata": {},
   "outputs": [],
   "source": [
    "import torch\n",
    "from torch import nn\n",
    "from torch.utils.data import DataLoader\n",
    "from torchvision import datasets, models, transforms\n",
    "from torchvision.transforms import ToTensor, Lambda\n",
    "\n",
    "import matplotlib.pyplot as plt\n",
    "import numpy as np\n",
    "\n",
    "import warnings\n",
    "warnings.filterwarnings(\"ignore\")"
   ]
  },
  {
   "cell_type": "code",
   "execution_count": 2,
   "id": "2c4d5616-d05a-4c81-b2df-1d8eb4bdb0cf",
   "metadata": {},
   "outputs": [
    {
     "name": "stdout",
     "output_type": "stream",
     "text": [
      "GeForce RTX 2070\n"
     ]
    }
   ],
   "source": [
    "# Set PyTorch seed for replicable runs\n",
    "torch.cuda.manual_seed(747)\n",
    "\n",
    "# Assert CUDA is available\n",
    "device = torch.device(\"cuda\" if torch.cuda.is_available() else \"cpu\")\n",
    "print(torch.cuda.get_device_name(0))"
   ]
  },
  {
   "cell_type": "markdown",
   "id": "a682cf09-01d0-42c3-8bcf-2e2432cdeb06",
   "metadata": {
    "id": "ySx_NOel9ilm"
   },
   "source": [
    "### Data Loading"
   ]
  },
  {
   "cell_type": "code",
   "execution_count": 3,
   "id": "7e140101-d9a8-46ff-bf4e-66da82e9ef0c",
   "metadata": {},
   "outputs": [],
   "source": [
    "# The data folders are copied to a subfolder so the DataLoader will not load all datasets in the 'eden_data' folder\n",
    "\n",
    "!mkdir ./eden_data\n",
    "!cp -a \"../eden_library_datasets/Tomato-301020-Healthy-zz-V1-20210225103918/\" ./eden_data/\n",
    "!cp -a \"../eden_library_datasets/Tomato-231120-Liriomyza+Tuta absoluta-zz-V1-20210225103715/\" ./eden_data/\n",
    "\n",
    "img_dir = \"./eden_data\"\n",
    "NUM_CLASSES = 2"
   ]
  },
  {
   "cell_type": "code",
   "execution_count": 4,
   "id": "a59cc7fa-c977-4406-b9e9-abec013afbd5",
   "metadata": {},
   "outputs": [],
   "source": [
    "# Declare tensor transformations\n",
    "\n",
    "transform = {\n",
    "    \"train\": transforms.Compose(\n",
    "        [\n",
    "            transforms.RandomCrop(227),\n",
    "            transforms.RandomHorizontalFlip(),\n",
    "            transforms.Resize([227, 227]),\n",
    "            transforms.ToTensor(),\n",
    "            transforms.Normalize(mean=[0.485, 0.456, 0.406], std=[0.229, 0.224, 0.225]),\n",
    "        ]\n",
    "    ),\n",
    "    \"test\": transforms.Compose(\n",
    "        [\n",
    "            transforms.Resize([227, 227]),\n",
    "            transforms.ToTensor(),\n",
    "            transforms.Normalize(mean=[0.485, 0.456, 0.406], std=[0.229, 0.224, 0.225]),\n",
    "        ]\n",
    "    ),\n",
    "}"
   ]
  },
  {
   "cell_type": "code",
   "execution_count": 5,
   "id": "838efb49-c6e6-4b54-8b75-62f3b642b479",
   "metadata": {},
   "outputs": [],
   "source": [
    "# Load data from folders\n",
    "\n",
    "training_data = datasets.ImageFolder(root=img_dir, transform=transform[\"train\"])\n",
    "test_data = datasets.ImageFolder(root=img_dir, transform=transform[\"test\"])\n",
    "\n",
    "train_dataloader = DataLoader(training_data, batch_size=2048, shuffle=True)\n",
    "test_dataloader = DataLoader(test_data, batch_size=2048, shuffle=True)"
   ]
  },
  {
   "cell_type": "code",
   "execution_count": 6,
   "id": "f2018512-ac09-4603-8df0-0695b9dbbbdd",
   "metadata": {},
   "outputs": [
    {
     "name": "stderr",
     "output_type": "stream",
     "text": [
      "Clipping input data to the valid range for imshow with RGB data ([0..1] for floats or [0..255] for integers).\n"
     ]
    },
    {
     "name": "stdout",
     "output_type": "stream",
     "text": [
      "Feature batch shape: torch.Size([194, 3, 227, 227])\n",
      "Labels batch shape: torch.Size([194])\n"
     ]
    },
    {
     "data": {
      "image/png": "[encoded data removed]",
      "text/plain": [
       "<Figure size 432x288 with 1 Axes>"
      ]
     },
     "metadata": {
      "needs_background": "light"
     },
     "output_type": "display_data"
    },
    {
     "name": "stdout",
     "output_type": "stream",
     "text": [
      "Label: 0\n"
     ]
    }
   ],
   "source": [
    "# Display batch dimensions and a sample image\n",
    "\n",
    "train_features, train_labels = next(iter(train_dataloader))\n",
    "\n",
    "print(f\"Feature batch shape: {train_features.size()}\")\n",
    "print(f\"Labels batch shape: {train_labels.size()}\")\n",
    "\n",
    "img = train_features[0].squeeze()\n",
    "label = train_labels[0]\n",
    "plt.imshow(np.transpose(img, (1, 2, 0)))\n",
    "plt.show()\n",
    "\n",
    "print(f\"Label: {label}\")"
   ]
  },
  {
   "cell_type": "markdown",
   "id": "470e3bc4-4fe2-4031-bdc5-cb50036f7d57",
   "metadata": {
    "id": "ySx_NOel9ilm"
   },
   "source": [
    "### Auxilliary training functions & parameters"
   ]
  },
  {
   "cell_type": "markdown",
   "id": "344824f5-4b3d-49d1-960e-3d2e1604e950",
   "metadata": {
    "id": "ySx_NOel9ilm"
   },
   "source": [
    "Since no **hyperparameter optimization** is done in this notebook, we only have training and testing subsets, and the terms 'test' and 'validation' can be used interchangeably.\n",
    "\n",
    "If we were to optimize our hyperparameters, to avoid overfitting, we would be required to have three separate subsets (train/val/test), and validation and testing would be two separate processes. Testing would be run only once, after having settled on the optimum hyperparameters through validation runs, to measure the model's final performance."
   ]
  },
  {
   "cell_type": "code",
   "execution_count": 7,
   "id": "fc2d9204-deb6-42d5-a7de-bdc1c843a626",
   "metadata": {},
   "outputs": [],
   "source": [
    "# Functions for training and evaluation\n",
    "\n",
    "def train_loop(dataloader, model, loss_fn, optimizer):\n",
    "    size = len(dataloader.dataset)\n",
    "    for batch, (X, y) in enumerate(dataloader):\n",
    "        \n",
    "        # Load tensors created in CPU to GPU\n",
    "        if torch.cuda.is_available():\n",
    "            X = X.to(\"cuda\")\n",
    "            y = y.to(\"cuda\")\n",
    "\n",
    "        # Compute prediction and loss\n",
    "        pred = model(X)\n",
    "        loss = loss_fn(pred, y)\n",
    "\n",
    "        # Backpropagation\n",
    "        optimizer.zero_grad()\n",
    "        loss.backward()\n",
    "        optimizer.step()\n",
    "\n",
    "        if batch % 100 == 0:\n",
    "            loss, current = loss.item(), batch * len(X)\n",
    "            print(f\"Training: Loss: {loss:>7f}  [{current:>5d}/{size:>5d}]\")\n",
    "\n",
    "\n",
    "def test_loop(dataloader, model, loss_fn):\n",
    "    size = len(dataloader.dataset)\n",
    "    num_batches = len(dataloader)\n",
    "    test_loss, correct = 0, 0\n",
    "\n",
    "    with torch.no_grad():\n",
    "        for X, y in dataloader:\n",
    "            \n",
    "            # Load tensors created in CPU to GPU\n",
    "            if torch.cuda.is_available():\n",
    "                X = X.to(\"cuda\")\n",
    "                y = y.to(\"cuda\")\n",
    "\n",
    "            # Compute prediction and loss\n",
    "            pred = model(X)\n",
    "            test_loss += loss_fn(pred, y).item()\n",
    "            correct += (pred.argmax(1) == y).type(torch.float).sum().item()\n",
    "\n",
    "    test_loss /= num_batches\n",
    "    correct /= size\n",
    "    print(f\"Validation: Accuracy: {(100*correct):>0.1f}%, Avg loss: {test_loss:>8f} \\n\")"
   ]
  },
  {
   "cell_type": "code",
   "execution_count": 8,
   "id": "b21952f9-6295-446e-8876-3e9087212b1a",
   "metadata": {},
   "outputs": [],
   "source": [
    "# Set hyperparameters to commonly used values (for AlexNet)\n",
    "\n",
    "epochs = 5\n",
    "learning_rate = 0.001\n",
    "momentum = 0.9\n",
    "loss_fn = nn.CrossEntropyLoss()"
   ]
  },
  {
   "cell_type": "markdown",
   "id": "571d6da1-4d0c-443e-8544-3bbdd3f046d3",
   "metadata": {
    "id": "ySx_NOel9ilm"
   },
   "source": [
    "### AlexNet manually built & Trained with limited data"
   ]
  },
  {
   "cell_type": "code",
   "execution_count": 9,
   "id": "af3bb34a-5259-4c3c-9559-ae6d48c09e99",
   "metadata": {},
   "outputs": [
    {
     "name": "stdout",
     "output_type": "stream",
     "text": [
      "NeuralNetwork(\n",
      "  (flatten): Flatten(start_dim=1, end_dim=-1)\n",
      "  (features): Sequential(\n",
      "    (0): Conv2d(3, 96, kernel_size=(11, 11), stride=(4, 4))\n",
      "    (1): ReLU(inplace=True)\n",
      "    (2): MaxPool2d(kernel_size=3, stride=2, padding=0, dilation=1, ceil_mode=False)\n",
      "    (3): Conv2d(96, 256, kernel_size=(5, 5), stride=(1, 1), padding=(2, 2))\n",
      "    (4): ReLU(inplace=True)\n",
      "    (5): MaxPool2d(kernel_size=3, stride=2, padding=0, dilation=1, ceil_mode=False)\n",
      "    (6): Conv2d(256, 384, kernel_size=(3, 3), stride=(1, 1), padding=(1, 1))\n",
      "    (7): ReLU(inplace=True)\n",
      "    (8): Conv2d(384, 384, kernel_size=(3, 3), stride=(1, 1), padding=(1, 1))\n",
      "    (9): ReLU(inplace=True)\n",
      "    (10): Conv2d(384, 256, kernel_size=(3, 3), stride=(1, 1), padding=(1, 1))\n",
      "    (11): ReLU(inplace=True)\n",
      "    (12): MaxPool2d(kernel_size=3, stride=2, padding=0, dilation=1, ceil_mode=False)\n",
      "  )\n",
      "  (avgpool): AdaptiveAvgPool2d(output_size=(6, 6))\n",
      "  (classifier): Sequential(\n",
      "    (0): Dropout(p=0.5, inplace=False)\n",
      "    (1): Linear(in_features=9216, out_features=4096, bias=True)\n",
      "    (2): ReLU(inplace=True)\n",
      "    (3): Dropout(p=0.5, inplace=False)\n",
      "    (4): Linear(in_features=4096, out_features=4096, bias=True)\n",
      "    (5): ReLU(inplace=True)\n",
      "    (6): Linear(in_features=4096, out_features=2, bias=True)\n",
      "  )\n",
      ")\n"
     ]
    }
   ],
   "source": [
    "# Define & Load NN\n",
    "\n",
    "class NeuralNetwork(nn.Module):\n",
    "    def __init__(self, num_classes):\n",
    "        super(NeuralNetwork, self).__init__()\n",
    "        self.flatten = nn.Flatten()\n",
    "        self.features = nn.Sequential(\n",
    "            nn.Conv2d(in_channels=3, out_channels=96, kernel_size=11, stride=4, padding=0, dilation=1, groups=1, bias=True, padding_mode=\"zeros\"),\n",
    "            nn.ReLU(inplace=True),\n",
    "            nn.MaxPool2d(kernel_size=3, stride=2, padding=0, dilation=1, return_indices=False, ceil_mode=False,),\n",
    "            nn.Conv2d(in_channels=96, out_channels=256, kernel_size=5, stride=1, padding=2, dilation=1, groups=1,bias=True, padding_mode=\"zeros\"),\n",
    "            nn.ReLU(inplace=True),\n",
    "            nn.MaxPool2d(kernel_size=3, stride=2, padding=0, dilation=1, return_indices=False, ceil_mode=False),\n",
    "            nn.Conv2d(in_channels=256, out_channels=384, kernel_size=3, stride=1, padding=1, dilation=1, groups=1, bias=True, padding_mode=\"zeros\"),\n",
    "            nn.ReLU(inplace=True),\n",
    "            nn.Conv2d(in_channels=384, out_channels=384, kernel_size=3, stride=1, padding=1, dilation=1, groups=1, bias=True, padding_mode=\"zeros\"),\n",
    "            nn.ReLU(inplace=True),\n",
    "            nn.Conv2d(in_channels=384, out_channels=256, kernel_size=3, stride=1, padding=1, dilation=1, groups=1, bias=True, padding_mode=\"zeros\"),\n",
    "            nn.ReLU(inplace=True),\n",
    "            nn.MaxPool2d(kernel_size=3, stride=2, padding=0, dilation=1, return_indices=False, ceil_mode=False),\n",
    "        )\n",
    "        self.avgpool = nn.AdaptiveAvgPool2d((6, 6))\n",
    "        self.classifier = nn.Sequential(\n",
    "            nn.Dropout(p=0.5, inplace=False),\n",
    "            nn.Linear(in_features=256 * 6 * 6, out_features=4096, bias=True),\n",
    "            nn.ReLU(inplace=True),\n",
    "            nn.Dropout(p=0.5, inplace=False),\n",
    "            nn.Linear(in_features=4096, out_features=4096, bias=True),\n",
    "            nn.ReLU(inplace=True),\n",
    "            nn.Linear(in_features=4096, out_features=num_classes, bias=True),\n",
    "        )\n",
    "\n",
    "    def forward(self, x):\n",
    "        x = self.features(x)\n",
    "        x = self.avgpool(x)\n",
    "        x = self.flatten(x)\n",
    "        logits = self.classifier(x)\n",
    "        return logits\n",
    "\n",
    "\n",
    "model = NeuralNetwork(num_classes=NUM_CLASSES)\n",
    "print(model)\n",
    "\n",
    "if torch.cuda.is_available():\n",
    "    model.to(\"cuda\")"
   ]
  },
  {
   "cell_type": "code",
   "execution_count": 10,
   "id": "e0fc54f7-822c-4685-b3bc-9653fbbcd669",
   "metadata": {},
   "outputs": [
    {
     "name": "stdout",
     "output_type": "stream",
     "text": [
      "Epoch 1 -------------------------------\n",
      "Training: Loss: 0.691777  [    0/  194]\n",
      "Validation: Accuracy: 57.7%, Avg loss: 0.691278 \n",
      "\n",
      "Epoch 2 -------------------------------\n",
      "Training: Loss: 0.692219  [    0/  194]\n",
      "Validation: Accuracy: 56.2%, Avg loss: 0.691801 \n",
      "\n",
      "Epoch 3 -------------------------------\n",
      "Training: Loss: 0.691778  [    0/  194]\n",
      "Validation: Accuracy: 60.8%, Avg loss: 0.691128 \n",
      "\n",
      "Epoch 4 -------------------------------\n",
      "Training: Loss: 0.691683  [    0/  194]\n",
      "Validation: Accuracy: 56.7%, Avg loss: 0.692039 \n",
      "\n",
      "Epoch 5 -------------------------------\n",
      "Training: Loss: 0.691510  [    0/  194]\n",
      "Validation: Accuracy: 56.7%, Avg loss: 0.691408 \n",
      "\n",
      "Process completed.\n"
     ]
    }
   ],
   "source": [
    "# Start training process\n",
    "\n",
    "for t in range(epochs):\n",
    "    print(f\"Epoch {t+1} -------------------------------\")\n",
    "    train_loop(train_dataloader, model, loss_fn, torch.optim.SGD(model.parameters(), lr=learning_rate, momentum=momentum))\n",
    "    test_loop(test_dataloader, model, loss_fn)\n",
    "\n",
    "print(\"Process completed.\")"
   ]
  },
  {
   "cell_type": "markdown",
   "id": "174a6487-91f7-47a9-8e54-978ce36d272d",
   "metadata": {
    "id": "ySx_NOel9ilm"
   },
   "source": [
    "### Pretrained AlexNet from PyTorchHub & Retrain with limited data\n",
    "\n",
    "To actually load the [pretrained AlexNet from PyTorch Hub](https://pytorch.org/hub/pytorch_vision_alexnet/), we would use the line below:<br>\n",
    "`model_ft = torch.hub.load('pytorch/vision:v0.9.0', 'alexnet', pretrained=True)`\n",
    "\n",
    "Unfortunately, while this notebook was being developed PyTorch Hub was experiencing some technical problems, and we loaded the pretrained AlexNet from PT's inbuilt zoo."
   ]
  },
  {
   "cell_type": "code",
   "execution_count": 11,
   "id": "6d64769d-ba64-48bf-aa28-b009904314e4",
   "metadata": {},
   "outputs": [
    {
     "data": {
      "text/plain": [
       "AlexNet(\n",
       "  (features): Sequential(\n",
       "    (0): Conv2d(3, 64, kernel_size=(11, 11), stride=(4, 4), padding=(2, 2))\n",
       "    (1): ReLU(inplace=True)\n",
       "    (2): MaxPool2d(kernel_size=3, stride=2, padding=0, dilation=1, ceil_mode=False)\n",
       "    (3): Conv2d(64, 192, kernel_size=(5, 5), stride=(1, 1), padding=(2, 2))\n",
       "    (4): ReLU(inplace=True)\n",
       "    (5): MaxPool2d(kernel_size=3, stride=2, padding=0, dilation=1, ceil_mode=False)\n",
       "    (6): Conv2d(192, 384, kernel_size=(3, 3), stride=(1, 1), padding=(1, 1))\n",
       "    (7): ReLU(inplace=True)\n",
       "    (8): Conv2d(384, 256, kernel_size=(3, 3), stride=(1, 1), padding=(1, 1))\n",
       "    (9): ReLU(inplace=True)\n",
       "    (10): Conv2d(256, 256, kernel_size=(3, 3), stride=(1, 1), padding=(1, 1))\n",
       "    (11): ReLU(inplace=True)\n",
       "    (12): MaxPool2d(kernel_size=3, stride=2, padding=0, dilation=1, ceil_mode=False)\n",
       "  )\n",
       "  (avgpool): AdaptiveAvgPool2d(output_size=(6, 6))\n",
       "  (classifier): Sequential(\n",
       "    (0): Dropout(p=0.5, inplace=False)\n",
       "    (1): Linear(in_features=9216, out_features=4096, bias=True)\n",
       "    (2): ReLU(inplace=True)\n",
       "    (3): Dropout(p=0.5, inplace=False)\n",
       "    (4): Linear(in_features=4096, out_features=4096, bias=True)\n",
       "    (5): ReLU(inplace=True)\n",
       "    (6): Linear(in_features=4096, out_features=2, bias=True)\n",
       "  )\n",
       ")"
      ]
     },
     "execution_count": 11,
     "metadata": {},
     "output_type": "execute_result"
    }
   ],
   "source": [
    "# Define & Load NN\n",
    "\n",
    "model_ft = models.alexnet(pretrained=True)\n",
    "\n",
    "# Feature Extraction: Freeze layers & replace last layer with trainable layer\n",
    "for param in model_ft.parameters():\n",
    "    param.requires_grad = False\n",
    "num_ftrs = model_ft.classifier[6].in_features\n",
    "model_ft.classifier[6] = nn.Linear(num_ftrs, NUM_CLASSES)\n",
    "\n",
    "if torch.cuda.is_available():\n",
    "    model_ft.to(\"cuda\")\n",
    "\n",
    "model_ft.eval()"
   ]
  },
  {
   "cell_type": "code",
   "execution_count": 12,
   "id": "b96a8bca-82a4-4b7d-abef-3b7265cc0872",
   "metadata": {},
   "outputs": [
    {
     "name": "stdout",
     "output_type": "stream",
     "text": [
      "Epoch 1 -------------------------------\n",
      "Training: Loss: 0.785103  [    0/  194]\n",
      "Validation: Accuracy: 72.2%, Avg loss: 0.621422 \n",
      "\n",
      "Epoch 2 -------------------------------\n",
      "Training: Loss: 0.786361  [    0/  194]\n",
      "Validation: Accuracy: 72.2%, Avg loss: 0.621422 \n",
      "\n",
      "Epoch 3 -------------------------------\n",
      "Training: Loss: 0.748630  [    0/  194]\n",
      "Validation: Accuracy: 72.2%, Avg loss: 0.621422 \n",
      "\n",
      "Epoch 4 -------------------------------\n",
      "Training: Loss: 0.762224  [    0/  194]\n",
      "Validation: Accuracy: 72.2%, Avg loss: 0.621422 \n",
      "\n",
      "Epoch 5 -------------------------------\n",
      "Training: Loss: 0.786416  [    0/  194]\n",
      "Validation: Accuracy: 72.2%, Avg loss: 0.621422 \n",
      "\n",
      "Process completed.\n"
     ]
    }
   ],
   "source": [
    "# Start training process\n",
    "\n",
    "for t in range(epochs):\n",
    "    print(f\"Epoch {t+1} -------------------------------\")\n",
    "    train_loop(train_dataloader, model_ft, loss_fn, torch.optim.SGD(model.parameters(), lr=learning_rate, momentum=momentum))\n",
    "    test_loop(test_dataloader, model_ft, loss_fn)\n",
    "\n",
    "print(\"Process completed.\")"
   ]
  },
  {
   "cell_type": "markdown",
   "id": "5828e988-86e7-4c0b-b9bf-03210c04e76d",
   "metadata": {
    "id": "ySx_NOel9ilm"
   },
   "source": [
    "## Conclusions\n",
    "\n",
    "Without spending too much time tuning our models, we can see our trained-from-scratch model achieved 60% accuracy on the validation/test set, where the retrained model achieved 72% accuracy. This is a clear indication of the improvements Transfer Learning can bring about in cases of small datasets.\n",
    "\n",
    "A further hypothesis would be that retraining on a model that has been trained on a large dataset of field-related data, instead of ImageNet, would also offer significant improvements to our model's performance. This related dataset may not necessarily include the same images on what we wish to train on, but merely similar images like crops other than Tomato, as in our case."
   ]
  },
  {
   "cell_type": "markdown",
   "id": "a86178a0-dbed-4541-b83f-d8b67f51ce6f",
   "metadata": {
    "id": "dqhVkpKHbfCy"
   },
   "source": [
    "## Possible Extensions\n",
    "1. Use a different NN model.\n",
    "2. Use hyperparameter optimization (with extra validation subset).\n",
    "3. Use different, larger datasets, or employ data augmentation techniques to increase dataset size.\n",
    "4. Pretrain AlexNet model for Feature Extraction on similar agronomical images."
   ]
  },
  {
   "cell_type": "markdown",
   "id": "2a7e47b2-effd-4fa9-94ef-6a6628e18531",
   "metadata": {
    "id": "Nz7IYxN9Tlmo"
   },
   "source": [
    "## Bibliography\n",
    "\n",
    "Too, E.C., Yujian, L., Njuki, S., & Ying-chun, L. (2019). A comparative study of fine-tuning deep learning models for plant disease identification. Comput. Electron. Agric., 161, 272-279.\n",
    "\n",
    "Suh, H.K., IJsselmuiden, J., Hofstee, J.W., van Henten, E.J., (2018). Transfer learning for the classification of sugar beet and volunteer potato under field conditions. Biosystems Engineering; 174:50–65.\n",
    "\n",
    "Espejo-Garcia, B., Mylonas, N., Athanasakos, L., & Fountas, S., (2020). Improving\n",
    "Weeds Identification with a Repository of Agricultural Pre-trained Deep Neural\n",
    "Networks. Computers and Electronics in Agriculture; 175 (August).\n",
    "\n",
    "https://analyticsindiamag.com/implementing-alexnet-using-pytorch-as-a-transfer-learning-model-in-multi-class-classification/\n",
    "\n",
    "https://papers.nips.cc/paper/2012/file/c399862d3b9d6b76c8436e924a68c45b-Paper.pdf\n",
    "\n",
    "https://pytorch.org/hub/pytorch_vision_alexnet/\n",
    "\n",
    "https://pytorch.org/tutorials/beginner/transfer_learning_tutorial.html\n",
    "\n",
    "https://cs231n.github.io/transfer-learning/"
   ]
  }
 ],
 "metadata": {
  "kernelspec": {
   "display_name": "eden_pytorch",
   "language": "python",
   "name": "eden_pytorch"
  },
  "language_info": {
   "codemirror_mode": {
    "name": "ipython",
    "version": 3
   },
   "file_extension": ".py",
   "mimetype": "text/x-python",
   "name": "python",
   "nbconvert_exporter": "python",
   "pygments_lexer": "ipython3",
   "version": "3.9.6"
  }
 },
 "nbformat": 4,
 "nbformat_minor": 5
}
