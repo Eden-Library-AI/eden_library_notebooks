{
  "nbformat": 4,
  "nbformat_minor": 0,
  "metadata": {
    "colab": {
      "name": "Pytorch-ONNX.ipynb",
      "provenance": [],
      "collapsed_sections": []
    },
    "kernelspec": {
      "name": "python3",
      "display_name": "Python 3"
    },
    "language_info": {
      "name": "python"
    },
    "accelerator": "GPU",
    "widgets": {
      "application/vnd.jupyter.widget-state+json": {
        "4a6701d2d61b40d9bbcac6c5af7d0ef5": {
          "model_module": "@jupyter-widgets/controls",
          "model_name": "HBoxModel",
          "state": {
            "_view_name": "HBoxView",
            "_dom_classes": [],
            "_model_name": "HBoxModel",
            "_view_module": "@jupyter-widgets/controls",
            "_model_module_version": "1.5.0",
            "_view_count": null,
            "_view_module_version": "1.5.0",
            "box_style": "",
            "layout": "IPY_MODEL_5329a4929ebe4d0cbbdb76baae6af563",
            "_model_module": "@jupyter-widgets/controls",
            "children": [
              "IPY_MODEL_d6a2fccf32fd4c6286f7852e1cf5dc15",
              "IPY_MODEL_d7d3037983ab4bba8def9daf6138cdca"
            ]
          }
        },
        "5329a4929ebe4d0cbbdb76baae6af563": {
          "model_module": "@jupyter-widgets/base",
          "model_name": "LayoutModel",
          "state": {
            "_view_name": "LayoutView",
            "grid_template_rows": null,
            "right": null,
            "justify_content": null,
            "_view_module": "@jupyter-widgets/base",
            "overflow": null,
            "_model_module_version": "1.2.0",
            "_view_count": null,
            "flex_flow": null,
            "width": null,
            "min_width": null,
            "border": null,
            "align_items": null,
            "bottom": null,
            "_model_module": "@jupyter-widgets/base",
            "top": null,
            "grid_column": null,
            "overflow_y": null,
            "overflow_x": null,
            "grid_auto_flow": null,
            "grid_area": null,
            "grid_template_columns": null,
            "flex": null,
            "_model_name": "LayoutModel",
            "justify_items": null,
            "grid_row": null,
            "max_height": null,
            "align_content": null,
            "visibility": null,
            "align_self": null,
            "height": null,
            "min_height": null,
            "padding": null,
            "grid_auto_rows": null,
            "grid_gap": null,
            "max_width": null,
            "order": null,
            "_view_module_version": "1.2.0",
            "grid_template_areas": null,
            "object_position": null,
            "object_fit": null,
            "grid_auto_columns": null,
            "margin": null,
            "display": null,
            "left": null
          }
        },
        "d6a2fccf32fd4c6286f7852e1cf5dc15": {
          "model_module": "@jupyter-widgets/controls",
          "model_name": "FloatProgressModel",
          "state": {
            "_view_name": "ProgressView",
            "style": "IPY_MODEL_63af83fd96f64b1d95b5b2d57befdd4f",
            "_dom_classes": [],
            "description": "100%",
            "_model_name": "FloatProgressModel",
            "bar_style": "success",
            "max": 46830571,
            "_view_module": "@jupyter-widgets/controls",
            "_model_module_version": "1.5.0",
            "value": 46830571,
            "_view_count": null,
            "_view_module_version": "1.5.0",
            "orientation": "horizontal",
            "min": 0,
            "description_tooltip": null,
            "_model_module": "@jupyter-widgets/controls",
            "layout": "IPY_MODEL_f73de006f4204ac8af22690bcc8fbd0d"
          }
        },
        "d7d3037983ab4bba8def9daf6138cdca": {
          "model_module": "@jupyter-widgets/controls",
          "model_name": "HTMLModel",
          "state": {
            "_view_name": "HTMLView",
            "style": "IPY_MODEL_4fa102986e3a4fe8a82a3dd247d57384",
            "_dom_classes": [],
            "description": "",
            "_model_name": "HTMLModel",
            "placeholder": "​",
            "_view_module": "@jupyter-widgets/controls",
            "_model_module_version": "1.5.0",
            "value": " 44.7M/44.7M [00:18&lt;00:00, 2.52MB/s]",
            "_view_count": null,
            "_view_module_version": "1.5.0",
            "description_tooltip": null,
            "_model_module": "@jupyter-widgets/controls",
            "layout": "IPY_MODEL_19c25288200d4e5baa8c6da675bc2ff3"
          }
        },
        "63af83fd96f64b1d95b5b2d57befdd4f": {
          "model_module": "@jupyter-widgets/controls",
          "model_name": "ProgressStyleModel",
          "state": {
            "_view_name": "StyleView",
            "_model_name": "ProgressStyleModel",
            "description_width": "initial",
            "_view_module": "@jupyter-widgets/base",
            "_model_module_version": "1.5.0",
            "_view_count": null,
            "_view_module_version": "1.2.0",
            "bar_color": null,
            "_model_module": "@jupyter-widgets/controls"
          }
        },
        "f73de006f4204ac8af22690bcc8fbd0d": {
          "model_module": "@jupyter-widgets/base",
          "model_name": "LayoutModel",
          "state": {
            "_view_name": "LayoutView",
            "grid_template_rows": null,
            "right": null,
            "justify_content": null,
            "_view_module": "@jupyter-widgets/base",
            "overflow": null,
            "_model_module_version": "1.2.0",
            "_view_count": null,
            "flex_flow": null,
            "width": null,
            "min_width": null,
            "border": null,
            "align_items": null,
            "bottom": null,
            "_model_module": "@jupyter-widgets/base",
            "top": null,
            "grid_column": null,
            "overflow_y": null,
            "overflow_x": null,
            "grid_auto_flow": null,
            "grid_area": null,
            "grid_template_columns": null,
            "flex": null,
            "_model_name": "LayoutModel",
            "justify_items": null,
            "grid_row": null,
            "max_height": null,
            "align_content": null,
            "visibility": null,
            "align_self": null,
            "height": null,
            "min_height": null,
            "padding": null,
            "grid_auto_rows": null,
            "grid_gap": null,
            "max_width": null,
            "order": null,
            "_view_module_version": "1.2.0",
            "grid_template_areas": null,
            "object_position": null,
            "object_fit": null,
            "grid_auto_columns": null,
            "margin": null,
            "display": null,
            "left": null
          }
        },
        "4fa102986e3a4fe8a82a3dd247d57384": {
          "model_module": "@jupyter-widgets/controls",
          "model_name": "DescriptionStyleModel",
          "state": {
            "_view_name": "StyleView",
            "_model_name": "DescriptionStyleModel",
            "description_width": "",
            "_view_module": "@jupyter-widgets/base",
            "_model_module_version": "1.5.0",
            "_view_count": null,
            "_view_module_version": "1.2.0",
            "_model_module": "@jupyter-widgets/controls"
          }
        },
        "19c25288200d4e5baa8c6da675bc2ff3": {
          "model_module": "@jupyter-widgets/base",
          "model_name": "LayoutModel",
          "state": {
            "_view_name": "LayoutView",
            "grid_template_rows": null,
            "right": null,
            "justify_content": null,
            "_view_module": "@jupyter-widgets/base",
            "overflow": null,
            "_model_module_version": "1.2.0",
            "_view_count": null,
            "flex_flow": null,
            "width": null,
            "min_width": null,
            "border": null,
            "align_items": null,
            "bottom": null,
            "_model_module": "@jupyter-widgets/base",
            "top": null,
            "grid_column": null,
            "overflow_y": null,
            "overflow_x": null,
            "grid_auto_flow": null,
            "grid_area": null,
            "grid_template_columns": null,
            "flex": null,
            "_model_name": "LayoutModel",
            "justify_items": null,
            "grid_row": null,
            "max_height": null,
            "align_content": null,
            "visibility": null,
            "align_self": null,
            "height": null,
            "min_height": null,
            "padding": null,
            "grid_auto_rows": null,
            "grid_gap": null,
            "max_width": null,
            "order": null,
            "_view_module_version": "1.2.0",
            "grid_template_areas": null,
            "object_position": null,
            "object_fit": null,
            "grid_auto_columns": null,
            "margin": null,
            "display": null,
            "left": null
          }
        }
      }
    }
  },
  "cells": [
    {
      "cell_type": "markdown",
      "metadata": {
        "id": "QquaYpB00hfs"
      },
      "source": [
        "[<img src=\"https://user-images.githubusercontent.com/79705081/109483674-d3eea600-7a7f-11eb-9a25-58c50da4cde9.png\">](http://edenlibrary.ai/)"
      ]
    },
    {
      "cell_type": "markdown",
      "metadata": {
        "id": "yp-OgP370hft"
      },
      "source": [
        "## Instructions\n",
        "To run any of Eden's notebooks, please check the guides on our [Wiki page](https://github.com/Eden-Library-AI/eden_library_notebooks/wiki).<br>\n",
        "There you will find instructions on how to deploy the notebooks on [your local system](https://github.com/Eden-Library-AI/eden_library_notebooks/wiki/Deploy-Notebooks-Locally), on [Google Colab](https://github.com/Eden-Library-AI/eden_library_notebooks/wiki/Deploy-Notebooks-on-GColab), or on [MyBinder](https://github.com/Eden-Library-AI/eden_library_notebooks/wiki/Deploy-Notebooks-on-MyBinder), as well as other useful links, troubleshooting tips, and more.<br>\n",
        "For this notebook you will need to download the **Cotton-100619-Healthy-zz-V1-20210225102300**, **Black nightsade-220519-Weed-zz-V1-20210225102034**, **Tomato-240519-Healthy-zz-V1-20210225103740** and **Velvet leaf-220519-Weed-zz-V1-20210225104123** datasets from [Eden Library](https://edenlibrary.ai/datasets), and you may want to use the **eden_pytorch_transfer_learning.yml** file to recreate a suitable conda environment.\n",
        "\n",
        "**Note:** If you find any issues while executing the notebook, don't hesitate to open an issue on Github. We will try to reply as soon as possible."
      ]
    },
    {
      "cell_type": "markdown",
      "metadata": {
        "id": "dwqUKc-L0hft"
      },
      "source": [
        "## Background\n",
        "\n",
        "Open Neural Network Exchange ONNX provides an open source format for AI models, both deep learning and traditional ML. It defines an extensible computation graph model, as well as definitions of built-in operators and standard data types. \n",
        "\n",
        "ONNX is widely supported and can be found in many frameworks, tools, and hardware. Enabling interoperability between different frameworks and streamlining the path from research to production helps increase the speed of innovation in the AI community\n",
        "\n",
        "ONNX Runtime is a performance-focused engine for ONNX models, which inferences efficiently across multiple platforms and hardware (Windows, Linux, and Mac and on both CPUs and GPUs). ONNX Runtime has proved to considerably increase performance over multiple models.\n",
        "\n",
        "For this tutorial, you will need to install ONNX and ONNX Runtime. You can get binary builds of ONNX and ONNX Runtime with pip install onnx onnxruntime. Note that ONNX Runtime is compatible with Python versions 3.5 to 3.7.\n",
        "\n",
        "In this notebook we are going to make use of ONNX format and export our model from PyTorch to ONNX. Furthermore, we are going to use onnnxruntime to run inference.\n",
        "\n",
        "In this notebook, we are going to cover a technique called **Transfer Learning**, which generally refers to a process where a machine learning model is trained on one problem, and afterwards, it is reused in some way on a second (possibly) related problem (Bengio, 2012). Specifically, in **deep learning**, this technique is used by training only some layers of the pre-trained network. Its promise is that the training will be more efficient and in the best of the cases the performance will be better compared to a model trained from scratch. In this example we are using ResNet architecture and the PyTorch framework.\n",
        "\n",
        "It is important to note that in this notebook, inspite of making use of ONNX, we are also using the PyTorch framework to design and train our neural networks. This represents an extension over the previous Eden notebooks:\n",
        "1. https://github.com/Eden-Library-AI/eden_library_notebooks/blob/master/image_classification/weeds_identification-transfer_learning-1.ipynb\n",
        "2. https://github.com/Eden-Library-AI/eden_library_notebooks/blob/master/image_classification/weeds_identification-transfer_learning-2.ipynb\n",
        "3. https://github.com/Eden-Library-AI/eden_library_notebooks/blob/master/image_classification/weeds_identification-transfer_learning-3.ipynb\n",
        "4. https://github.com/Eden-Library-AI/eden_library_notebooks/blob/master/image_classification/weeds_identification-transfer_learning-4.ipynb\n",
        "5. https://github.com/Eden-Library-AI/eden_library_notebooks/blob/master/image_classification/weeds_identification-transfer_learning-5.ipynb"
      ]
    },
    {
      "cell_type": "markdown",
      "metadata": {
        "id": "HEZ1kYtlIJIf"
      },
      "source": [
        "### Importing Libraries"
      ]
    },
    {
      "cell_type": "code",
      "metadata": {
        "id": "hhJqeMkfivXv"
      },
      "source": [
        "# In case it is not installed in your system run pip installs ( Google Colab doesn't have onnx by default)\n",
        "!pip install onnx\n",
        "!pip install onnxruntime"
      ],
      "execution_count": null,
      "outputs": []
    },
    {
      "cell_type": "code",
      "metadata": {
        "id": "Xvqku2sVIO0s",
        "colab": {
          "base_uri": "https://localhost:8080/"
        },
        "outputId": "09faf09d-0ea8-4c6b-d89e-c29f8be5a699"
      },
      "source": [
        "!import torch\n",
        "import torch.nn as nn\n",
        "import torch.optim as optim\n",
        "from torch.optim import lr_scheduler\n",
        "import torchvision\n",
        "from torchvision import datasets, models, transforms\n",
        "\n",
        "import numpy as np\n",
        "import matplotlib.pyplot as plt\n",
        "import time\n",
        "import os \n",
        "import copy\n",
        "import random\n",
        "import shutil\n",
        "\n",
        "# onnx necessary packages\n",
        "import torch.onnx\n",
        "import onnx\n",
        "import onnxruntime\n",
        "\n",
        "plt.ion() # interactive mode"
      ],
      "execution_count": 9,
      "outputs": [
        {
          "output_type": "stream",
          "text": [
            "/bin/bash: import: command not found\n"
          ],
          "name": "stdout"
        }
      ]
    },
    {
      "cell_type": "markdown",
      "metadata": {
        "id": "-zO6c2eoAvt_"
      },
      "source": [
        "### Folder structuring \n",
        "We are going to create a main data folder 'eden_data' that will contain the 4 different datasets. We will also split the datasets into train and validation sub-sets. "
      ]
    },
    {
      "cell_type": "code",
      "metadata": {
        "id": "hMp60uWfULoe"
      },
      "source": [
        "# Change paths to suit your system (this was created for google colab)\n",
        "!mkdir /content/eden_data\n",
        "main_folder='/content/eden_data/'\n",
        "\n",
        "# Create train and val folders that will host the data.\n",
        "train_path= '/content/eden_data/train'\n",
        "if not os.path.exists(train_path):\n",
        "  os.makedirs(train_path)\n",
        "val_path= '/content/eden_data/val'\n",
        "if not os.path.exists(val_path):\n",
        "  os.makedirs(val_path)\n",
        "\n",
        "classes=['BlackNightsade','Tomato','Cotton',\n",
        "         'Velvet leaf']\n",
        "num_classes= len(classes) # we will need this later\n",
        "for class_name in classes:\n",
        "    # Path to source folders\n",
        "    class_path = main_folder + class_name\n",
        "\n",
        "    # Create subfolder for each class in validation folder\n",
        "    class_val_path = val_path + os.path.sep + class_name\n",
        "    os.mkdir(class_val_path)\n",
        "    # Move original folder to train folder, created above\n",
        "    class_train_path = train_path +os.path.sep + class_name\n",
        "    shutil.move( class_path, train_path)\n",
        "\n",
        "    # List of all files\n",
        "    images = os.listdir(class_train_path)\n",
        "\n",
        "    # Splitting randomly, choosing some files for validation.\n",
        "    valid_images = random.sample(images,(int(round(len(images)*0.2)))) #Change ' *0.1 ' to whatever train-test split value you want\n",
        "    # Move validation images to validation folder\n",
        "    for val_image in valid_images:\n",
        "      shutil.move( class_train_path + os.path.sep + val_image,\n",
        "                   class_val_path + os.path.sep + val_image)\n",
        "      print(\"Moved \",val_image,\" to validation images\" )"
      ],
      "execution_count": null,
      "outputs": []
    },
    {
      "cell_type": "markdown",
      "metadata": {
        "id": "TSz6HE1Fvj_2"
      },
      "source": [
        "### Auxiliar functions "
      ]
    },
    {
      "cell_type": "code",
      "metadata": {
        "id": "PAE-Uq355fpL"
      },
      "source": [
        "'''Training function. Train input model based on the parameters given.\n",
        "   Input:\n",
        "    model: model to train\n",
        "    criterion: loss function to be used for training \n",
        "    optimizer: optimizer \n",
        "    scheduler: learning rate scheduler\n",
        "    num_epochs: number of training epochs\n",
        "\n",
        "   Returns: Trained model\n",
        "  \n",
        "'''\n",
        "def train_model(model, criterion, optimizer, scheduler, num_epochs=50):\n",
        "  since = time.time()\n",
        "  best_model = copy.deepcopy(model.state_dict())\n",
        "  best_acc = 0.0\n",
        "\n",
        "  for epoch in range(num_epochs):\n",
        "    print('Epoch {}/{}'.format(epoch,num_epochs -1 ))\n",
        "    print('-'*10)\n",
        "\n",
        "    # Each epoch has a training and a validation phase\n",
        "    for phase in ['train','val'] :\n",
        "      if phase == 'train':\n",
        "        model.train() # Set model to training mode\n",
        "      else:\n",
        "        model.eval()  # Set model to evaluation mode\n",
        "      \n",
        "      # Reset loss\n",
        "      running_loss = 0.0\n",
        "      running_corrects = 0\n",
        "      \n",
        "      #Iterate over data\n",
        "      for inputs, labels in dataloaders[phase]:\n",
        "        inputs = inputs.to(device)\n",
        "        labels = labels.to(device)\n",
        "\n",
        "        # zero the parameters gradients\n",
        "        optimizer.zero_grad()\n",
        "\n",
        "        #forward\n",
        "        #track history if only in train\n",
        "        with torch.set_grad_enabled( phase== 'train'):\n",
        "          outputs = model(inputs)\n",
        "          _,preds = torch.max(outputs, 1)\n",
        "          loss = criterion(outputs, labels)\n",
        "\n",
        "          # backward pass + optimize only if in training phase\n",
        "          if phase == 'train':\n",
        "            loss.backward()\n",
        "            optimizer.step()\n",
        "\n",
        "        #statistics\n",
        "        running_loss +=  loss.item() * inputs.size(0)\n",
        "        running_corrects += torch.sum(preds == labels.data)\n",
        "      if phase =='train':\n",
        "        scheduler.step()\n",
        "\n",
        "      epoch_loss = running_loss / dataset_sizes[phase]\n",
        "      epoch_acc = running_corrects.double() / dataset_sizes[phase]\n",
        "\n",
        "      print('{} Loss: {:.4f} Acc: {:.4f}'.format(\n",
        "                phase, epoch_loss, epoch_acc))\n",
        "\n",
        "      # deep copy the model\n",
        "      if phase == 'val' and epoch_acc > best_acc:\n",
        "          best_acc = epoch_acc\n",
        "          best_model_wts = copy.deepcopy(model.state_dict())\n",
        "\n",
        "    print()\n",
        "  \n",
        "  time_elapsed = time.time() - since\n",
        "  print('Training complete in {:.0f}m {:.0f}s'.format(\n",
        "        time_elapsed // 60, time_elapsed % 60))\n",
        "  print('Best val Acc: {:4f}'.format(best_acc))\n",
        "\n",
        "  # load best model weights\n",
        "  model.load_state_dict(best_model_wts)\n",
        "  return model"
      ],
      "execution_count": 13,
      "outputs": []
    },
    {
      "cell_type": "code",
      "metadata": {
        "id": "fiSNg6MJarNj"
      },
      "source": [
        "'''\n",
        "Runs inference on a defined number of images with the specified model. Plots the images with the model's predictions. \n",
        " Input:\n",
        "  model : model to run inference with\n",
        "  num_images : number of validation set images to make predictions on \n",
        "\n",
        " Returns : Plotted images and predictions\n",
        "'''\n",
        "def visualize_predictions(model, num_images=6):\n",
        "    was_training = model.training\n",
        "    model.eval()\n",
        "    images_so_far = 0\n",
        "    fig = plt.figure()\n",
        "\n",
        "    with torch.no_grad():\n",
        "        for i, (inputs, labels) in enumerate(dataloaders['val']):\n",
        "            inputs = inputs.to(device)\n",
        "            labels = labels.to(device)\n",
        "\n",
        "            outputs = model(inputs)\n",
        "            _, preds = torch.max(outputs, 1)\n",
        "\n",
        "\n",
        "            for j in range(inputs.size()[0]):\n",
        "                images_so_far += 1\n",
        "                ax = plt.subplot(num_images//2, 2, images_so_far)\n",
        "                ax.axis('off')\n",
        "                ax.set_title('predicted: {} with'.format(class_names[preds[j]]) +'  Actual class: {}'.format(class_names[labels[j]]))\n",
        "                imshow(inputs.cpu().data[j])\n",
        "\n",
        "                if images_so_far == num_images:\n",
        "                    model.train(mode=was_training)\n",
        "                    return\n",
        "        model.train(mode=was_training)"
      ],
      "execution_count": 14,
      "outputs": []
    },
    {
      "cell_type": "code",
      "metadata": {
        "id": "RmhCuICPg9os"
      },
      "source": [
        "'''\n",
        "Plot images\n",
        "'''\n",
        "def imshow(inp, title=None):\n",
        "    \"\"\"Imshow for Tensor.\"\"\"\n",
        "    inp = inp.numpy().transpose((1, 2, 0))\n",
        "    mean = np.array([0.485, 0.456, 0.406])\n",
        "    std = np.array([0.229, 0.224, 0.225])\n",
        "    inp = std * inp + mean\n",
        "    inp = np.clip(inp, 0, 1)\n",
        "    plt.imshow(inp)\n",
        "    if title is not None:\n",
        "        plt.title(title)\n",
        "    plt.pause(0.001)  # pause a bit so that plots are updated\n"
      ],
      "execution_count": 15,
      "outputs": []
    },
    {
      "cell_type": "markdown",
      "metadata": {
        "id": "qb7d5siZIpuw"
      },
      "source": [
        "### Data loading and augmentation\n",
        "\n",
        "First we need to load our data into our pipeline. Since our dataset is not very big we are going to apply some data augmentation in order to increase the generalization power of the network. Lastly, we are going to normalize our training and validation data for better performance and accuracy.\n"
      ]
    },
    {
      "cell_type": "code",
      "metadata": {
        "id": "E_iZOQTFJOp6"
      },
      "source": [
        "# Defining some Augmentation techniques\n",
        "data_transforms= {\n",
        "    # We are going to use Compose,in order to chain together multiple transformations\n",
        "    'train': transforms.Compose([\n",
        "          transforms.RandomResizedCrop((224,224)),\n",
        "          transforms.RandomHorizontalFlip(),\n",
        "          # Converting images to tensors. PyTorch needs input in tensor form.\n",
        "          transforms.ToTensor(),\n",
        "          transforms.Normalize(mean=[0.485, 0.456, 0.406],\n",
        "                                 std=[0.229, 0.224, 0.225])\n",
        "    ]),\n",
        "    'val': transforms.Compose([\n",
        "          transforms.Resize((224,224)),\n",
        "          transforms.CenterCrop(224),\n",
        "          # Converting images to tensors. PyTorch needs input in tensor form.\n",
        "          transforms.ToTensor(),\n",
        "          transforms.Normalize(mean=[0.485, 0.456, 0.406],\n",
        "                                 std=[0.229, 0.224, 0.225])\n",
        "    ])\n",
        "}"
      ],
      "execution_count": 16,
      "outputs": []
    },
    {
      "cell_type": "code",
      "metadata": {
        "colab": {
          "base_uri": "https://localhost:8080/"
        },
        "id": "p9d715AFOdRQ",
        "outputId": "1dab194e-14d5-4359-a720-85416714480f"
      },
      "source": [
        "# Loading the datasets\n",
        "data_dir ='/content/eden_data'\n",
        "image_datasets = { x:datasets.ImageFolder(os.path.join(data_dir,x),\n",
        "                  data_transforms[x])\n",
        "                  for x in ['train', 'val']     \n",
        "                  }\n",
        "\n",
        "dataloaders = {x: torch.utils.data.DataLoader(image_datasets[x], batch_size=4,\n",
        "                                              shuffle=True, num_workers=1)\n",
        "                for x in ['train','val']\n",
        "               }\n",
        "\n",
        "dataset_sizes= {x: len(image_datasets[x]) for x in ['train','val']}\n",
        "class_names= image_datasets['train'].classes\n",
        "print(\"Class names :\", class_names)\n",
        "print(\"Dataset_sizes : \", dataset_sizes)\n",
        "# Setting up device either cuda GPU or CPU\n",
        "device = torch.device(\"cuda:0\" if torch.cuda.is_available() else \"cpu\")"
      ],
      "execution_count": 17,
      "outputs": [
        {
          "output_type": "stream",
          "text": [
            "Class names : ['BlackNightsade', 'Cotton', 'Tomato', 'Velvet leaf']\n",
            "Dataset_sizes :  {'train': 398, 'val': 100}\n"
          ],
          "name": "stdout"
        }
      ]
    },
    {
      "cell_type": "markdown",
      "metadata": {
        "id": "5S0_-SbgCPx7"
      },
      "source": [
        "#### Visualizing some of the augmented training data"
      ]
    },
    {
      "cell_type": "code",
      "metadata": {
        "colab": {
          "base_uri": "https://localhost:8080/",
          "height": 166
        },
        "id": "yeFgaKIkyVrG",
        "outputId": "2bd8daa7-d8f9-4f07-d5ba-afe83a06d3e5"
      },
      "source": [
        "# Get a batch of training data\n",
        "inputs, classes = next(iter(dataloaders['train']))\n",
        "print( \"Images' size: \",inputs.size())\n",
        "# Make a grid from batch\n",
        "out = torchvision.utils.make_grid(inputs)\n",
        "\n",
        "imshow(out, title=[class_names[x] for x in classes])"
      ],
      "execution_count": 18,
      "outputs": [
        {
          "output_type": "stream",
          "text": [
            "Images' size:  torch.Size([4, 3, 224, 224])\n"
          ],
          "name": "stdout"
        },
        {
          "output_type": "display_data",
          "data": {
            "image/png": "[encoded data removed]",
            "text/plain": [
              "<Figure size 432x288 with 1 Axes>"
            ]
          },
          "metadata": {
            "tags": [],
            "needs_background": "light"
          }
        }
      ]
    },
    {
      "cell_type": "markdown",
      "metadata": {
        "id": "bk01UM6jl9pi"
      },
      "source": [
        "### Preparing Resnet as a feature exctractor "
      ]
    },
    {
      "cell_type": "code",
      "metadata": {
        "colab": {
          "base_uri": "https://localhost:8080/",
          "height": 122,
          "referenced_widgets": [
            "4a6701d2d61b40d9bbcac6c5af7d0ef5",
            "5329a4929ebe4d0cbbdb76baae6af563",
            "d6a2fccf32fd4c6286f7852e1cf5dc15",
            "d7d3037983ab4bba8def9daf6138cdca",
            "63af83fd96f64b1d95b5b2d57befdd4f",
            "f73de006f4204ac8af22690bcc8fbd0d",
            "4fa102986e3a4fe8a82a3dd247d57384",
            "19c25288200d4e5baa8c6da675bc2ff3"
          ]
        },
        "id": "Vtt3gA0mmGY0",
        "outputId": "21b18a8c-5b11-4346-d83e-eda2c4abf840"
      },
      "source": [
        "# Loading Resnet through torchvision API with pretrained weights.\n",
        "conv_net = torchvision.models.resnet18(pretrained=True)\n",
        "# Freeze parameters so that their gradients are not computed in backward propagation.\n",
        "for param in conv_net.parameters():\n",
        "  param.requires_grad = False\n",
        "\n",
        "# Reshaping the last layers of the Network\n",
        "num_ftrs = conv_net.fc.in_features\n",
        "print(\"Num of features :\",num_ftrs)\n",
        "\n",
        "#This is a manual process, check \n",
        "#https://pytorch.org/tutorials/beginner/finetuning_torchvision_models_tutorial.html for more details. \n",
        "num_classes =4  \n",
        "# Adding a Fully Connected layer on top of the pretrained network\n",
        "conv_net.fc = nn.Linear(num_ftrs,num_classes)\n",
        "\n",
        "# Moving computations to GPU\n",
        "conv_net = conv_net.to(device)\n",
        "\n",
        "# Defining loss function to be used on training \n",
        "criterion = nn.CrossEntropyLoss()\n",
        "# Optimize only the final layers \n",
        "optimizer = optim.SGD(conv_net.fc.parameters(), lr=0.001, momentum=0.9)\n",
        "# Decay Lr  by a factor of 0.1 every 10 epochs\n",
        "exp_lr_scheduler =lr_scheduler.StepLR(optimizer,step_size=10,gamma=0.1, verbose=True)"
      ],
      "execution_count": 20,
      "outputs": [
        {
          "output_type": "stream",
          "text": [
            "Downloading: \"https://download.pytorch.org/models/resnet18-f37072fd.pth\" to /root/.cache/torch/hub/checkpoints/resnet18-f37072fd.pth\n"
          ],
          "name": "stderr"
        },
        {
          "output_type": "display_data",
          "data": {
            "application/vnd.jupyter.widget-view+json": {
              "model_id": "4a6701d2d61b40d9bbcac6c5af7d0ef5",
              "version_minor": 0,
              "version_major": 2
            },
            "text/plain": [
              "HBox(children=(FloatProgress(value=0.0, max=46830571.0), HTML(value='')))"
            ]
          },
          "metadata": {
            "tags": []
          }
        },
        {
          "output_type": "stream",
          "text": [
            "\n",
            "Num of features : 512\n",
            "Adjusting learning rate of group 0 to 1.0000e-03.\n"
          ],
          "name": "stdout"
        }
      ]
    },
    {
      "cell_type": "markdown",
      "metadata": {
        "id": "smXlWVwnAm-H"
      },
      "source": [
        "### Call training"
      ]
    },
    {
      "cell_type": "code",
      "metadata": {
        "colab": {
          "base_uri": "https://localhost:8080/"
        },
        "id": "ghiFp3tyAmkA",
        "outputId": "b22a168a-4996-42c5-bf46-0b361ab10ba7"
      },
      "source": [
        "# This is a way to avoid errors for corrupted images\n",
        "from PIL import Image, ImageFile\n",
        "ImageFile.LOAD_TRUNCATED_IMAGES = True\n",
        "\n",
        "conv_net = train_model(conv_net, criterion, optimizer, exp_lr_scheduler, num_epochs=20)"
      ],
      "execution_count": 21,
      "outputs": [
        {
          "output_type": "stream",
          "text": [
            "Epoch 0/19\n",
            "----------\n"
          ],
          "name": "stdout"
        },
        {
          "output_type": "stream",
          "text": [
            "/usr/local/lib/python3.7/dist-packages/torch/nn/functional.py:718: UserWarning: Named tensors and all their associated APIs are an experimental feature and subject to change. Please do not use them for anything important until they are released as stable. (Triggered internally at  /pytorch/c10/core/TensorImpl.h:1156.)\n",
            "  return torch.max_pool2d(input, kernel_size, stride, padding, dilation, ceil_mode)\n"
          ],
          "name": "stderr"
        },
        {
          "output_type": "stream",
          "text": [
            "Adjusting learning rate of group 0 to 1.0000e-03.\n",
            "train Loss: 1.2174 Acc: 0.5101\n",
            "val Loss: 1.0460 Acc: 0.6400\n",
            "\n",
            "Epoch 1/19\n",
            "----------\n",
            "Adjusting learning rate of group 0 to 1.0000e-03.\n",
            "train Loss: 0.8956 Acc: 0.6608\n",
            "val Loss: 0.5307 Acc: 0.7900\n",
            "\n",
            "Epoch 2/19\n",
            "----------\n",
            "Adjusting learning rate of group 0 to 1.0000e-03.\n",
            "train Loss: 0.7132 Acc: 0.7111\n",
            "val Loss: 0.3422 Acc: 0.9000\n",
            "\n",
            "Epoch 3/19\n",
            "----------\n",
            "Adjusting learning rate of group 0 to 1.0000e-03.\n",
            "train Loss: 0.7034 Acc: 0.7312\n",
            "val Loss: 0.3271 Acc: 0.8900\n",
            "\n",
            "Epoch 4/19\n",
            "----------\n",
            "Adjusting learning rate of group 0 to 1.0000e-03.\n",
            "train Loss: 0.6044 Acc: 0.7739\n",
            "val Loss: 0.2874 Acc: 0.9100\n",
            "\n",
            "Epoch 5/19\n",
            "----------\n",
            "Adjusting learning rate of group 0 to 1.0000e-03.\n",
            "train Loss: 0.6398 Acc: 0.7538\n",
            "val Loss: 0.2133 Acc: 0.9400\n",
            "\n",
            "Epoch 6/19\n",
            "----------\n",
            "Adjusting learning rate of group 0 to 1.0000e-03.\n",
            "train Loss: 0.6269 Acc: 0.7714\n",
            "val Loss: 0.4764 Acc: 0.8600\n",
            "\n",
            "Epoch 7/19\n",
            "----------\n",
            "Adjusting learning rate of group 0 to 1.0000e-03.\n",
            "train Loss: 0.6952 Acc: 0.7261\n",
            "val Loss: 0.2012 Acc: 0.9500\n",
            "\n",
            "Epoch 8/19\n",
            "----------\n",
            "Adjusting learning rate of group 0 to 1.0000e-03.\n",
            "train Loss: 0.5045 Acc: 0.8015\n",
            "val Loss: 0.2779 Acc: 0.9000\n",
            "\n",
            "Epoch 9/19\n",
            "----------\n",
            "Adjusting learning rate of group 0 to 1.0000e-04.\n",
            "train Loss: 0.5268 Acc: 0.7940\n",
            "val Loss: 0.3714 Acc: 0.8600\n",
            "\n",
            "Epoch 10/19\n",
            "----------\n",
            "Adjusting learning rate of group 0 to 1.0000e-04.\n",
            "train Loss: 0.5326 Acc: 0.8040\n",
            "val Loss: 0.1990 Acc: 0.9400\n",
            "\n",
            "Epoch 11/19\n",
            "----------\n",
            "Adjusting learning rate of group 0 to 1.0000e-04.\n",
            "train Loss: 0.4761 Acc: 0.8216\n",
            "val Loss: 0.2812 Acc: 0.9000\n",
            "\n",
            "Epoch 12/19\n",
            "----------\n",
            "Adjusting learning rate of group 0 to 1.0000e-04.\n",
            "train Loss: 0.4643 Acc: 0.8141\n",
            "val Loss: 0.2552 Acc: 0.9400\n",
            "\n",
            "Epoch 13/19\n",
            "----------\n",
            "Adjusting learning rate of group 0 to 1.0000e-04.\n",
            "train Loss: 0.4079 Acc: 0.8518\n",
            "val Loss: 0.3049 Acc: 0.9000\n",
            "\n",
            "Epoch 14/19\n",
            "----------\n",
            "Adjusting learning rate of group 0 to 1.0000e-04.\n",
            "train Loss: 0.4664 Acc: 0.8090\n",
            "val Loss: 0.2669 Acc: 0.8800\n",
            "\n",
            "Epoch 15/19\n",
            "----------\n",
            "Adjusting learning rate of group 0 to 1.0000e-04.\n",
            "train Loss: 0.5015 Acc: 0.8040\n",
            "val Loss: 0.1950 Acc: 0.9400\n",
            "\n",
            "Epoch 16/19\n",
            "----------\n",
            "Adjusting learning rate of group 0 to 1.0000e-04.\n",
            "train Loss: 0.4345 Acc: 0.8342\n",
            "val Loss: 0.1972 Acc: 0.9400\n",
            "\n",
            "Epoch 17/19\n",
            "----------\n",
            "Adjusting learning rate of group 0 to 1.0000e-04.\n",
            "train Loss: 0.4171 Acc: 0.8291\n",
            "val Loss: 0.1947 Acc: 0.9400\n",
            "\n",
            "Epoch 18/19\n",
            "----------\n",
            "Adjusting learning rate of group 0 to 1.0000e-04.\n",
            "train Loss: 0.5557 Acc: 0.8040\n",
            "val Loss: 0.1961 Acc: 0.9400\n",
            "\n",
            "Epoch 19/19\n",
            "----------\n",
            "Adjusting learning rate of group 0 to 1.0000e-05.\n",
            "train Loss: 0.4061 Acc: 0.8492\n",
            "val Loss: 0.2297 Acc: 0.9400\n",
            "\n",
            "Training complete in 44m 13s\n",
            "Best val Acc: 0.950000\n"
          ],
          "name": "stdout"
        }
      ]
    },
    {
      "cell_type": "code",
      "metadata": {
        "id": "u_24WdOKnoHt",
        "colab": {
          "base_uri": "https://localhost:8080/",
          "height": 687
        },
        "outputId": "7bbf40e1-af35-494a-c9ec-b8b0cf6af90b"
      },
      "source": [
        "visualize_predictions(conv_net, 10)\n",
        "plt.ioff()\n",
        "plt.show()"
      ],
      "execution_count": 28,
      "outputs": [
        {
          "output_type": "display_data",
          "data": {
            "image/png": "[encoded data removed]",
            "text/plain": [
              "<Figure size 432x288 with 1 Axes>"
            ]
          },
          "metadata": {
            "tags": [],
            "needs_background": "light"
          }
        },
        {
          "output_type": "display_data",
          "data": {
            "image/png": "[encoded data removed]",
            "text/plain": [
              "<Figure size 432x288 with 1 Axes>"
            ]
          },
          "metadata": {
            "tags": [],
            "needs_background": "light"
          }
        },
        {
          "output_type": "display_data",
          "data": {
            "image/png": "[encoded data removed]",
            "text/plain": [
              "<Figure size 432x288 with 1 Axes>"
            ]
          },
          "metadata": {
            "tags": [],
            "needs_background": "light"
          }
        },
        {
          "output_type": "display_data",
          "data": {
            "image/png": "[encoded data removed]",
            "text/plain": [
              "<Figure size 432x288 with 1 Axes>"
            ]
          },
          "metadata": {
            "tags": [],
            "needs_background": "light"
          }
        },
        {
          "output_type": "display_data",
          "data": {
            "image/png": "[encoded data removed]",
            "text/plain": [
              "<Figure size 432x288 with 1 Axes>"
            ]
          },
          "metadata": {
            "tags": [],
            "needs_background": "light"
          }
        },
        {
          "output_type": "display_data",
          "data": {
            "image/png": "[encoded data removed]",
            "text/plain": [
              "<Figure size 432x288 with 1 Axes>"
            ]
          },
          "metadata": {
            "tags": [],
            "needs_background": "light"
          }
        },
        {
          "output_type": "display_data",
          "data": {
            "image/png": "[encoded data removed]",
            "text/plain": [
              "<Figure size 432x288 with 1 Axes>"
            ]
          },
          "metadata": {
            "tags": [],
            "needs_background": "light"
          }
        },
        {
          "output_type": "display_data",
          "data": {
            "image/png": "[encoded data removed]",
            "text/plain": [
              "<Figure size 432x288 with 1 Axes>"
            ]
          },
          "metadata": {
            "tags": [],
            "needs_background": "light"
          }
        },
        {
          "output_type": "display_data",
          "data": {
            "image/png": "[encoded data removed]",
            "text/plain": [
              "<Figure size 432x288 with 1 Axes>"
            ]
          },
          "metadata": {
            "tags": [],
            "needs_background": "light"
          }
        },
        {
          "output_type": "display_data",
          "data": {
            "image/png": "[encoded data removed]",
            "text/plain": [
              "<Figure size 432x288 with 1 Axes>"
            ]
          },
          "metadata": {
            "tags": [],
            "needs_background": "light"
          }
        }
      ]
    },
    {
      "cell_type": "markdown",
      "metadata": {
        "id": "MHGHnb8JLyQF"
      },
      "source": [
        "# Exporting to ONNX format and Running the model with ONNX runtime\n",
        "We are now going to use pytorch exporter to export our model in ONNX format. Then we are going to load our model on the onnx runtime and do inference on some images."
      ]
    },
    {
      "cell_type": "code",
      "metadata": {
        "id": "8g7iKsIoMkWX"
      },
      "source": [
        "# Running inference with a dummy tensor to fix input sizes of the network\n",
        "x = torch.randn(1, 3, 224, 224, requires_grad=True)\n",
        "x = x.to(device)\n",
        "torch_out = conv_net(x)\n",
        "\n",
        "# Export the model\n",
        "torch.onnx.export(conv_net,               # model being run\n",
        "                  x,                         # model input (or a tuple for multiple inputs)\n",
        "                  \"Plant_classifier.onnx\",   # where to save the model (can be a file or file-like object)\n",
        "                  export_params=True,        # store the trained parameter weights inside the model file\n",
        "                  opset_version=13)          # the ONNX version to export the model to"
      ],
      "execution_count": 23,
      "outputs": []
    },
    {
      "cell_type": "code",
      "metadata": {
        "colab": {
          "base_uri": "https://localhost:8080/"
        },
        "id": "G1DKahk_Oj6y",
        "outputId": "f9647303-d0de-40d4-a2f5-66c26d7f1103"
      },
      "source": [
        "# load the model with the onnx API \n",
        "onnx_model = onnx.load(\"Plant_classifier.onnx\")\n",
        "onnx.checker.check_model(onnx_model)\n",
        "# Print a human readable representation of the onnx graph\n",
        "print(onnx.helper.printable_graph(onnx_model.graph))"
      ],
      "execution_count": 24,
      "outputs": [
        {
          "output_type": "stream",
          "text": [
            "graph torch-jit-export (\n",
            "  %input.1[FLOAT, 1x3x224x224]\n",
            ") initializers (\n",
            "  %fc.weight[FLOAT, 4x512]\n",
            "  %fc.bias[FLOAT, 4]\n",
            "  %193[FLOAT, 64x3x7x7]\n",
            "  %194[FLOAT, 64]\n",
            "  %196[FLOAT, 64x64x3x3]\n",
            "  %197[FLOAT, 64]\n",
            "  %199[FLOAT, 64x64x3x3]\n",
            "  %200[FLOAT, 64]\n",
            "  %202[FLOAT, 64x64x3x3]\n",
            "  %203[FLOAT, 64]\n",
            "  %205[FLOAT, 64x64x3x3]\n",
            "  %206[FLOAT, 64]\n",
            "  %208[FLOAT, 128x64x3x3]\n",
            "  %209[FLOAT, 128]\n",
            "  %211[FLOAT, 128x128x3x3]\n",
            "  %212[FLOAT, 128]\n",
            "  %214[FLOAT, 128x64x1x1]\n",
            "  %215[FLOAT, 128]\n",
            "  %217[FLOAT, 128x128x3x3]\n",
            "  %218[FLOAT, 128]\n",
            "  %220[FLOAT, 128x128x3x3]\n",
            "  %221[FLOAT, 128]\n",
            "  %223[FLOAT, 256x128x3x3]\n",
            "  %224[FLOAT, 256]\n",
            "  %226[FLOAT, 256x256x3x3]\n",
            "  %227[FLOAT, 256]\n",
            "  %229[FLOAT, 256x128x1x1]\n",
            "  %230[FLOAT, 256]\n",
            "  %232[FLOAT, 256x256x3x3]\n",
            "  %233[FLOAT, 256]\n",
            "  %235[FLOAT, 256x256x3x3]\n",
            "  %236[FLOAT, 256]\n",
            "  %238[FLOAT, 512x256x3x3]\n",
            "  %239[FLOAT, 512]\n",
            "  %241[FLOAT, 512x512x3x3]\n",
            "  %242[FLOAT, 512]\n",
            "  %244[FLOAT, 512x256x1x1]\n",
            "  %245[FLOAT, 512]\n",
            "  %247[FLOAT, 512x512x3x3]\n",
            "  %248[FLOAT, 512]\n",
            "  %250[FLOAT, 512x512x3x3]\n",
            "  %251[FLOAT, 512]\n",
            ") {\n",
            "  %192 = Conv[dilations = [1, 1], group = 1, kernel_shape = [7, 7], pads = [3, 3, 3, 3], strides = [2, 2]](%input.1, %193, %194)\n",
            "  %125 = Relu(%192)\n",
            "  %126 = MaxPool[ceil_mode = 0, kernel_shape = [3, 3], pads = [1, 1, 1, 1], strides = [2, 2]](%125)\n",
            "  %195 = Conv[dilations = [1, 1], group = 1, kernel_shape = [3, 3], pads = [1, 1, 1, 1], strides = [1, 1]](%126, %196, %197)\n",
            "  %129 = Relu(%195)\n",
            "  %198 = Conv[dilations = [1, 1], group = 1, kernel_shape = [3, 3], pads = [1, 1, 1, 1], strides = [1, 1]](%129, %199, %200)\n",
            "  %132 = Add(%198, %126)\n",
            "  %133 = Relu(%132)\n",
            "  %201 = Conv[dilations = [1, 1], group = 1, kernel_shape = [3, 3], pads = [1, 1, 1, 1], strides = [1, 1]](%133, %202, %203)\n",
            "  %136 = Relu(%201)\n",
            "  %204 = Conv[dilations = [1, 1], group = 1, kernel_shape = [3, 3], pads = [1, 1, 1, 1], strides = [1, 1]](%136, %205, %206)\n",
            "  %139 = Add(%204, %133)\n",
            "  %140 = Relu(%139)\n",
            "  %207 = Conv[dilations = [1, 1], group = 1, kernel_shape = [3, 3], pads = [1, 1, 1, 1], strides = [2, 2]](%140, %208, %209)\n",
            "  %143 = Relu(%207)\n",
            "  %210 = Conv[dilations = [1, 1], group = 1, kernel_shape = [3, 3], pads = [1, 1, 1, 1], strides = [1, 1]](%143, %211, %212)\n",
            "  %213 = Conv[dilations = [1, 1], group = 1, kernel_shape = [1, 1], pads = [0, 0, 0, 0], strides = [2, 2]](%140, %214, %215)\n",
            "  %148 = Add(%210, %213)\n",
            "  %149 = Relu(%148)\n",
            "  %216 = Conv[dilations = [1, 1], group = 1, kernel_shape = [3, 3], pads = [1, 1, 1, 1], strides = [1, 1]](%149, %217, %218)\n",
            "  %152 = Relu(%216)\n",
            "  %219 = Conv[dilations = [1, 1], group = 1, kernel_shape = [3, 3], pads = [1, 1, 1, 1], strides = [1, 1]](%152, %220, %221)\n",
            "  %155 = Add(%219, %149)\n",
            "  %156 = Relu(%155)\n",
            "  %222 = Conv[dilations = [1, 1], group = 1, kernel_shape = [3, 3], pads = [1, 1, 1, 1], strides = [2, 2]](%156, %223, %224)\n",
            "  %159 = Relu(%222)\n",
            "  %225 = Conv[dilations = [1, 1], group = 1, kernel_shape = [3, 3], pads = [1, 1, 1, 1], strides = [1, 1]](%159, %226, %227)\n",
            "  %228 = Conv[dilations = [1, 1], group = 1, kernel_shape = [1, 1], pads = [0, 0, 0, 0], strides = [2, 2]](%156, %229, %230)\n",
            "  %164 = Add(%225, %228)\n",
            "  %165 = Relu(%164)\n",
            "  %231 = Conv[dilations = [1, 1], group = 1, kernel_shape = [3, 3], pads = [1, 1, 1, 1], strides = [1, 1]](%165, %232, %233)\n",
            "  %168 = Relu(%231)\n",
            "  %234 = Conv[dilations = [1, 1], group = 1, kernel_shape = [3, 3], pads = [1, 1, 1, 1], strides = [1, 1]](%168, %235, %236)\n",
            "  %171 = Add(%234, %165)\n",
            "  %172 = Relu(%171)\n",
            "  %237 = Conv[dilations = [1, 1], group = 1, kernel_shape = [3, 3], pads = [1, 1, 1, 1], strides = [2, 2]](%172, %238, %239)\n",
            "  %175 = Relu(%237)\n",
            "  %240 = Conv[dilations = [1, 1], group = 1, kernel_shape = [3, 3], pads = [1, 1, 1, 1], strides = [1, 1]](%175, %241, %242)\n",
            "  %243 = Conv[dilations = [1, 1], group = 1, kernel_shape = [1, 1], pads = [0, 0, 0, 0], strides = [2, 2]](%172, %244, %245)\n",
            "  %180 = Add(%240, %243)\n",
            "  %181 = Relu(%180)\n",
            "  %246 = Conv[dilations = [1, 1], group = 1, kernel_shape = [3, 3], pads = [1, 1, 1, 1], strides = [1, 1]](%181, %247, %248)\n",
            "  %184 = Relu(%246)\n",
            "  %249 = Conv[dilations = [1, 1], group = 1, kernel_shape = [3, 3], pads = [1, 1, 1, 1], strides = [1, 1]](%184, %250, %251)\n",
            "  %187 = Add(%249, %181)\n",
            "  %188 = Relu(%187)\n",
            "  %189 = GlobalAveragePool(%188)\n",
            "  %190 = Flatten[axis = 1](%189)\n",
            "  %191 = Gemm[alpha = 1, beta = 1, transB = 1](%190, %fc.weight, %fc.bias)\n",
            "  return %191\n",
            "}\n"
          ],
          "name": "stdout"
        }
      ]
    },
    {
      "cell_type": "code",
      "metadata": {
        "id": "Fy42HOrFjrOu"
      },
      "source": [
        "# Pre-processing an image to feed it as input in the model.\n",
        "img = Image.open(\"/content/eden_data/val/Velvet leaf/DSC_0643.JPG\") # Define an image path for inference.\n",
        "resize = transforms.Resize([224, 224])\n",
        "img = resize(img)\n",
        "to_tensor = transforms.ToTensor()\n",
        "img = to_tensor(img)\n",
        "img.unsqueeze_(0)"
      ],
      "execution_count": null,
      "outputs": []
    },
    {
      "cell_type": "code",
      "metadata": {
        "colab": {
          "base_uri": "https://localhost:8080/"
        },
        "id": "wTj6tn-7OsWD",
        "outputId": "21eff72f-0ab4-49a8-d68d-f18e06d5d36d"
      },
      "source": [
        "# Executing inference on the model\n",
        "sess = onnxruntime.InferenceSession(\"Plant_classifier.onnx\")\n",
        "\n",
        "def to_numpy(tensor):\n",
        "    return tensor.detach().cpu().numpy() if tensor.requires_grad else tensor.cpu().numpy()\n",
        "\n",
        "# compute ONNX Runtime output prediction\n",
        "sess_inputs = {sess.get_inputs()[0].name: to_numpy(img)}\n",
        "sess_outs = sess.run(None, sess_inputs)\n",
        "\n",
        "\n",
        "final_pred = np.argmax(np.array(sess_outs))\n",
        "print(class_names)\n",
        "print(sess_outs ,'\\n')\n",
        "print(\"Model's prediction : {}\".format(class_names[final_pred]))"
      ],
      "execution_count": 30,
      "outputs": [
        {
          "output_type": "stream",
          "text": [
            "['BlackNightsade', 'Cotton', 'Tomato', 'Velvet leaf']\n",
            "[array([[ 1.2052114 , -3.5306196 ,  0.09044313,  3.521522  ]],\n",
            "      dtype=float32)] \n",
            "\n",
            "Model's prediction : Velvet leaf\n"
          ],
          "name": "stdout"
        }
      ]
    },
    {
      "cell_type": "markdown",
      "metadata": {
        "id": "dqhVkpKHbfCy"
      },
      "source": [
        "## Possible Extensions\n",
        "1. Use a different pre-trained network (for instance, InceptionNet).\n",
        "2. Try a different training approach where pre-trained weights are not loaded.\n",
        "3. Deploy the ONNX model somewhere else eg. cloud, edge device.\n",
        "3. Try different epochs and batch sizes.\n",
        "4. Try different augmentation techniques."
      ]
    },
    {
      "cell_type": "markdown",
      "metadata": {
        "id": "Nz7IYxN9Tlmo"
      },
      "source": [
        "## Bibliography\n",
        "\n",
        "Too, E.C., Yujian, L., Njuki, S., & Ying-chun, L. (2019). A comparative study of fine-tuning deep learning models for plant disease identification. Comput. Electron. Agric., 161, 272-279.\n",
        "\n",
        "Suh, H.K., IJsselmuiden, J., Hofstee, J.W., van Henten, E.J., (2018). Transfer learning for the classification of sugar beet and volunteer potato under field conditions. Biosystems Engineering; 174:50–65.\n",
        "\n",
        "Espejo-Garcia, B., Mylonas, N., Athanasakos, L., & Fountas, S., (2020). Improving\n",
        "Weeds Identification with a Repository of Agricultural Pre-trained Deep Neural\n",
        "Networks. Computers and Electronics in Agriculture; 175 (August).\n",
        "\n",
        "https://pytorch.org/tutorials/beginner/finetuning_torchvision_models_tutorial.html\n",
        "\n",
        "https://pytorch.org/tutorials/advanced/super_resolution_with_onnxruntime.html\n",
        "\n",
        "https://cloudblogs.microsoft.com/opensource/2019/05/22/onnx-runtime-machine-learning-inferencing-0-4-release/\n",
        "\n",
        "https://github.com/onnx/onnx\n",
        "\n",
        "https://www.oreilly.com/library/view/programming-pytorch-for/9781492045342/ch04.html"
      ]
    }
  ]
}