{
 "cells": [
  {
   "cell_type": "markdown",
   "metadata": {
    "id": "QquaYpB00hfs"
   },
   "source": [
    "[<img src=\"https://user-images.githubusercontent.com/79705081/109483674-d3eea600-7a7f-11eb-9a25-58c50da4cde9.png\">](http://edenlibrary.ai/)"
   ]
  },
  {
   "cell_type": "markdown",
   "metadata": {
    "id": "yp-OgP370hft"
   },
   "source": [
    "## Instructions\n",
    "To run any of Eden's notebooks, please check the guides on our [Wiki page](https://github.com/Eden-Library-AI/eden_library_notebooks/wiki).<br>\n",
    "There you will find instructions on how to deploy the notebooks on [your local system](https://github.com/Eden-Library-AI/eden_library_notebooks/wiki/Deploy-Notebooks-Locally), on [Google Colab](https://github.com/Eden-Library-AI/eden_library_notebooks/wiki/Deploy-Notebooks-on-GColab), or on [MyBinder](https://github.com/Eden-Library-AI/eden_library_notebooks/wiki/Deploy-Notebooks-on-MyBinder), as well as other useful links, troubleshooting tips, and more.<br>\n",
    "For this notebook you will need to download the **Cotton-100619-Healthy-zz-V1-20210225102300**, **Black nightsade-220519-Weed-zz-V1-20210225102034**, **Tomato-240519-Healthy-zz-V1-20210225103740** and **Velvet leaf-220519-Weed-zz-V1-20210225104123** datasets from [Eden Library](https://edenlibrary.ai/datasets), and you may want to use the **eden_pytorch_transfer_learning.yml** file to recreate a suitable conda environment.\n",
    "\n",
    "**Note:** If you find any issues while executing the notebook, don't hesitate to open an issue on Github. We will try to reply as soon as possible."
   ]
  },
  {
   "cell_type": "markdown",
   "metadata": {
    "id": "dwqUKc-L0hft"
   },
   "source": [
    "## Background\n",
    "\n",
    "Open Neural Network Exchange ONNX provides an open source format for AI models, both deep learning and traditional ML. It defines an extensible computation graph model, as well as definitions of built-in operators and standard data types. \n",
    "\n",
    "ONNX is widely supported and can be found in many frameworks, tools, and hardware. Enabling interoperability between different frameworks and streamlining the path from research to production helps increase the speed of innovation in the AI community\n",
    "\n",
    "ONNX Runtime is a performance-focused engine for ONNX models, which inferences efficiently across multiple platforms and hardware (Windows, Linux, and Mac and on both CPUs and GPUs). ONNX Runtime has proved to considerably increase performance over multiple models.\n",
    "\n",
    "For this tutorial, you will need to install ONNX and ONNX Runtime. You can get binary builds of ONNX and ONNX Runtime with pip install onnx onnxruntime. Note that ONNX Runtime is compatible with Python versions 3.5 to 3.7.\n",
    "\n",
    "In this notebook we are going to make use of ONNX format and export our model from PyTorch to ONNX. Furthermore, we are going to use onnnxruntime to run inference.\n",
    "\n",
    "In this notebook, we are going to cover a technique called **Transfer Learning**, which generally refers to a process where a machine learning model is trained on one problem, and afterwards, it is reused in some way on a second (possibly) related problem (Bengio, 2012). Specifically, in **deep learning**, this technique is used by training only some layers of the pre-trained network. Its promise is that the training will be more efficient and in the best of the cases the performance will be better compared to a model trained from scratch. In this example we are using ResNet architecture and the PyTorch framework.\n",
    "\n",
    "It is important to note that in this notebook, inspite of making use of ONNX, we are also using the PyTorch framework to design and train our neural networks. This represents an extension over the previous Eden notebooks:\n",
    "1. https://github.com/Eden-Library-AI/eden_library_notebooks/blob/master/image_classification/weeds_identification-transfer_learning-1.ipynb\n",
    "2. https://github.com/Eden-Library-AI/eden_library_notebooks/blob/master/image_classification/weeds_identification-transfer_learning-2.ipynb\n",
    "3. https://github.com/Eden-Library-AI/eden_library_notebooks/blob/master/image_classification/weeds_identification-transfer_learning-3.ipynb\n",
    "4. https://github.com/Eden-Library-AI/eden_library_notebooks/blob/master/image_classification/weeds_identification-transfer_learning-4.ipynb\n",
    "5. https://github.com/Eden-Library-AI/eden_library_notebooks/blob/master/image_classification/weeds_identification-transfer_learning-5.ipynb"
   ]
  },
  {
   "cell_type": "markdown",
   "metadata": {
    "id": "HEZ1kYtlIJIf"
   },
   "source": [
    "### Importing Libraries"
   ]
  },
  {
   "cell_type": "code",
   "execution_count": null,
   "metadata": {
    "colab": {
     "base_uri": "https://localhost:8080/"
    },
    "collapsed": true,
    "id": "hhJqeMkfivXv",
    "jupyter": {
     "outputs_hidden": true
    },
    "outputId": "903c1b7e-6bac-4fdb-a3ba-7817a907f8b0",
    "tags": []
   },
   "outputs": [
    {
     "name": "stdout",
     "output_type": "stream",
     "text": [
      "Looking in indexes: https://pypi.org/simple, https://pypi.ngc.nvidia.com\n",
      "Collecting onnx\n",
      "  Downloading onnx-1.9.0-cp38-cp38-manylinux2010_x86_64.whl (12.2 MB)\n",
      "\u001b[K     |████████████████████████████████| 12.2 MB 3.2 MB/s eta 0:00:01\n",
      "\u001b[?25hRequirement already satisfied: numpy>=1.16.6 in /home/air/anaconda3/envs/eden_pytorch_transfer/lib/python3.8/site-packages (from onnx) (1.20.2)\n",
      "Requirement already satisfied: typing-extensions>=3.6.2.1 in /home/air/anaconda3/envs/eden_pytorch_transfer/lib/python3.8/site-packages (from onnx) (3.7.4.3)\n",
      "Collecting protobuf\n",
      "  Downloading protobuf-3.17.3-cp38-cp38-manylinux_2_5_x86_64.manylinux1_x86_64.whl (1.0 MB)\n",
      "\u001b[K     |████████████████████████████████| 1.0 MB 3.4 MB/s eta 0:00:01\n",
      "\u001b[?25hRequirement already satisfied: six in /home/air/anaconda3/envs/eden_pytorch_transfer/lib/python3.8/site-packages (from onnx) (1.15.0)\n",
      "Installing collected packages: protobuf, onnx\n",
      "Successfully installed onnx-1.9.0 protobuf-3.17.3\n",
      "Looking in indexes: https://pypi.org/simple, https://pypi.ngc.nvidia.com\n",
      "Collecting onnxruntime\n",
      "  Downloading onnxruntime-1.8.0-cp38-cp38-manylinux_2_17_x86_64.manylinux2014_x86_64.whl (4.5 MB)\n",
      "\u001b[K     |████████████████████████████████| 4.5 MB 2.7 MB/s eta 0:00:01\n",
      "\u001b[?25hRequirement already satisfied: protobuf in /home/air/anaconda3/envs/eden_pytorch_transfer/lib/python3.8/site-packages (from onnxruntime) (3.17.3)\n",
      "Collecting flatbuffers\n",
      "  Downloading flatbuffers-2.0-py2.py3-none-any.whl (26 kB)\n",
      "Requirement already satisfied: numpy>=1.16.6 in /home/air/anaconda3/envs/eden_pytorch_transfer/lib/python3.8/site-packages (from onnxruntime) (1.20.2)\n",
      "Requirement already satisfied: six>=1.9 in /home/air/anaconda3/envs/eden_pytorch_transfer/lib/python3.8/site-packages (from protobuf->onnxruntime) (1.15.0)\n",
      "Installing collected packages: flatbuffers, onnxruntime\n",
      "Successfully installed flatbuffers-2.0 onnxruntime-1.8.0\n"
     ]
    }
   ],
   "source": [
    "# In case it is not installed in your system run pip installs ( Google Colab doesn't have onnx by default)\n",
    "!pip install onnx\n",
    "!pip install onnxruntime"
   ]
  },
  {
   "cell_type": "code",
   "execution_count": null,
   "metadata": {
    "id": "Xvqku2sVIO0s"
   },
   "outputs": [],
   "source": [
    "import torch\n",
    "import torch.nn as nn\n",
    "import torch.optim as optim\n",
    "from torch.optim import lr_scheduler\n",
    "import torchvision\n",
    "from torchvision import datasets, models, transforms\n",
    "\n",
    "import numpy as np\n",
    "import matplotlib.pyplot as plt\n",
    "import time\n",
    "import os\n",
    "import copy\n",
    "import random\n",
    "import shutil\n",
    "\n",
    "# onnx necessary packages\n",
    "import torch.onnx\n",
    "import onnx\n",
    "import onnxruntime\n",
    "\n",
    "plt.ion()  # interactive mode"
   ]
  },
  {
   "cell_type": "markdown",
   "metadata": {
    "id": "-zO6c2eoAvt_"
   },
   "source": [
    "### Folder structuring \n",
    "We are going to create a main data folder 'eden_data' that will contain the 4 different datasets. We will also split the datasets into train and validation sub-sets. "
   ]
  },
  {
   "cell_type": "code",
   "execution_count": null,
   "metadata": {
    "id": "LxFPCQ91iatm"
   },
   "outputs": [],
   "source": [
    "# Change this path to correspong to your system. It needs to point to your eden-library-datasets folder \n",
    "\n",
    "DATA_PATH = '/home/air/Desktop/EDEN-REPO/eden_library_notebooks/eden-library-datasets'"
   ]
  },
  {
   "cell_type": "code",
   "execution_count": null,
   "metadata": {
    "colab": {
     "base_uri": "https://localhost:8080/"
    },
    "id": "hMp60uWfULoe",
    "outputId": "991765e0-12af-47a0-ed0c-0c26f2ec34f0"
   },
   "outputs": [
    {
     "name": "stdout",
     "output_type": "stream",
     "text": [
      "Moved  DSC_0514.JPG  to validation images\n",
      "Moved  DSC_0536.JPG  to validation images\n",
      "Moved  DSC_0741.JPG  to validation images\n",
      "Moved  DSC_0504.JPG  to validation images\n",
      "Moved  DSC_0501.JPG  to validation images\n",
      "Moved  DSC_0553.JPG  to validation images\n",
      "Moved  DSC_0532.JPG  to validation images\n",
      "Moved  DSC_0726.JPG  to validation images\n",
      "Moved  DSC_0740.JPG  to validation images\n",
      "Moved  DSC_0516.JPG  to validation images\n",
      "Moved  DSC_0550.JPG  to validation images\n",
      "Moved  DSC_0528.JPG  to validation images\n",
      "Moved  DSC_0506.JPG  to validation images\n",
      "Moved  DSC_0717.JPG  to validation images\n",
      "Moved  DSC_0628.JPG  to validation images\n",
      "Moved  DSC_0508.JPG  to validation images\n",
      "Moved  DSC_0517.JPG  to validation images\n",
      "Moved  DSC_0538.JPG  to validation images\n",
      "Moved  DSC_0711.JPG  to validation images\n",
      "Moved  DSC_0723.JPG  to validation images\n",
      "Moved  DSC_0646.JPG  to validation images\n",
      "Moved  DSC_0567.JPG  to validation images\n",
      "Moved  DSC_0500.JPG  to validation images\n",
      "Moved  DSC_0551.JPG  to validation images\n",
      "Moved  DSC_0689.JPG  to validation images\n",
      "Moved  DSC_0787.JPG  to validation images\n",
      "Moved  DSC_0828.JPG  to validation images\n",
      "Moved  DSC_0247.JPG  to validation images\n",
      "Moved  DSC_0195.JPG  to validation images\n",
      "Moved  DSC_0215.JPG  to validation images\n",
      "Moved  DSC_0259.JPG  to validation images\n",
      "Moved  DSC_0204.JPG  to validation images\n",
      "Moved  DSC_0268.JPG  to validation images\n",
      "Moved  DSC_0205.JPG  to validation images\n",
      "Moved  DSC_0795.JPG  to validation images\n",
      "Moved  DSC_0278.JPG  to validation images\n",
      "Moved  DSC_0203.JPG  to validation images\n",
      "Moved  DSC_0253.JPG  to validation images\n",
      "Moved  DSC_0210.JPG  to validation images\n",
      "Moved  DSC_0312.JPG  to validation images\n",
      "Moved  DSC_0817.JPG  to validation images\n",
      "Moved  DSC_0212.JPG  to validation images\n",
      "Moved  DSC_0230.JPG  to validation images\n",
      "Moved  DSC_0246.JPG  to validation images\n",
      "Moved  DSC_0326.JPG  to validation images\n",
      "Moved  DSC_0805.JPG  to validation images\n",
      "Moved  DSC_0315.JPG  to validation images\n",
      "Moved  DSC_0301.JPG  to validation images\n",
      "Moved  DSC_0832.JPG  to validation images\n",
      "Moved  DSC_0257.JPG  to validation images\n",
      "Moved  DSC_0280.JPG  to validation images\n",
      "Moved  DSC_0809.JPG  to validation images\n",
      "Moved  DSC_0792.JPG  to validation images\n",
      "Moved  DSC_0199.JPG  to validation images\n",
      "Moved  DSC_0813.JPG  to validation images\n",
      "Moved  DSC_0783.JPG  to validation images\n",
      "Moved  DSC_0273.JPG  to validation images\n",
      "Moved  DSC_0281.JPG  to validation images\n",
      "Moved  DSC_0272.JPG  to validation images\n",
      "Moved  DSC_0310.JPG  to validation images\n",
      "Moved  DSC_0261.JPG  to validation images\n",
      "Moved  DSC_0294.JPG  to validation images\n",
      "Moved  DSC_0250.JPG  to validation images\n",
      "Moved  DSC_0789.JPG  to validation images\n",
      "Moved  DSC_0798.JPG  to validation images\n",
      "Moved  DSC_0672.JPG  to validation images\n",
      "Moved  DSC_0651.JPG  to validation images\n",
      "Moved  DSC_0673.JPG  to validation images\n",
      "Moved  DSC_0666.JPG  to validation images\n",
      "Moved  DSC_0681.JPG  to validation images\n",
      "Moved  DSC_0663.JPG  to validation images\n",
      "Moved  DSC_0654.JPG  to validation images\n",
      "Moved  DSC_0635.JPG  to validation images\n",
      "Moved  DSC_0653.JPG  to validation images\n",
      "Moved  DSC_0583.JPG  to validation images\n",
      "Moved  DSC_0486.JPG  to validation images\n",
      "Moved  DSC_0642.JPG  to validation images\n",
      "Moved  DSC_0610 - Copy.JPG  to validation images\n",
      "Moved  DSC_0607.JPG  to validation images\n",
      "Moved  DSC_0493.JPG  to validation images\n",
      "Moved  DSC_0737.JPG  to validation images\n",
      "Moved  DSC_0638.JPG  to validation images\n",
      "Moved  DSC_0498.JPG  to validation images\n",
      "Moved  DSC_0705.JPG  to validation images\n",
      "Moved  DSC_0644.JPG  to validation images\n",
      "Moved  DSC_0562.JPG  to validation images\n",
      "Moved  DSC_0612 - Copy.JPG  to validation images\n",
      "Moved  DSC_0608.JPG  to validation images\n",
      "Moved  DSC_0619.JPG  to validation images\n",
      "Moved  DSC_0617.JPG  to validation images\n",
      "Moved  DSC_0708.JPG  to validation images\n",
      "Moved  DSC_0580.JPG  to validation images\n",
      "Moved  DSC_0743.JPG  to validation images\n",
      "Moved  DSC_0611.JPG  to validation images\n",
      "Moved  DSC_0728.JPG  to validation images\n",
      "Moved  DSC_0609.JPG  to validation images\n",
      "Moved  DSC_0489.JPG  to validation images\n",
      "Moved  DSC_0606 - Copy.JPG  to validation images\n",
      "Moved  DSC_0602.JPG  to validation images\n",
      "Moved  DSC_0579.JPG  to validation images\n"
     ]
    }
   ],
   "source": [
    "## WARNING : This cell script will Move the 4 datasets used here from your eden-library-datasets directory and put them to a new one created for this particular dataset. \n",
    "# Your initial eden-library-datasets will not contain the 4 datasets used here after the script. \n",
    "\n",
    "# Change paths to suit your system (this was created for google colab)\n",
    "if not os.path.exists(DATA_PATH) :\n",
    "    os.makedirs(DATA_PATH)\n",
    "# Directory that will contain all of the data needed for training\n",
    "notebook_dataset = os.path.join(DATA_PATH, 'pytorch-onnx')\n",
    "\n",
    "# Create train and val folders that will host the data.\n",
    "train_path = os.path.join(notebook_dataset, 'train')\n",
    "if not os.path.exists(train_path):\n",
    "    os.makedirs(train_path)\n",
    "val_path =  os.path.join(notebook_dataset, 'val')\n",
    "if not os.path.exists(val_path):\n",
    "    os.makedirs(val_path)\n",
    "\n",
    "# names of the datasets we are going to use \n",
    "classes = [\"Black nightsade-220519-Weed-zz-V1-20210225102034\", \"Tomato-240519-Healthy-zz-V1-20210225103740\", \n",
    "           \"Cotton-100619-Healthy-zz-V1-20210225102300\", \"Velvet leaf-220519-Weed-zz-V1-20210225104123\"]\n",
    "num_classes = len(classes)  # we will need this later\n",
    "for class_name in classes:\n",
    "    # Path to source folders\n",
    "    class_path = DATA_PATH + os.path.sep + class_name\n",
    "\n",
    "    # Create subfolder for each class in validation folder\n",
    "    class_val_path = val_path + os.path.sep + class_name\n",
    "    os.mkdir(class_val_path)\n",
    "    # Move original folder to train folder, created above\n",
    "    class_train_path = train_path + os.path.sep + class_name\n",
    "    shutil.move(class_path, train_path)\n",
    "\n",
    "    # List of all files\n",
    "    images = os.listdir(class_train_path)\n",
    "\n",
    "    # Splitting randomly, choosing some files for validation.\n",
    "    valid_images = random.sample(\n",
    "        images, (int(round(len(images) * 0.2)))\n",
    "    )  # Change ' *0.1 ' to whatever train-test split value you want\n",
    "    # Move validation images to validation folder\n",
    "    for val_image in valid_images:\n",
    "        shutil.move(\n",
    "            class_train_path + os.path.sep + val_image,\n",
    "            class_val_path + os.path.sep + val_image,\n",
    "        )\n",
    "        print(\"Moved \", val_image, \" to validation images\")"
   ]
  },
  {
   "cell_type": "markdown",
   "metadata": {
    "id": "TSz6HE1Fvj_2"
   },
   "source": [
    "### Auxiliar functions "
   ]
  },
  {
   "cell_type": "code",
   "execution_count": null,
   "metadata": {
    "id": "PAE-Uq355fpL"
   },
   "outputs": [],
   "source": [
    "\"\"\"Training function. Train input model based on the parameters given.\n",
    "   Input:\n",
    "    model: model to train\n",
    "    criterion: loss function to be used for training \n",
    "    optimizer: optimizer \n",
    "    scheduler: learning rate scheduler\n",
    "    num_epochs: number of training epochs\n",
    "\n",
    "   Returns: Trained model\n",
    "  \n",
    "\"\"\"\n",
    "\n",
    "\n",
    "def train_model(model, criterion, optimizer, scheduler, num_epochs=50):\n",
    "    since = time.time()\n",
    "    best_model = copy.deepcopy(model.state_dict())\n",
    "    best_acc = 0.0\n",
    "\n",
    "    for epoch in range(num_epochs):\n",
    "        print(\"Epoch {}/{}\".format(epoch, num_epochs - 1))\n",
    "        print(\"-\" * 10)\n",
    "\n",
    "        # Each epoch has a training and a validation phase\n",
    "        for phase in [\"train\", \"val\"]:\n",
    "            if phase == \"train\":\n",
    "                model.train()  # Set model to training mode\n",
    "            else:\n",
    "                model.eval()  # Set model to evaluation mode\n",
    "\n",
    "            # Reset loss\n",
    "            running_loss = 0.0\n",
    "            running_corrects = 0\n",
    "\n",
    "            # Iterate over data\n",
    "            for inputs, labels in dataloaders[phase]:\n",
    "                inputs = inputs.to(device)\n",
    "                labels = labels.to(device)\n",
    "\n",
    "                # zero the parameters gradients\n",
    "                optimizer.zero_grad()\n",
    "\n",
    "                # forward\n",
    "                # track history if only in train\n",
    "                with torch.set_grad_enabled(phase == \"train\"):\n",
    "                    outputs = model(inputs)\n",
    "                    _, preds = torch.max(outputs, 1)\n",
    "                    loss = criterion(outputs, labels)\n",
    "\n",
    "                    # backward pass + optimize only if in training phase\n",
    "                    if phase == \"train\":\n",
    "                        loss.backward()\n",
    "                        optimizer.step()\n",
    "\n",
    "                # statistics\n",
    "                running_loss += loss.item() * inputs.size(0)\n",
    "                running_corrects += torch.sum(preds == labels.data)\n",
    "            if phase == \"train\":\n",
    "                scheduler.step()\n",
    "\n",
    "            epoch_loss = running_loss / dataset_sizes[phase]\n",
    "            epoch_acc = running_corrects.double() / dataset_sizes[phase]\n",
    "\n",
    "            print(\"{} Loss: {:.4f} Acc: {:.4f}\".format(phase, epoch_loss, epoch_acc))\n",
    "\n",
    "            # deep copy the model\n",
    "            if phase == \"val\" and epoch_acc > best_acc:\n",
    "                best_acc = epoch_acc\n",
    "                best_model_wts = copy.deepcopy(model.state_dict())\n",
    "\n",
    "        print()\n",
    "\n",
    "    time_elapsed = time.time() - since\n",
    "    print(\n",
    "        \"Training complete in {:.0f}m {:.0f}s\".format(\n",
    "            time_elapsed // 60, time_elapsed % 60\n",
    "        )\n",
    "    )\n",
    "    print(\"Best val Acc: {:4f}\".format(best_acc))\n",
    "\n",
    "    # load best model weights\n",
    "    model.load_state_dict(best_model_wts)\n",
    "    return model"
   ]
  },
  {
   "cell_type": "code",
   "execution_count": null,
   "metadata": {
    "id": "fiSNg6MJarNj"
   },
   "outputs": [],
   "source": [
    "\"\"\"\n",
    "Runs inference on a defined number of images with the specified model. Plots the images with the model's predictions. \n",
    " Input:\n",
    "  model : model to run inference with\n",
    "  num_images : number of validation set images to make predictions on \n",
    "\n",
    " Returns : Plotted images and predictions\n",
    "\"\"\"\n",
    "\n",
    "\n",
    "def visualize_predictions(model, num_images=6):\n",
    "    was_training = model.training\n",
    "    model.eval()\n",
    "    images_so_far = 0\n",
    "    fig = plt.figure()\n",
    "\n",
    "    with torch.no_grad():\n",
    "        for i, (inputs, labels) in enumerate(dataloaders[\"val\"]):\n",
    "            inputs = inputs.to(device)\n",
    "            labels = labels.to(device)\n",
    "\n",
    "            outputs = model(inputs)\n",
    "            _, preds = torch.max(outputs, 1)\n",
    "\n",
    "            for j in range(inputs.size()[0]):\n",
    "                images_so_far += 1\n",
    "                ax = plt.subplot(num_images // 2, 2, images_so_far)\n",
    "                ax.axis(\"off\")\n",
    "                ax.set_title(\n",
    "                    \"predicted: {} with\".format(class_names[preds[j]])\n",
    "                    + \"  Actual class: {}\".format(class_names[labels[j]])\n",
    "                )\n",
    "                imshow(inputs.cpu().data[j])\n",
    "\n",
    "                if images_so_far == num_images:\n",
    "                    model.train(mode=was_training)\n",
    "                    return\n",
    "        model.train(mode=was_training)"
   ]
  },
  {
   "cell_type": "code",
   "execution_count": null,
   "metadata": {
    "id": "RmhCuICPg9os"
   },
   "outputs": [],
   "source": [
    "\"\"\"\n",
    "Plot images\n",
    "\"\"\"\n",
    "\n",
    "\n",
    "def imshow(inp, title=None):\n",
    "    \"\"\"Imshow for Tensor.\"\"\"\n",
    "    inp = inp.numpy().transpose((1, 2, 0))\n",
    "    mean = np.array([0.485, 0.456, 0.406])\n",
    "    std = np.array([0.229, 0.224, 0.225])\n",
    "    inp = std * inp + mean\n",
    "    inp = np.clip(inp, 0, 1)\n",
    "    plt.imshow(inp)\n",
    "    if title is not None:\n",
    "        plt.title(title)\n",
    "    plt.pause(0.001)  # pause a bit so that plots are updated"
   ]
  },
  {
   "cell_type": "markdown",
   "metadata": {
    "id": "qb7d5siZIpuw"
   },
   "source": [
    "### Data loading and augmentation\n",
    "\n",
    "First we need to load our data into our pipeline. Since our dataset is not very big we are going to apply some data augmentation in order to increase the generalization power of the network. Lastly, we are going to normalize our training and validation data for better performance and accuracy.\n"
   ]
  },
  {
   "cell_type": "code",
   "execution_count": null,
   "metadata": {
    "id": "E_iZOQTFJOp6"
   },
   "outputs": [],
   "source": [
    "# Defining some Augmentation techniques\n",
    "data_transforms = {\n",
    "    # We are going to use Compose,in order to chain together multiple transformations\n",
    "    \"train\": transforms.Compose(\n",
    "        [\n",
    "            transforms.RandomResizedCrop((224, 224)),\n",
    "            transforms.RandomHorizontalFlip(),\n",
    "            # Converting images to tensors. PyTorch needs input in tensor form.\n",
    "            transforms.ToTensor(),\n",
    "            # Normalizing inputs, these values are porposed by pytorch for ResNet\n",
    "            transforms.Normalize(mean=[0.485, 0.456, 0.406], std=[0.229, 0.224, 0.225]),\n",
    "        ]\n",
    "    ),\n",
    "    \"val\": transforms.Compose(\n",
    "        [\n",
    "            transforms.Resize((224, 224)),\n",
    "            transforms.CenterCrop(224),\n",
    "            # Converting images to tensors. PyTorch needs input in tensor form.\n",
    "            transforms.ToTensor(),\n",
    "            # Normalizing inputs, these values are porposed by pytorch for ResNet\n",
    "            transforms.Normalize(mean=[0.485, 0.456, 0.406], std=[0.229, 0.224, 0.225]),\n",
    "        ]\n",
    "    ),\n",
    "}"
   ]
  },
  {
   "cell_type": "code",
   "execution_count": null,
   "metadata": {
    "colab": {
     "base_uri": "https://localhost:8080/"
    },
    "id": "p9d715AFOdRQ",
    "outputId": "3856a9ab-bcfa-48b0-c75a-3129955e88c2"
   },
   "outputs": [
    {
     "name": "stdout",
     "output_type": "stream",
     "text": [
      "Class names : ['Black nightsade-220519-Weed-zz-V1-20210225102034', 'Cotton-100619-Healthy-zz-V1-20210225102300', 'Tomato-240519-Healthy-zz-V1-20210225103740', 'Velvet leaf-220519-Weed-zz-V1-20210225104123']\n",
      "Dataset_sizes :  {'train': 399, 'val': 100}\n"
     ]
    }
   ],
   "source": [
    "# Loading the datasets\n",
    "data_dir = notebook_dataset\n",
    "image_datasets = {\n",
    "    x: datasets.ImageFolder(os.path.join(data_dir, x), data_transforms[x])\n",
    "    for x in [\"train\", \"val\"]\n",
    "}\n",
    "\n",
    "dataloaders = {\n",
    "    x: torch.utils.data.DataLoader(\n",
    "        image_datasets[x], batch_size=4, shuffle=True, num_workers=1\n",
    "    )\n",
    "    for x in [\"train\", \"val\"]\n",
    "}\n",
    "\n",
    "dataset_sizes = {x: len(image_datasets[x]) for x in [\"train\", \"val\"]}\n",
    "class_names = image_datasets[\"train\"].classes\n",
    "print(\"Class names :\", class_names)\n",
    "print(\"Dataset_sizes : \", dataset_sizes)\n",
    "# Setting up device either cuda GPU or CPU\n",
    "device = torch.device(\"cuda:0\" if torch.cuda.is_available() else \"cpu\")"
   ]
  },
  {
   "cell_type": "markdown",
   "metadata": {
    "id": "5S0_-SbgCPx7"
   },
   "source": [
    "#### Visualizing some of the augmented training data"
   ]
  },
  {
   "cell_type": "code",
   "execution_count": null,
   "metadata": {
    "colab": {
     "base_uri": "https://localhost:8080/",
     "height": 166
    },
    "id": "yeFgaKIkyVrG",
    "outputId": "b27464de-9c5b-4710-cfd8-c96d0e569f47"
   },
   "outputs": [
    {
     "name": "stdout",
     "output_type": "stream",
     "text": [
      "Images' size:  torch.Size([4, 3, 224, 224])\n"
     ]
    },
    {
     "data": {
      "image/png": "[encoded data removed]",
      "text/plain": [
       "<Figure size 432x288 with 1 Axes>"
      ]
     },
     "metadata": {
      "needs_background": "light",
      "tags": []
     },
     "output_type": "display_data"
    }
   ],
   "source": [
    "# Get a batch of training data\n",
    "inputs, classes = next(iter(dataloaders[\"train\"]))\n",
    "print(\"Images' size: \", inputs.size())\n",
    "# Make a grid from batch\n",
    "out = torchvision.utils.make_grid(inputs)\n",
    "\n",
    "imshow(out, title=[class_names[x] for x in classes])"
   ]
  },
  {
   "cell_type": "markdown",
   "metadata": {
    "id": "bk01UM6jl9pi"
   },
   "source": [
    "### Preparing Resnet as a feature exctractor "
   ]
  },
  {
   "cell_type": "code",
   "execution_count": null,
   "metadata": {
    "colab": {
     "base_uri": "https://localhost:8080/",
     "height": 143,
     "referenced_widgets": [
      "8058e4f2252f43b3bfc80a843d617905",
      "597e590352c143f7bd3d45a30d72ea88",
      "a6390e52137a49ee9d981268a9cb3d68",
      "516ed6a3704249d580b9ff66f442d834",
      "2ea2870da6584c60bc33c66bd5077719",
      "b190165fbff149b69b490ca8ffa437b9",
      "5fa532133b1e4b4e9656c83ab4b00d2d",
      "ef6fe6f2b0534b9a8099562868e71f87"
     ]
    },
    "id": "Vtt3gA0mmGY0",
    "outputId": "531a8bc9-ee10-4500-d9b6-979d442b3990"
   },
   "outputs": [
    {
     "name": "stdout",
     "output_type": "stream",
     "text": [
      "Num of features : 512\n",
      "Adjusting learning rate of group 0 to 1.0000e-03.\n"
     ]
    }
   ],
   "source": [
    "# Loading Resnet through torchvision API with pretrained weights.\n",
    "conv_net = torchvision.models.resnet18(pretrained=True)\n",
    "# Freeze parameters so that their gradients are not computed in backward propagation.\n",
    "for param in conv_net.parameters():\n",
    "    param.requires_grad = False\n",
    "\n",
    "# Reshaping the last layers of the Network\n",
    "num_ftrs = conv_net.fc.in_features\n",
    "print(\"Num of features :\", num_ftrs)\n",
    "\n",
    "# This is a manual process, check\n",
    "# https://pytorch.org/tutorials/beginner/finetuning_torchvision_models_tutorial.html for more details.\n",
    "num_classes = 4\n",
    "# Adding a Fully Connected layer on top of the pretrained network\n",
    "conv_net.fc = nn.Linear(num_ftrs, num_classes)\n",
    "\n",
    "# Moving computations to GPU\n",
    "conv_net = conv_net.to(device)\n",
    "\n",
    "# Defining loss function to be used on training\n",
    "criterion = nn.CrossEntropyLoss()\n",
    "# Optimize only the final layers\n",
    "optimizer = optim.SGD(conv_net.fc.parameters(), lr=0.001, momentum=0.9)\n",
    "# Decay Lr  by a factor of 0.1 every 10 epochs\n",
    "exp_lr_scheduler = lr_scheduler.StepLR(optimizer, step_size=10, gamma=0.1, verbose=True)"
   ]
  },
  {
   "cell_type": "markdown",
   "metadata": {
    "id": "smXlWVwnAm-H"
   },
   "source": [
    "### Call training"
   ]
  },
  {
   "cell_type": "code",
   "execution_count": null,
   "metadata": {
    "colab": {
     "base_uri": "https://localhost:8080/"
    },
    "id": "ghiFp3tyAmkA",
    "outputId": "fd866179-a855-448c-f97f-9147578df8ff"
   },
   "outputs": [
    {
     "name": "stdout",
     "output_type": "stream",
     "text": [
      "Epoch 0/19\n",
      "----------\n",
      "Adjusting learning rate of group 0 to 1.0000e-03.\n",
      "train Loss: 1.2371 Acc: 0.5088\n",
      "val Loss: 0.7453 Acc: 0.6800\n",
      "\n",
      "Epoch 1/19\n",
      "----------\n",
      "Adjusting learning rate of group 0 to 1.0000e-03.\n",
      "train Loss: 0.9323 Acc: 0.6190\n",
      "val Loss: 0.5919 Acc: 0.7800\n",
      "\n",
      "Epoch 2/19\n",
      "----------\n",
      "Adjusting learning rate of group 0 to 1.0000e-03.\n",
      "train Loss: 0.6292 Acc: 0.7318\n",
      "val Loss: 0.5564 Acc: 0.7700\n",
      "\n",
      "Epoch 3/19\n",
      "----------\n",
      "Adjusting learning rate of group 0 to 1.0000e-03.\n",
      "train Loss: 0.5477 Acc: 0.7895\n",
      "val Loss: 0.5064 Acc: 0.8300\n",
      "\n",
      "Epoch 4/19\n",
      "----------\n",
      "Adjusting learning rate of group 0 to 1.0000e-03.\n",
      "train Loss: 0.6696 Acc: 0.7293\n",
      "val Loss: 0.3128 Acc: 0.8500\n",
      "\n",
      "Epoch 5/19\n",
      "----------\n",
      "Adjusting learning rate of group 0 to 1.0000e-03.\n",
      "train Loss: 0.5818 Acc: 0.7644\n",
      "val Loss: 0.4980 Acc: 0.7900\n",
      "\n",
      "Epoch 6/19\n",
      "----------\n",
      "Adjusting learning rate of group 0 to 1.0000e-03.\n",
      "train Loss: 0.5619 Acc: 0.7920\n",
      "val Loss: 0.6248 Acc: 0.7500\n",
      "\n",
      "Epoch 7/19\n",
      "----------\n",
      "Adjusting learning rate of group 0 to 1.0000e-03.\n",
      "train Loss: 0.5491 Acc: 0.8120\n",
      "val Loss: 0.5920 Acc: 0.8100\n",
      "\n",
      "Epoch 8/19\n",
      "----------\n",
      "Adjusting learning rate of group 0 to 1.0000e-03.\n",
      "train Loss: 0.6269 Acc: 0.7544\n",
      "val Loss: 0.3171 Acc: 0.8500\n",
      "\n",
      "Epoch 9/19\n",
      "----------\n",
      "Adjusting learning rate of group 0 to 1.0000e-04.\n",
      "train Loss: 0.5201 Acc: 0.8095\n",
      "val Loss: 0.3249 Acc: 0.8900\n",
      "\n",
      "Epoch 10/19\n",
      "----------\n",
      "Adjusting learning rate of group 0 to 1.0000e-04.\n",
      "train Loss: 0.5775 Acc: 0.7945\n",
      "val Loss: 0.4130 Acc: 0.8300\n",
      "\n",
      "Epoch 11/19\n",
      "----------\n",
      "Adjusting learning rate of group 0 to 1.0000e-04.\n",
      "train Loss: 0.4967 Acc: 0.8195\n",
      "val Loss: 0.3674 Acc: 0.8400\n",
      "\n",
      "Epoch 12/19\n",
      "----------\n",
      "Adjusting learning rate of group 0 to 1.0000e-04.\n",
      "train Loss: 0.5315 Acc: 0.8095\n",
      "val Loss: 0.3660 Acc: 0.8700\n",
      "\n",
      "Epoch 13/19\n",
      "----------\n",
      "Adjusting learning rate of group 0 to 1.0000e-04.\n",
      "train Loss: 0.5024 Acc: 0.8070\n",
      "val Loss: 0.2591 Acc: 0.9000\n",
      "\n",
      "Epoch 14/19\n",
      "----------\n",
      "Adjusting learning rate of group 0 to 1.0000e-04.\n",
      "train Loss: 0.4519 Acc: 0.8070\n",
      "val Loss: 0.3814 Acc: 0.8500\n",
      "\n",
      "Epoch 15/19\n",
      "----------\n",
      "Adjusting learning rate of group 0 to 1.0000e-04.\n",
      "train Loss: 0.4382 Acc: 0.8396\n",
      "val Loss: 0.3054 Acc: 0.8600\n",
      "\n",
      "Epoch 16/19\n",
      "----------\n",
      "Adjusting learning rate of group 0 to 1.0000e-04.\n",
      "train Loss: 0.4600 Acc: 0.8095\n",
      "val Loss: 0.2740 Acc: 0.8800\n",
      "\n",
      "Epoch 17/19\n",
      "----------\n",
      "Adjusting learning rate of group 0 to 1.0000e-04.\n",
      "train Loss: 0.4654 Acc: 0.8070\n",
      "val Loss: 0.3624 Acc: 0.8700\n",
      "\n",
      "Epoch 18/19\n",
      "----------\n",
      "Adjusting learning rate of group 0 to 1.0000e-04.\n",
      "train Loss: 0.4763 Acc: 0.8421\n",
      "val Loss: 0.4194 Acc: 0.8500\n",
      "\n",
      "Epoch 19/19\n",
      "----------\n",
      "Adjusting learning rate of group 0 to 1.0000e-05.\n",
      "train Loss: 0.4027 Acc: 0.8672\n",
      "val Loss: 0.3007 Acc: 0.9100\n",
      "\n",
      "Training complete in 32m 15s\n",
      "Best val Acc: 0.910000\n"
     ]
    }
   ],
   "source": [
    "# This is a way to avoid errors for corrupted images\n",
    "from PIL import ImageFile\n",
    "\n",
    "ImageFile.LOAD_TRUNCATED_IMAGES = True\n",
    "\n",
    "conv_net = train_model(conv_net, criterion, optimizer, exp_lr_scheduler, num_epochs=20)"
   ]
  },
  {
   "cell_type": "code",
   "execution_count": null,
   "metadata": {
    "colab": {
     "base_uri": "https://localhost:8080/",
     "height": 687
    },
    "id": "u_24WdOKnoHt",
    "outputId": "dc49ea40-73b4-4a54-ea2c-ca7480efffbd"
   },
   "outputs": [
    {
     "data": {
      "image/png": "[encoded data removed]",
      "text/plain": [
       "<Figure size 432x288 with 1 Axes>"
      ]
     },
     "metadata": {
      "needs_background": "light",
      "tags": []
     },
     "output_type": "display_data"
    },
    {
     "data": {
      "image/png": "[encoded data removed]",
      "text/plain": [
       "<Figure size 432x288 with 1 Axes>"
      ]
     },
     "metadata": {
      "needs_background": "light",
      "tags": []
     },
     "output_type": "display_data"
    },
    {
     "data": {
      "image/png": "[encoded data removed]",
      "text/plain": [
       "<Figure size 432x288 with 1 Axes>"
      ]
     },
     "metadata": {
      "needs_background": "light",
      "tags": []
     },
     "output_type": "display_data"
    },
    {
     "data": {
      "image/png": "[encoded data removed]",
      "text/plain": [
       "<Figure size 432x288 with 1 Axes>"
      ]
     },
     "metadata": {
      "needs_background": "light",
      "tags": []
     },
     "output_type": "display_data"
    },
    {
     "data": {
      "image/png": "[encoded data removed]",
      "text/plain": [
       "<Figure size 432x288 with 1 Axes>"
      ]
     },
     "metadata": {
      "needs_background": "light",
      "tags": []
     },
     "output_type": "display_data"
    },
    {
     "data": {
      "image/png": "[encoded data removed]",
      "text/plain": [
       "<Figure size 432x288 with 1 Axes>"
      ]
     },
     "metadata": {
      "needs_background": "light",
      "tags": []
     },
     "output_type": "display_data"
    },
    {
     "data": {
      "image/png": "[encoded data removed]",
      "text/plain": [
       "<Figure size 432x288 with 1 Axes>"
      ]
     },
     "metadata": {
      "needs_background": "light",
      "tags": []
     },
     "output_type": "display_data"
    },
    {
     "data": {
      "image/png": "[encoded data removed]",
      "text/plain": [
       "<Figure size 432x288 with 1 Axes>"
      ]
     },
     "metadata": {
      "needs_background": "light",
      "tags": []
     },
     "output_type": "display_data"
    },
    {
     "data": {
      "image/png": "[encoded data removed]",
      "text/plain": [
       "<Figure size 432x288 with 1 Axes>"
      ]
     },
     "metadata": {
      "needs_background": "light",
      "tags": []
     },
     "output_type": "display_data"
    },
    {
     "data": {
      "image/png": "[encoded data removed]",
      "text/plain": [
       "<Figure size 432x288 with 1 Axes>"
      ]
     },
     "metadata": {
      "needs_background": "light",
      "tags": []
     },
     "output_type": "display_data"
    }
   ],
   "source": [
    "visualize_predictions(conv_net, 10)\n",
    "plt.ioff()\n",
    "plt.show()"
   ]
  },
  {
   "cell_type": "markdown",
   "metadata": {
    "id": "MHGHnb8JLyQF"
   },
   "source": [
    "# Exporting to ONNX format and Running the model with ONNX runtime\n",
    "We are now going to use pytorch exporter to export our model in ONNX format. Then we are going to load our model on the onnx runtime and do inference on some images."
   ]
  },
  {
   "cell_type": "code",
   "execution_count": null,
   "metadata": {
    "id": "8g7iKsIoMkWX"
   },
   "outputs": [],
   "source": [
    "# Running inference with a dummy tensor to fix input sizes of the network\n",
    "x = torch.randn(1, 3, 224, 224, requires_grad=True)\n",
    "x = x.to(device)\n",
    "torch_out = conv_net(x)\n",
    "\n",
    "# Export the model\n",
    "torch.onnx.export(\n",
    "    conv_net,  # model being run\n",
    "    x,  # model input (or a tuple for multiple inputs)\n",
    "    \"Plant_classifier.onnx\",  # where to save the model (can be a file or file-like object)\n",
    "    export_params=True,  # store the trained parameter weights inside the model file\n",
    "    opset_version=13,\n",
    ")  # the ONNX version to export the model to"
   ]
  },
  {
   "cell_type": "code",
   "execution_count": null,
   "metadata": {
    "collapsed": true,
    "id": "G1DKahk_Oj6y",
    "jupyter": {
     "outputs_hidden": true
    },
    "outputId": "6e1711df-6bdd-459a-9a72-011c64ae381b",
    "tags": []
   },
   "outputs": [
    {
     "name": "stdout",
     "output_type": "stream",
     "text": [
      "graph torch-jit-export (\n",
      "  %input.1[FLOAT, 1x3x224x224]\n",
      ") initializers (\n",
      "  %fc.weight[FLOAT, 4x512]\n",
      "  %fc.bias[FLOAT, 4]\n",
      "  %193[FLOAT, 64x3x7x7]\n",
      "  %194[FLOAT, 64]\n",
      "  %196[FLOAT, 64x64x3x3]\n",
      "  %197[FLOAT, 64]\n",
      "  %199[FLOAT, 64x64x3x3]\n",
      "  %200[FLOAT, 64]\n",
      "  %202[FLOAT, 64x64x3x3]\n",
      "  %203[FLOAT, 64]\n",
      "  %205[FLOAT, 64x64x3x3]\n",
      "  %206[FLOAT, 64]\n",
      "  %208[FLOAT, 128x64x3x3]\n",
      "  %209[FLOAT, 128]\n",
      "  %211[FLOAT, 128x128x3x3]\n",
      "  %212[FLOAT, 128]\n",
      "  %214[FLOAT, 128x64x1x1]\n",
      "  %215[FLOAT, 128]\n",
      "  %217[FLOAT, 128x128x3x3]\n",
      "  %218[FLOAT, 128]\n",
      "  %220[FLOAT, 128x128x3x3]\n",
      "  %221[FLOAT, 128]\n",
      "  %223[FLOAT, 256x128x3x3]\n",
      "  %224[FLOAT, 256]\n",
      "  %226[FLOAT, 256x256x3x3]\n",
      "  %227[FLOAT, 256]\n",
      "  %229[FLOAT, 256x128x1x1]\n",
      "  %230[FLOAT, 256]\n",
      "  %232[FLOAT, 256x256x3x3]\n",
      "  %233[FLOAT, 256]\n",
      "  %235[FLOAT, 256x256x3x3]\n",
      "  %236[FLOAT, 256]\n",
      "  %238[FLOAT, 512x256x3x3]\n",
      "  %239[FLOAT, 512]\n",
      "  %241[FLOAT, 512x512x3x3]\n",
      "  %242[FLOAT, 512]\n",
      "  %244[FLOAT, 512x256x1x1]\n",
      "  %245[FLOAT, 512]\n",
      "  %247[FLOAT, 512x512x3x3]\n",
      "  %248[FLOAT, 512]\n",
      "  %250[FLOAT, 512x512x3x3]\n",
      "  %251[FLOAT, 512]\n",
      ") {\n",
      "  %192 = Conv[dilations = [1, 1], group = 1, kernel_shape = [7, 7], pads = [3, 3, 3, 3], strides = [2, 2]](%input.1, %193, %194)\n",
      "  %125 = Relu(%192)\n",
      "  %126 = MaxPool[ceil_mode = 0, kernel_shape = [3, 3], pads = [1, 1, 1, 1], strides = [2, 2]](%125)\n",
      "  %195 = Conv[dilations = [1, 1], group = 1, kernel_shape = [3, 3], pads = [1, 1, 1, 1], strides = [1, 1]](%126, %196, %197)\n",
      "  %129 = Relu(%195)\n",
      "  %198 = Conv[dilations = [1, 1], group = 1, kernel_shape = [3, 3], pads = [1, 1, 1, 1], strides = [1, 1]](%129, %199, %200)\n",
      "  %132 = Add(%198, %126)\n",
      "  %133 = Relu(%132)\n",
      "  %201 = Conv[dilations = [1, 1], group = 1, kernel_shape = [3, 3], pads = [1, 1, 1, 1], strides = [1, 1]](%133, %202, %203)\n",
      "  %136 = Relu(%201)\n",
      "  %204 = Conv[dilations = [1, 1], group = 1, kernel_shape = [3, 3], pads = [1, 1, 1, 1], strides = [1, 1]](%136, %205, %206)\n",
      "  %139 = Add(%204, %133)\n",
      "  %140 = Relu(%139)\n",
      "  %207 = Conv[dilations = [1, 1], group = 1, kernel_shape = [3, 3], pads = [1, 1, 1, 1], strides = [2, 2]](%140, %208, %209)\n",
      "  %143 = Relu(%207)\n",
      "  %210 = Conv[dilations = [1, 1], group = 1, kernel_shape = [3, 3], pads = [1, 1, 1, 1], strides = [1, 1]](%143, %211, %212)\n",
      "  %213 = Conv[dilations = [1, 1], group = 1, kernel_shape = [1, 1], pads = [0, 0, 0, 0], strides = [2, 2]](%140, %214, %215)\n",
      "  %148 = Add(%210, %213)\n",
      "  %149 = Relu(%148)\n",
      "  %216 = Conv[dilations = [1, 1], group = 1, kernel_shape = [3, 3], pads = [1, 1, 1, 1], strides = [1, 1]](%149, %217, %218)\n",
      "  %152 = Relu(%216)\n",
      "  %219 = Conv[dilations = [1, 1], group = 1, kernel_shape = [3, 3], pads = [1, 1, 1, 1], strides = [1, 1]](%152, %220, %221)\n",
      "  %155 = Add(%219, %149)\n",
      "  %156 = Relu(%155)\n",
      "  %222 = Conv[dilations = [1, 1], group = 1, kernel_shape = [3, 3], pads = [1, 1, 1, 1], strides = [2, 2]](%156, %223, %224)\n",
      "  %159 = Relu(%222)\n",
      "  %225 = Conv[dilations = [1, 1], group = 1, kernel_shape = [3, 3], pads = [1, 1, 1, 1], strides = [1, 1]](%159, %226, %227)\n",
      "  %228 = Conv[dilations = [1, 1], group = 1, kernel_shape = [1, 1], pads = [0, 0, 0, 0], strides = [2, 2]](%156, %229, %230)\n",
      "  %164 = Add(%225, %228)\n",
      "  %165 = Relu(%164)\n",
      "  %231 = Conv[dilations = [1, 1], group = 1, kernel_shape = [3, 3], pads = [1, 1, 1, 1], strides = [1, 1]](%165, %232, %233)\n",
      "  %168 = Relu(%231)\n",
      "  %234 = Conv[dilations = [1, 1], group = 1, kernel_shape = [3, 3], pads = [1, 1, 1, 1], strides = [1, 1]](%168, %235, %236)\n",
      "  %171 = Add(%234, %165)\n",
      "  %172 = Relu(%171)\n",
      "  %237 = Conv[dilations = [1, 1], group = 1, kernel_shape = [3, 3], pads = [1, 1, 1, 1], strides = [2, 2]](%172, %238, %239)\n",
      "  %175 = Relu(%237)\n",
      "  %240 = Conv[dilations = [1, 1], group = 1, kernel_shape = [3, 3], pads = [1, 1, 1, 1], strides = [1, 1]](%175, %241, %242)\n",
      "  %243 = Conv[dilations = [1, 1], group = 1, kernel_shape = [1, 1], pads = [0, 0, 0, 0], strides = [2, 2]](%172, %244, %245)\n",
      "  %180 = Add(%240, %243)\n",
      "  %181 = Relu(%180)\n",
      "  %246 = Conv[dilations = [1, 1], group = 1, kernel_shape = [3, 3], pads = [1, 1, 1, 1], strides = [1, 1]](%181, %247, %248)\n",
      "  %184 = Relu(%246)\n",
      "  %249 = Conv[dilations = [1, 1], group = 1, kernel_shape = [3, 3], pads = [1, 1, 1, 1], strides = [1, 1]](%184, %250, %251)\n",
      "  %187 = Add(%249, %181)\n",
      "  %188 = Relu(%187)\n",
      "  %189 = GlobalAveragePool(%188)\n",
      "  %190 = Flatten[axis = 1](%189)\n",
      "  %191 = Gemm[alpha = 1, beta = 1, transB = 1](%190, %fc.weight, %fc.bias)\n",
      "  return %191\n",
      "}\n"
     ]
    }
   ],
   "source": [
    "# load the model with the onnx API \n",
    "onnx_model = onnx.load(\"Plant_classifier.onnx\")\n",
    "onnx.checker.check_model(onnx_model)\n",
    "# Print a human readable representation of the onnx graph\n",
    "print(onnx.helper.printable_graph(onnx_model.graph))"
   ]
  },
  {
   "cell_type": "code",
   "execution_count": null,
   "metadata": {
    "colab": {
     "base_uri": "https://localhost:8080/"
    },
    "id": "Fy42HOrFjrOu",
    "outputId": "ed0889e7-8397-4f0c-ce23-2d03a568301f"
   },
   "outputs": [
    {
     "data": {
      "text/plain": [
       "tensor([[[[0.5255, 0.5216, 0.5216,  ..., 0.8314, 0.8275, 0.7961],\n",
       "          [0.5020, 0.5216, 0.5529,  ..., 0.8353, 0.8431, 0.8392],\n",
       "          [0.4980, 0.5490, 0.5922,  ..., 0.7882, 0.8157, 0.8353],\n",
       "          ...,\n",
       "          [0.6588, 0.6627, 0.6471,  ..., 0.7529, 0.7490, 0.7961],\n",
       "          [0.6745, 0.6784, 0.6627,  ..., 0.7843, 0.7843, 0.8196],\n",
       "          [0.6784, 0.6824, 0.6745,  ..., 0.7961, 0.7882, 0.8118]],\n",
       "\n",
       "         [[0.4824, 0.4902, 0.4902,  ..., 0.7765, 0.7686, 0.7412],\n",
       "          [0.4706, 0.4902, 0.5137,  ..., 0.7804, 0.7882, 0.7765],\n",
       "          [0.4706, 0.5098, 0.5569,  ..., 0.7373, 0.7569, 0.7686],\n",
       "          ...,\n",
       "          [0.6235, 0.6275, 0.6157,  ..., 0.7098, 0.6980, 0.7333],\n",
       "          [0.6314, 0.6314, 0.6235,  ..., 0.7333, 0.7255, 0.7569],\n",
       "          [0.6353, 0.6314, 0.6275,  ..., 0.7451, 0.7373, 0.7569]],\n",
       "\n",
       "         [[0.4157, 0.4275, 0.4196,  ..., 0.6824, 0.6745, 0.6549],\n",
       "          [0.3922, 0.4078, 0.4275,  ..., 0.6824, 0.6941, 0.6863],\n",
       "          [0.3804, 0.4196, 0.4627,  ..., 0.6549, 0.6784, 0.6902],\n",
       "          ...,\n",
       "          [0.5686, 0.5725, 0.5569,  ..., 0.6353, 0.6275, 0.6667],\n",
       "          [0.5725, 0.5725, 0.5569,  ..., 0.6627, 0.6588, 0.6941],\n",
       "          [0.5765, 0.5725, 0.5686,  ..., 0.6745, 0.6627, 0.6941]]]])"
      ]
     },
     "execution_count": 43,
     "metadata": {
      "tags": []
     },
     "output_type": "execute_result"
    }
   ],
   "source": [
    "# Pre-processing an image to feed it as input in the model.\n",
    "# Point the Path to one of the images in your system\n",
    "IMAGE_PATH = \"/home/air/Desktop/EDEN-REPO/eden_library_notebooks/eden-library-datasets/pytorch-onnx/val/Cotton-100619-Healthy-zz-V1-20210225102300/DSC_0653.JPG\"\n",
    "img = Image.open(\n",
    "    IMAGE_PATH\n",
    ")  # Define an image path for inference.\n",
    "resize = transforms.Resize([224, 224])\n",
    "img = resize(img)\n",
    "to_tensor = transforms.ToTensor()\n",
    "img = to_tensor(img)\n",
    "img.unsqueeze_(0)"
   ]
  },
  {
   "cell_type": "code",
   "execution_count": null,
   "metadata": {
    "colab": {
     "base_uri": "https://localhost:8080/"
    },
    "id": "wTj6tn-7OsWD",
    "outputId": "4460b7f0-8bac-42ad-c7ce-fcb03b080d17"
   },
   "outputs": [
    {
     "name": "stdout",
     "output_type": "stream",
     "text": [
      "['Black nightsade-220519-Weed-zz-V1-20210225102034', 'Cotton-100619-Healthy-zz-V1-20210225102300', 'Tomato-240519-Healthy-zz-V1-20210225103740', 'Velvet leaf-220519-Weed-zz-V1-20210225104123']\n",
      "[array([[ 1.3752831,  1.7617769, -2.3463416, -1.4205171]], dtype=float32)] \n",
      "\n",
      "Model's prediction : Cotton-100619-Healthy-zz-V1-20210225102300\n"
     ]
    }
   ],
   "source": [
    "# Executing inference on the model\n",
    "sess = onnxruntime.InferenceSession(\"Plant_classifier.onnx\")\n",
    "\n",
    "\n",
    "def to_numpy(tensor):\n",
    "    return (\n",
    "        tensor.detach().cpu().numpy() if tensor.requires_grad else tensor.cpu().numpy()\n",
    "    )\n",
    "\n",
    "\n",
    "# compute ONNX Runtime output prediction\n",
    "sess_inputs = {sess.get_inputs()[0].name: to_numpy(img)}\n",
    "sess_outs = sess.run(None, sess_inputs)\n",
    "\n",
    "\n",
    "final_pred = np.argmax(np.array(sess_outs))\n",
    "print(class_names)\n",
    "print(sess_outs, \"\\n\")\n",
    "print(\"Model's prediction : {}\".format(class_names[final_pred]))"
   ]
  },
  {
   "cell_type": "markdown",
   "metadata": {
    "id": "dqhVkpKHbfCy"
   },
   "source": [
    "## Possible Extensions\n",
    "1. Use a different pre-trained network (for instance, InceptionNet).\n",
    "2. Try a different training approach where pre-trained weights are not loaded.\n",
    "3. Deploy the ONNX model somewhere else eg. cloud, edge device.\n",
    "3. Try different epochs and batch sizes.\n",
    "4. Try different augmentation techniques."
   ]
  },
  {
   "cell_type": "markdown",
   "metadata": {
    "id": "Nz7IYxN9Tlmo"
   },
   "source": [
    "## Bibliography\n",
    "\n",
    "Too, E.C., Yujian, L., Njuki, S., & Ying-chun, L. (2019). A comparative study of fine-tuning deep learning models for plant disease identification. Comput. Electron. Agric., 161, 272-279.\n",
    "\n",
    "Suh, H.K., IJsselmuiden, J., Hofstee, J.W., van Henten, E.J., (2018). Transfer learning for the classification of sugar beet and volunteer potato under field conditions. Biosystems Engineering; 174:50–65.\n",
    "\n",
    "Espejo-Garcia, B., Mylonas, N., Athanasakos, L., & Fountas, S., (2020). Improving\n",
    "Weeds Identification with a Repository of Agricultural Pre-trained Deep Neural\n",
    "Networks. Computers and Electronics in Agriculture; 175 (August).\n",
    "\n",
    "https://pytorch.org/tutorials/beginner/finetuning_torchvision_models_tutorial.html\n",
    "\n",
    "https://pytorch.org/tutorials/advanced/super_resolution_with_onnxruntime.html\n",
    "\n",
    "https://cloudblogs.microsoft.com/opensource/2019/05/22/onnx-runtime-machine-learning-inferencing-0-4-release/\n",
    "\n",
    "https://github.com/onnx/onnx\n",
    "\n",
    "https://www.oreilly.com/library/view/programming-pytorch-for/9781492045342/ch04.html"
   ]
  }
 ],
 "metadata": {
  "accelerator": "GPU",
  "colab": {
   "collapsed_sections": [],
   "name": "Copy of weeds_identification-transfer_learning-7.ipynb",
   "provenance": []
  },
  "kernelspec": {
   "display_name": "Python 3",
   "language": "python",
   "name": "python3"
  },
  "language_info": {
   "codemirror_mode": {
    "name": "ipython",
    "version": 3
   },
   "file_extension": ".py",
   "mimetype": "text/x-python",
   "name": "python",
   "nbconvert_exporter": "python",
   "pygments_lexer": "ipython3",
   "version": "3.7.10"
  },
  "widgets": {
   "application/vnd.jupyter.widget-state+json": {
    "2ea2870da6584c60bc33c66bd5077719": {
     "model_module": "@jupyter-widgets/controls",
     "model_name": "ProgressStyleModel",
     "state": {
      "_model_module": "@jupyter-widgets/controls",
      "_model_module_version": "1.5.0",
      "_model_name": "ProgressStyleModel",
      "_view_count": null,
      "_view_module": "@jupyter-widgets/base",
      "_view_module_version": "1.2.0",
      "_view_name": "StyleView",
      "bar_color": null,
      "description_width": "initial"
     }
    },
    "516ed6a3704249d580b9ff66f442d834": {
     "model_module": "@jupyter-widgets/controls",
     "model_name": "HTMLModel",
     "state": {
      "_dom_classes": [],
      "_model_module": "@jupyter-widgets/controls",
      "_model_module_version": "1.5.0",
      "_model_name": "HTMLModel",
      "_view_count": null,
      "_view_module": "@jupyter-widgets/controls",
      "_view_module_version": "1.5.0",
      "_view_name": "HTMLView",
      "description": "",
      "description_tooltip": null,
      "layout": "IPY_MODEL_ef6fe6f2b0534b9a8099562868e71f87",
      "placeholder": "​",
      "style": "IPY_MODEL_5fa532133b1e4b4e9656c83ab4b00d2d",
      "value": " 44.7M/44.7M [44:34&lt;00:00, 17.5kB/s]"
     }
    },
    "597e590352c143f7bd3d45a30d72ea88": {
     "model_module": "@jupyter-widgets/base",
     "model_name": "LayoutModel",
     "state": {
      "_model_module": "@jupyter-widgets/base",
      "_model_module_version": "1.2.0",
      "_model_name": "LayoutModel",
      "_view_count": null,
      "_view_module": "@jupyter-widgets/base",
      "_view_module_version": "1.2.0",
      "_view_name": "LayoutView",
      "align_content": null,
      "align_items": null,
      "align_self": null,
      "border": null,
      "bottom": null,
      "display": null,
      "flex": null,
      "flex_flow": null,
      "grid_area": null,
      "grid_auto_columns": null,
      "grid_auto_flow": null,
      "grid_auto_rows": null,
      "grid_column": null,
      "grid_gap": null,
      "grid_row": null,
      "grid_template_areas": null,
      "grid_template_columns": null,
      "grid_template_rows": null,
      "height": null,
      "justify_content": null,
      "justify_items": null,
      "left": null,
      "margin": null,
      "max_height": null,
      "max_width": null,
      "min_height": null,
      "min_width": null,
      "object_fit": null,
      "object_position": null,
      "order": null,
      "overflow": null,
      "overflow_x": null,
      "overflow_y": null,
      "padding": null,
      "right": null,
      "top": null,
      "visibility": null,
      "width": null
     }
    },
    "5fa532133b1e4b4e9656c83ab4b00d2d": {
     "model_module": "@jupyter-widgets/controls",
     "model_name": "DescriptionStyleModel",
     "state": {
      "_model_module": "@jupyter-widgets/controls",
      "_model_module_version": "1.5.0",
      "_model_name": "DescriptionStyleModel",
      "_view_count": null,
      "_view_module": "@jupyter-widgets/base",
      "_view_module_version": "1.2.0",
      "_view_name": "StyleView",
      "description_width": ""
     }
    },
    "8058e4f2252f43b3bfc80a843d617905": {
     "model_module": "@jupyter-widgets/controls",
     "model_name": "HBoxModel",
     "state": {
      "_dom_classes": [],
      "_model_module": "@jupyter-widgets/controls",
      "_model_module_version": "1.5.0",
      "_model_name": "HBoxModel",
      "_view_count": null,
      "_view_module": "@jupyter-widgets/controls",
      "_view_module_version": "1.5.0",
      "_view_name": "HBoxView",
      "box_style": "",
      "children": [
       "IPY_MODEL_a6390e52137a49ee9d981268a9cb3d68",
       "IPY_MODEL_516ed6a3704249d580b9ff66f442d834"
      ],
      "layout": "IPY_MODEL_597e590352c143f7bd3d45a30d72ea88"
     }
    },
    "a6390e52137a49ee9d981268a9cb3d68": {
     "model_module": "@jupyter-widgets/controls",
     "model_name": "FloatProgressModel",
     "state": {
      "_dom_classes": [],
      "_model_module": "@jupyter-widgets/controls",
      "_model_module_version": "1.5.0",
      "_model_name": "FloatProgressModel",
      "_view_count": null,
      "_view_module": "@jupyter-widgets/controls",
      "_view_module_version": "1.5.0",
      "_view_name": "ProgressView",
      "bar_style": "success",
      "description": "100%",
      "description_tooltip": null,
      "layout": "IPY_MODEL_b190165fbff149b69b490ca8ffa437b9",
      "max": 46830571,
      "min": 0,
      "orientation": "horizontal",
      "style": "IPY_MODEL_2ea2870da6584c60bc33c66bd5077719",
      "value": 46830571
     }
    },
    "b190165fbff149b69b490ca8ffa437b9": {
     "model_module": "@jupyter-widgets/base",
     "model_name": "LayoutModel",
     "state": {
      "_model_module": "@jupyter-widgets/base",
      "_model_module_version": "1.2.0",
      "_model_name": "LayoutModel",
      "_view_count": null,
      "_view_module": "@jupyter-widgets/base",
      "_view_module_version": "1.2.0",
      "_view_name": "LayoutView",
      "align_content": null,
      "align_items": null,
      "align_self": null,
      "border": null,
      "bottom": null,
      "display": null,
      "flex": null,
      "flex_flow": null,
      "grid_area": null,
      "grid_auto_columns": null,
      "grid_auto_flow": null,
      "grid_auto_rows": null,
      "grid_column": null,
      "grid_gap": null,
      "grid_row": null,
      "grid_template_areas": null,
      "grid_template_columns": null,
      "grid_template_rows": null,
      "height": null,
      "justify_content": null,
      "justify_items": null,
      "left": null,
      "margin": null,
      "max_height": null,
      "max_width": null,
      "min_height": null,
      "min_width": null,
      "object_fit": null,
      "object_position": null,
      "order": null,
      "overflow": null,
      "overflow_x": null,
      "overflow_y": null,
      "padding": null,
      "right": null,
      "top": null,
      "visibility": null,
      "width": null
     }
    },
    "ef6fe6f2b0534b9a8099562868e71f87": {
     "model_module": "@jupyter-widgets/base",
     "model_name": "LayoutModel",
     "state": {
      "_model_module": "@jupyter-widgets/base",
      "_model_module_version": "1.2.0",
      "_model_name": "LayoutModel",
      "_view_count": null,
      "_view_module": "@jupyter-widgets/base",
      "_view_module_version": "1.2.0",
      "_view_name": "LayoutView",
      "align_content": null,
      "align_items": null,
      "align_self": null,
      "border": null,
      "bottom": null,
      "display": null,
      "flex": null,
      "flex_flow": null,
      "grid_area": null,
      "grid_auto_columns": null,
      "grid_auto_flow": null,
      "grid_auto_rows": null,
      "grid_column": null,
      "grid_gap": null,
      "grid_row": null,
      "grid_template_areas": null,
      "grid_template_columns": null,
      "grid_template_rows": null,
      "height": null,
      "justify_content": null,
      "justify_items": null,
      "left": null,
      "margin": null,
      "max_height": null,
      "max_width": null,
      "min_height": null,
      "min_width": null,
      "object_fit": null,
      "object_position": null,
      "order": null,
      "overflow": null,
      "overflow_x": null,
      "overflow_y": null,
      "padding": null,
      "right": null,
      "top": null,
      "visibility": null,
      "width": null
     }
    }
   }
  }
 },
 "nbformat": 4,
 "nbformat_minor": 1
}
